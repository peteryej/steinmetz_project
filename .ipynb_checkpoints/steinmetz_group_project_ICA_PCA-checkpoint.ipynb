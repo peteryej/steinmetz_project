{
 "cells": [
  {
   "cell_type": "markdown",
   "metadata": {
    "colab_type": "text",
    "id": "bEqdz1ZUMaj1"
   },
   "source": [
    "## Loading of Steinmetz data\n",
    "\n",
    "includes some visualizations"
   ]
  },
  {
   "cell_type": "code",
   "execution_count": 1,
   "metadata": {
    "cellView": "both",
    "colab": {},
    "colab_type": "code",
    "id": "TLWjKq8bLDqm"
   },
   "outputs": [],
   "source": [
    "#@title Data retrieval\n",
    "import os, requests\n",
    "\n",
    "fname = []\n",
    "for j in range(3):\n",
    "    fname.append('steinmetz_part%d.npz'%j)\n",
    "url = [\"https://osf.io/agvxh/download\"]\n",
    "url.append(\"https://osf.io/uv3mw/download\")\n",
    "url.append(\"https://osf.io/ehmw2/download\")\n",
    "\n",
    "for j in range(len(url)):\n",
    "    if not os.path.isfile(fname[j]):\n",
    "        try:\n",
    "            r = requests.get(url[j])\n",
    "        except requests.ConnectionError:\n",
    "            print(\"!!! Failed to download data !!!\")\n",
    "        else:\n",
    "            if r.status_code != requests.codes.ok:\n",
    "                print(\"!!! Failed to download data !!!\")\n",
    "            else:\n",
    "                with open(fname[j], \"wb\") as fid:\n",
    "                    fid.write(r.content)\n"
   ]
  },
  {
   "cell_type": "code",
   "execution_count": 2,
   "metadata": {
    "colab": {},
    "colab_type": "code",
    "id": "G9dZK2QoHDkC"
   },
   "outputs": [],
   "source": [
    "#@title Data retrieval for lfp and spike times\n",
    "import os, requests\n",
    "\n",
    "fname = ['steinmetz_st.npz']\n",
    "fname.append('steinmetz_wav.npz')\n",
    "fname.append('steinmetz_lfp.npz')\n",
    "\n",
    "url = [\"https://osf.io/4bjns/download\"]\n",
    "url.append(\"https://osf.io/ugm9v/download\")\n",
    "url.append(\"https://osf.io/kx3v9/download\")\n",
    "\n",
    "for j in range(len(url)):\n",
    "    if not os.path.isfile(fname[j]):\n",
    "        try:\n",
    "            r = requests.get(url[j])\n",
    "        except requests.ConnectionError:\n",
    "            print(\"!!! Failed to download data !!!\")\n",
    "        else:\n",
    "            if r.status_code != requests.codes.ok:\n",
    "                print(\"!!! Failed to download data !!!\")\n",
    "            else:\n",
    "                with open(fname[j], \"wb\") as fid:\n",
    "                    fid.write(r.content)"
   ]
  },
  {
   "cell_type": "code",
   "execution_count": 3,
   "metadata": {
    "colab": {},
    "colab_type": "code",
    "id": "sffzC_hyLgWZ"
   },
   "outputs": [],
   "source": [
    "#@title Data loading\n",
    "import numpy as np\n",
    "\n",
    "alldat = np.array([])\n",
    "for j in range(len(fname)):\n",
    "    alldat = np.hstack((alldat, np.load('steinmetz_part%d.npz'%j, allow_pickle=True)['dat']))\n"
   ]
  },
  {
   "cell_type": "code",
   "execution_count": null,
   "metadata": {
    "colab": {},
    "colab_type": "code",
    "id": "q64CYNqUHQdE"
   },
   "outputs": [],
   "source": [
    "dat_LFP = np.load('steinmetz_lfp.npz', allow_pickle=True)['dat']\n",
    "dat_ST = np.load('steinmetz_st.npz', allow_pickle=True)['dat']"
   ]
  },
  {
   "cell_type": "code",
   "execution_count": 11,
   "metadata": {
    "colab": {
     "base_uri": "https://localhost:8080/",
     "height": 54
    },
    "colab_type": "code",
    "id": "VaQFszqFr9pe",
    "outputId": "7e6fddf6-69ac-4b00-a73a-e6bf39d6d055"
   },
   "outputs": [
    {
     "name": "stdout",
     "output_type": "stream",
     "text": [
      "dict_keys(['spks', 'wheel', 'pupil', 'response', 'response_time', 'bin_size', 'stim_onset', 'contrast_right', 'contrast_left', 'brain_area', 'feedback_time', 'feedback_type', 'gocue', 'mouse_name', 'date_exp', 'trough_to_peak', 'active_trials', 'contrast_left_passive', 'contrast_right_passive', 'spks_passive', 'pupil_passive', 'wheel_passive', 'prev_reward', 'ccf', 'ccf_axes', 'cellid_orig', 'reaction_time', 'face', 'face_passive'])\n"
     ]
    }
   ],
   "source": [
    "# select just one of the recordings here. 11 is nice because it has some neurons in vis ctx. \n",
    "dat = alldat[11]\n",
    "print(dat.keys())"
   ]
  },
  {
   "cell_type": "markdown",
   "metadata": {
    "colab_type": "text",
    "id": "5K7UT7dyj_6R"
   },
   "source": [
    "`alldat` contains 39 sessions from 10 mice, data from Steinmetz et al, 2019. Time bins for all measurements are 10ms, starting 500ms before stimulus onset. The mouse had to determine which side has the highest contrast. For each `dat = alldat[k]`, you have the following fields:\n",
    "\n",
    "* `dat['mouse_name']`: mouse name\n",
    "* `dat['date_exp']`: when a session was performed\n",
    "* `dat['spks']`: neurons by trials by time bins.    \n",
    "* `dat['brain_area']`: brain area for each neuron recorded. \n",
    "* `dat['contrast_right']`: contrast level for the right stimulus, which is always contralateral to the recorded brain areas.\n",
    "* `dat['contrast_left']`: contrast level for left stimulus. \n",
    "* `dat['gocue']`: when the go cue sound was played. \n",
    "* `dat['response_times']`: when the response was registered, which has to be after the go cue. The mouse can turn the wheel before the go cue (and nearly always does!), but the stimulus on the screen won't move before the go cue.  \n",
    "* `dat['response']`: which side the response was (`-1`, `0`, `1`). When the right-side stimulus had higher contrast, the correct choice was `-1`. `0` is a no go response. \n",
    "* `dat['feedback_time']`: when feedback was provided. \n",
    "* `dat['feedback_type']`: if the feedback was positive (`+1`, reward) or negative (`-1`, white noise burst).  \n",
    "* `dat['wheel']`: exact position of the wheel that the mice uses to make a response, binned at `10ms`. \n",
    "* `dat['pupil']`: pupil area  (noisy, because pupil is very small) + pupil horizontal and vertical position. \n",
    "* `dat['lfp']`: recording of the local field potential in each brain area from this experiment, binned at `10ms`.\n",
    "* `dat['brain_area_lfp']`: brain area names for the LFP channels. \n",
    "* `dat['trough_to_peak']`: measures the width of the action potential waveform for each neuron. Widths `<=10` samples are \"putative fast spiking neurons\". \n",
    "* `dat['waveform_w']`: temporal components of spike waveforms. `w@u` reconstructs the time by channels action potential shape. \n",
    "* `dat['waveform_u]`: spatial components of spike waveforms.\n",
    "* `dat['%X%_passive']`: same as above for `X` = {`spks`, `lfp`, `pupil`, `wheel`, `contrast_left`, `contrast_right`} but for  passive trials at the end of the recording when the mouse was no longer engaged and stopped making responses. \n",
    "\n",
    "\n"
   ]
  },
  {
   "cell_type": "code",
   "execution_count": 6,
   "metadata": {
    "colab": {},
    "colab_type": "code",
    "id": "raBVOEWgUK_B"
   },
   "outputs": [],
   "source": [
    "#@title import matplotlib and set defaults\n",
    "from matplotlib import rcParams \n",
    "from matplotlib import pyplot as plt\n",
    "rcParams['figure.figsize'] = [20, 4]\n",
    "rcParams['font.size'] =15\n",
    "rcParams['axes.spines.top'] = False\n",
    "rcParams['axes.spines.right'] = False\n",
    "rcParams['figure.autolayout'] = True"
   ]
  },
  {
   "cell_type": "code",
   "execution_count": 7,
   "metadata": {
    "colab": {
     "base_uri": "https://localhost:8080/",
     "height": 287
    },
    "colab_type": "code",
    "id": "mmOarX5w16CR",
    "outputId": "2d5127fc-d6a3-4af2-87c3-a088892a207b"
   },
   "outputs": [
    {
     "data": {
      "image/png": "[encoded data removed]",
      "text/plain": [
       "<Figure size 1440x288 with 1 Axes>"
      ]
     },
     "metadata": {
      "needs_background": "light"
     },
     "output_type": "display_data"
    }
   ],
   "source": [
    "#@title basic plots of population average\n",
    "\n",
    "dt = dat['bin_size'] # binning at 10 ms\n",
    "NT = dat['spks'].shape[-1]\n",
    "\n",
    "ax = plt.subplot(1,5,1)\n",
    "response = dat['response'] # right - nogo - left (-1, 0, 1)\n",
    "vis_right = dat['contrast_right'] # 0 - low - high\n",
    "vis_left = dat['contrast_left'] # 0 - low - high\n",
    "plt.plot(dt * np.arange(NT), 1/dt * dat['spks'][:,response>=0].mean(axis=(0,1))) # left responses\n",
    "plt.plot(dt * np.arange(NT), 1/dt * dat['spks'][:,response<0].mean(axis=(0,1))) # right responses\n",
    "plt.plot(dt * np.arange(NT), 1/dt * dat['spks'][:,vis_right>0].mean(axis=(0,1))) # stimulus on the right\n",
    "plt.plot(dt * np.arange(NT), 1/dt * dat['spks'][:,vis_right==0].mean(axis=(0,1))) # no stimulus on the right\n",
    "\n",
    "plt.legend(['left resp', 'right resp', 'right stim', 'no right stim'], fontsize=12)\n",
    "ax.set(xlabel  = 'time (sec)', ylabel = 'firing rate (Hz)');"
   ]
  },
  {
   "cell_type": "code",
   "execution_count": 55,
   "metadata": {},
   "outputs": [],
   "source": [
    "\n",
    "\n",
    "\n",
    "# gocue_time = (dat['gocue']*100+50).astype(int).flatten()\n",
    "# print(gocue_time[:10])\n",
    "\n",
    "\n",
    "# t_range = np.arange(-half_time_wind, half_time_wind)\n",
    "\n",
    "# gocue_slice =dat['spks'][:,:, gocue_time[:,None] + t_range]\n",
    "# print(gocue_slice.shape)\n",
    "\n",
    "half_time_wind = 20\n",
    "\n",
    "def get_gocue_slice(dat, half_time_wind=20):\n",
    "    all_gocue_slice  = []\n",
    "    for i in range(dat['spks'].shape[1]):\n",
    "        gocue_time = (dat['gocue']*100+50).astype(int).flatten()\n",
    "        gocue_slice =dat['spks'][:,i, gocue_time[i]-half_time_wind:gocue_time[i]+half_time_wind ]\n",
    "        all_gocue_slice.append(gocue_slice)\n",
    "\n",
    "    all_gocue_slice = np.stack(all_gocue_slice, axis=1)\n",
    "    return all_gocue_slice\n",
    "\n",
    "# all_gocue_slice = get_gocue_slice(dat, half_time_wind)\n",
    "# print(all_gocue_slice.shape)\n",
    "\n",
    "def get_gocue_slice_for_x(dat, x, half_time_wind=20):\n",
    "    # dat is in shape (n_neurons, n_trials, n_time_bins)\n",
    "    # x is in shape (n_trials, n_time_bins, comps)\n",
    "    all_gocue_slice  = []\n",
    "    for i in range(dat['spks'].shape[1]):\n",
    "        gocue_time = (dat['gocue']*100+50).astype(int).flatten()\n",
    "        gocue_slice = x[i, gocue_time[i]-half_time_wind:gocue_time[i]+half_time_wind ]\n",
    "        all_gocue_slice.append(gocue_slice)\n",
    "\n",
    "    all_gocue_slice = np.stack(all_gocue_slice, axis=0)\n",
    "    return all_gocue_slice\n"
   ]
  },
  {
   "cell_type": "code",
   "execution_count": 27,
   "metadata": {},
   "outputs": [
    {
     "name": "stdout",
     "output_type": "stream",
     "text": [
      "(698, 340, 40)\n"
     ]
    }
   ],
   "source": [
    "\n",
    "\n",
    "stimulus_onset_slice = dat['spks'][:,:,50-half_time_wind:50+half_time_wind]\n",
    "print(stimulus_onset_slice.shape)\n"
   ]
  },
  {
   "cell_type": "markdown",
   "metadata": {
    "colab_type": "text",
    "id": "lwK48Q0ePbkj"
   },
   "source": [
    "## Run dimension reduction and decoding decisions\n",
    "\n",
    "\n",
    "By doing dimension reduction and decoding decisions, we can find out what brain regions contribute the most to the decision making process.\n",
    "\n",
    "After doing dimension reduction, we can plot the reduced dimension time series data to check how the traces of different decisions differ.\n",
    "\n"
   ]
  },
  {
   "cell_type": "markdown",
   "metadata": {
    "colab_type": "text",
    "id": "SZwwgq6KPqTW"
   },
   "source": [
    "## Dimension Reduction"
   ]
  },
  {
   "cell_type": "code",
   "execution_count": 8,
   "metadata": {
    "colab": {
     "base_uri": "https://localhost:8080/",
     "height": 51
    },
    "colab_type": "code",
    "id": "g-fX7pM2PavU",
    "outputId": "43e1d90b-8842-4ebb-a7fb-f37dc2005723"
   },
   "outputs": [
    {
     "name": "stdout",
     "output_type": "stream",
     "text": [
      "(698, 340, 25)\n",
      "neurons, trials, time_bins:  (698, 340, 25)\n"
     ]
    }
   ],
   "source": [
    "# show the input data\n",
    "\n",
    "all_spikes = dat['spks']\n",
    "binned_multiplier = 1\n",
    "NN = all_spikes.shape[0] # number of neurons\n",
    "N_trials = all_spikes.shape[1] # number of trials\n",
    "N_time = all_spikes.shape[2] # number of time_bins\n",
    "\n",
    "# bin data into 100ms bins\n",
    "binned_multiplier = 10\n",
    "all_spikes_bined = all_spikes.reshape(NN, N_trials, -1, binned_multiplier)\n",
    "all_spikes_bined = np.sum(all_spikes_bined, axis=-1)\n",
    "print(all_spikes_bined.shape)\n",
    "all_spikes = all_spikes_bined\n",
    "\n",
    "print('neurons, trials, time_bins: ', all_spikes.shape)\n",
    "\n",
    "# neurons, trials, time_bins\n",
    "NN = all_spikes.shape[0] # number of neurons\n",
    "N_trials = all_spikes.shape[1] # number of trials\n",
    "N_time = all_spikes.shape[2] # number of time_bins\n",
    "\n"
   ]
  },
  {
   "cell_type": "code",
   "execution_count": null,
   "metadata": {
    "colab": {
     "base_uri": "https://localhost:8080/",
     "height": 85
    },
    "colab_type": "code",
    "id": "eSzdEoL2QSAX",
    "outputId": "b303ecb5-686f-4567-ba8e-80e6d699a299"
   },
   "outputs": [
    {
     "name": "stdout",
     "output_type": "stream",
     "text": [
      "go_cues:  (340, 1)\n",
      "response_times:  (340, 1)\n",
      "131\n",
      "(2720, 698)\n"
     ]
    }
   ],
   "source": [
    "# only get the time between the stimulus onset and the go cue time\n",
    "\n",
    "go_cues = dat['gocue']\n",
    "print('go_cues: ', go_cues.shape)\n",
    "\n",
    "response_times = dat['response_time']\n",
    "print('response_times: ', response_times.shape)\n",
    "\n",
    "# get the max time length\n",
    "stim_onset = 51\n",
    "max_len = int(np.ceil(100*np.max(go_cues))) + stim_onset\n",
    "print(max_len)\n",
    "\n",
    "data = np.reshape(all_spikes[:,:,stim_onset//binned_multiplier:max_len//binned_multiplier], (NN, -1)).T \n",
    "print(data.shape)\n",
    "\n"
   ]
  },
  {
   "cell_type": "code",
   "execution_count": 6,
   "metadata": {
    "colab": {
     "base_uri": "https://localhost:8080/",
     "height": 51
    },
    "colab_type": "code",
    "id": "OUoAQLXFa5rJ",
    "outputId": "f091ea0c-1417-4fc9-b6c1-423d29c46d67"
   },
   "outputs": [],
   "source": [
    "# get rid of neurons that don't fire for more than half of the trials \n",
    "\n",
    "# def get_rid_of_inactive_neurons(all_spikes):\n",
    "#     int_data = np.sum(all_spikes, axis=-1)\n",
    "#     # print('int_data: ', int_data.shape)\n",
    "#     N_trials = all_spikes.shape[1]\n",
    "#     n_half_trails = N_trials // 2\n",
    "#     select_inds = []\n",
    "#     for i, neuron in enumerate(int_data):\n",
    "#         if np.count_nonzero(neuron) > n_half_trails:\n",
    "#             select_inds.append(i)\n",
    "#     return select_inds\n",
    "\n",
    "\n",
    "# get rid of inactive neurons that fires less than 20 for more than half of the trials \n",
    "\n",
    "def get_rid_of_inactive_neurons(all_spikes, fire_num_limit:int=20):\n",
    "    int_data = np.sum(all_spikes, axis=-1)\n",
    "    # print('int_data: ', int_data.shape)\n",
    "    N_trials = all_spikes.shape[1]\n",
    "    n_half_trails = N_trials // 2\n",
    "    select_inds = []\n",
    "    for i, neuron in enumerate(int_data):\n",
    "        if np.sum(neuron<=fire_num_limit) > n_half_trails:\n",
    "            select_inds.append(i)\n",
    "    return select_inds\n"
   ]
  },
  {
   "cell_type": "code",
   "execution_count": 12,
   "metadata": {},
   "outputs": [
    {
     "name": "stdout",
     "output_type": "stream",
     "text": [
      "selected:  470\n",
      "(8500, 698)\n",
      "data:  (8500, 470)\n"
     ]
    }
   ],
   "source": [
    "\n",
    "select_inds = get_rid_of_inactive_neurons(all_spikes)\n",
    "\n",
    "# select_inds = get_rid_of_inactive_neurons(all_spikes[:,:,stim_onset//binned_multiplier:max_len//binned_multiplier])\n",
    "print('selected: ', len(select_inds))\n",
    "\n",
    "data = np.reshape(all_spikes, (NN, -1)).T \n",
    "print(data.shape)\n",
    "\n",
    "data = data[:,select_inds]       \n",
    "print('data: ', data.shape)\n"
   ]
  },
  {
   "cell_type": "markdown",
   "metadata": {
    "colab_type": "text",
    "id": "_wKL1ay4P5U2"
   },
   "source": [
    "### DR - ICA"
   ]
  },
  {
   "cell_type": "code",
   "execution_count": 13,
   "metadata": {
    "colab": {
     "base_uri": "https://localhost:8080/",
     "height": 34
    },
    "colab_type": "code",
    "id": "RcczGZ3WP3z1",
    "outputId": "f13d9967-0fbe-42a4-cd44-5357b6ee53de"
   },
   "outputs": [
    {
     "name": "stdout",
     "output_type": "stream",
     "text": [
      "pcs_all_time:  (3, 340, 25)\n"
     ]
    }
   ],
   "source": [
    "# use ICA \n",
    "\n",
    "from sklearn.decomposition import FastICA\n",
    "\n",
    "ica_comp = 3\n",
    "ica_transformer = FastICA(n_components=ica_comp, random_state=0)\n",
    "ica_model = ica_transformer.fit(data)\n",
    "# X_transformed_ica = transformer.fit_transform(data)\n",
    "# print(X_transformed_ica.shape)\n",
    "\n",
    "W_ica = ica_model.components_\n",
    "pcs_all_time = W_ica @ np.reshape(all_spikes[select_inds], (len(select_inds),-1))\n",
    "pcs_all_time = np.reshape(pcs_all_time, (ica_comp, N_trials, -1))\n",
    "print('pcs_all_time: ', pcs_all_time.shape)\n"
   ]
  },
  {
   "cell_type": "markdown",
   "metadata": {
    "colab_type": "text",
    "id": "jK0Bs8ud4jlU"
   },
   "source": [
    "### DR - PCA"
   ]
  },
  {
   "cell_type": "code",
   "execution_count": 30,
   "metadata": {},
   "outputs": [],
   "source": [
    "from sklearn.decomposition import PCA \n",
    "\n"
   ]
  },
  {
   "cell_type": "code",
   "execution_count": null,
   "metadata": {
    "colab": {},
    "colab_type": "code",
    "id": "I7vV9UnH4hoh"
   },
   "outputs": [],
   "source": [
    "# use PCA\n",
    "\n",
    "# PCA model 1: start with specifying 5 PCs\n",
    "\n",
    "pca_model = PCA(n_components = 5).fit(data)\n",
    "W = pca_model.components_\n",
    "print('fit model, W: ', W.shape)\n",
    "\n",
    "# project entire trial onto new PCs \n",
    "pc_10ms = W @ np.reshape(dat['spks'], (NN,-1)) \n",
    "print('pc_10ms', pc_10ms.shape)\n",
    "print('original data dimensions: ', (np.reshape(dat['spks'], (NN,-1))).shape)\n",
    "\n",
    "pc_10ms_3d = np.reshape(pc_10ms, (5, -1, NT))\n",
    "print('pc_10ms_3d dimensions:', pc_10ms_3d.shape)\n",
    "\n"
   ]
  },
  {
   "cell_type": "code",
   "execution_count": null,
   "metadata": {
    "colab": {},
    "colab_type": "code",
    "id": "G9wyqHcs4nJ_"
   },
   "outputs": [],
   "source": [
    "# check variance explained\n",
    "# print(pca_model.explained_variance_ratio_)\n",
    "print('% Variance explained by first 5 PCs: ', np.sum(pca_model.explained_variance_ratio_))\n",
    "ax = plt.subplot(1,5,1)\n",
    "plt.bar(np.arange(1,6),pca_model.explained_variance_ratio_)\n",
    "plt.title('% Variance Explained by first 5 PCs' )\n",
    "ax.set(xlabel  = 'PC', ylabel = 'Var. Explained (%)');\n",
    "\n",
    "# model 1: 5 components account only for a minimal amount of variance: ~7.5%"
   ]
  },
  {
   "cell_type": "code",
   "execution_count": null,
   "metadata": {
    "colab": {},
    "colab_type": "code",
    "id": "KoFS-n1A4t0j"
   },
   "outputs": [],
   "source": [
    "# try PCA model 2\n",
    "\n",
    "pca_model2 = PCA(n_components = 0.9).fit(data)\n",
    "print('# of components needed to explain 90% variance: ', pca_model2.n_components_) # to account for 90% variance, we need 278 PCs. --> next step, break down into brain regions?\n",
    "print('# of unique brain regions in this session: ', len(np.unique(dat['brain_area']))-1)\n",
    "# print('unique brain regions in this session: ', np.unique(dat['brain_area']))"
   ]
  },
  {
   "cell_type": "code",
   "execution_count": null,
   "metadata": {
    "colab": {},
    "colab_type": "code",
    "id": "WxNTQQHO4vOV"
   },
   "outputs": [],
   "source": [
    "# plot variance explained by each PC\n",
    "\n",
    "ax = plt.subplot(1,5,1)\n",
    "plt.plot(pca_model2.explained_variance_ratio_)\n",
    "plt.title('% Variance explained by PCA model 2' )\n",
    "ax.set(xlabel  = 'PC', ylabel = 'Var. Explained (%)');"
   ]
  },
  {
   "cell_type": "markdown",
   "metadata": {
    "colab_type": "text",
    "id": "MnuuYuGQMiN2"
   },
   "source": [
    "## Visualizing the dimension reduced time series data"
   ]
  },
  {
   "cell_type": "markdown",
   "metadata": {
    "colab_type": "text",
    "id": "GPNKrhU9Q47A"
   },
   "source": [
    "## Decoding decision"
   ]
  },
  {
   "cell_type": "code",
   "execution_count": null,
   "metadata": {
    "colab": {
     "base_uri": "https://localhost:8080/",
     "height": 102
    },
    "colab_type": "code",
    "id": "x0ABBpskQx9z",
    "outputId": "330be586-7208-46d9-e28b-440ca046854f"
   },
   "outputs": [
    {
     "name": "stdout",
     "output_type": "stream",
     "text": [
      "(340,)\n",
      "left trials:  141\n",
      "right trials:  135\n",
      "no response trials:  64\n",
      "(276,)\n"
     ]
    }
   ],
   "source": [
    "# prepare the y labels for the x input\n",
    "\n",
    "choice_responses = dat['response']\n",
    "print(choice_responses.shape)\n",
    "\n",
    "print('left trials: ', len(np.where(choice_responses < 0)[0]))\n",
    "print('right trials: ', len(np.where(choice_responses > 0)[0]))\n",
    "print('no response trials: ', len(np.where(choice_responses == 0)[0]))\n",
    "\n",
    "idxs_left = np.where(choice_responses < 0)[0]\n",
    "idxs_right = np.where(choice_responses > 0)[0]\n",
    "\n",
    "idxs = np.append(idxs_left, idxs_right)\n",
    "\n",
    "Y = choice_responses[idxs]\n",
    "print(Y.shape)\n"
   ]
  },
  {
   "cell_type": "markdown",
   "metadata": {
    "colab_type": "text",
    "id": "zmBsb9BgMxFt"
   },
   "source": [
    "### Visualize ICA components"
   ]
  },
  {
   "cell_type": "code",
   "execution_count": 92,
   "metadata": {
    "scrolled": true
   },
   "outputs": [
    {
     "name": "stdout",
     "output_type": "stream",
     "text": [
      "reward len:  73\n",
      "noreward len:  141\n",
      "X_transformed_ica_viz:  (214, 25, 3)\n",
      "finished sess 0\n",
      "reward len:  92\n",
      "noreward len:  159\n",
      "X_transformed_ica_viz:  (251, 25, 3)\n",
      "finished sess 1\n",
      "reward len:  77\n",
      "noreward len:  151\n",
      "X_transformed_ica_viz:  (228, 25, 3)\n",
      "finished sess 2\n",
      "reward len:  83\n",
      "noreward len:  166\n",
      "X_transformed_ica_viz:  (249, 25, 3)\n",
      "finished sess 3\n",
      "reward len:  86\n",
      "noreward len:  168\n",
      "X_transformed_ica_viz:  (254, 25, 3)\n",
      "finished sess 4\n",
      "reward len:  75\n",
      "noreward len:  215\n",
      "X_transformed_ica_viz:  (290, 25, 3)\n",
      "finished sess 5\n",
      "reward len:  83\n",
      "noreward len:  169\n",
      "X_transformed_ica_viz:  (252, 25, 3)\n",
      "finished sess 6\n",
      "reward len:  89\n",
      "noreward len:  161\n",
      "X_transformed_ica_viz:  (250, 25, 3)\n",
      "finished sess 7\n",
      "reward len:  117\n",
      "noreward len:  255\n",
      "X_transformed_ica_viz:  (372, 25, 3)\n",
      "finished sess 8\n"
     ]
    },
    {
     "name": "stderr",
     "output_type": "stream",
     "text": [
      "/Users/peteryej/miniconda3/envs/ctrldev/lib/python3.6/site-packages/sklearn/decomposition/_fastica.py:120: ConvergenceWarning: FastICA did not converge. Consider increasing tolerance or the maximum number of iterations.\n",
      "  ConvergenceWarning)\n"
     ]
    },
    {
     "name": "stdout",
     "output_type": "stream",
     "text": [
      "reward len:  170\n",
      "noreward len:  277\n",
      "X_transformed_ica_viz:  (447, 25, 3)\n",
      "finished sess 9\n",
      "reward len:  70\n",
      "noreward len:  272\n",
      "X_transformed_ica_viz:  (342, 25, 3)\n",
      "finished sess 10\n",
      "reward len:  89\n",
      "noreward len:  251\n",
      "X_transformed_ica_viz:  (340, 25, 3)\n",
      "finished sess 11\n",
      "reward len:  61\n",
      "noreward len:  239\n",
      "X_transformed_ica_viz:  (300, 25, 3)\n",
      "finished sess 12\n",
      "reward len:  82\n",
      "noreward len:  186\n",
      "X_transformed_ica_viz:  (268, 25, 3)\n",
      "finished sess 13\n",
      "reward len:  95\n",
      "noreward len:  309\n",
      "X_transformed_ica_viz:  (404, 25, 3)\n",
      "finished sess 14\n",
      "reward len:  79\n",
      "noreward len:  201\n",
      "X_transformed_ica_viz:  (280, 25, 3)\n",
      "finished sess 15\n",
      "reward len:  38\n",
      "noreward len:  186\n",
      "X_transformed_ica_viz:  (224, 25, 3)\n",
      "finished sess 16\n",
      "reward len:  69\n",
      "noreward len:  247\n",
      "X_transformed_ica_viz:  (316, 25, 3)\n",
      "finished sess 17\n",
      "reward len:  105\n",
      "noreward len:  142\n",
      "X_transformed_ica_viz:  (247, 25, 3)\n",
      "finished sess 18\n",
      "reward len:  96\n",
      "noreward len:  139\n",
      "X_transformed_ica_viz:  (235, 25, 3)\n",
      "finished sess 19\n",
      "reward len:  58\n",
      "noreward len:  66\n",
      "X_transformed_ica_viz:  (124, 25, 3)\n",
      "finished sess 20\n",
      "reward len:  133\n",
      "noreward len:  311\n",
      "X_transformed_ica_viz:  (444, 25, 3)\n",
      "finished sess 21\n",
      "reward len:  49\n",
      "noreward len:  102\n",
      "X_transformed_ica_viz:  (151, 25, 3)\n",
      "finished sess 22\n",
      "reward len:  78\n",
      "noreward len:  109\n",
      "X_transformed_ica_viz:  (187, 25, 3)\n",
      "finished sess 23\n",
      "reward len:  73\n",
      "noreward len:  188\n",
      "X_transformed_ica_viz:  (261, 25, 3)\n",
      "finished sess 24\n",
      "reward len:  48\n",
      "noreward len:  130\n",
      "X_transformed_ica_viz:  (178, 25, 3)\n",
      "finished sess 25\n",
      "reward len:  94\n",
      "noreward len:  159\n",
      "X_transformed_ica_viz:  (253, 25, 3)\n",
      "finished sess 26\n",
      "reward len:  57\n",
      "noreward len:  85\n",
      "X_transformed_ica_viz:  (142, 25, 3)\n",
      "finished sess 27\n",
      "reward len:  53\n",
      "noreward len:  75\n",
      "X_transformed_ica_viz:  (128, 25, 3)\n",
      "finished sess 28\n",
      "reward len:  71\n",
      "noreward len:  72\n",
      "X_transformed_ica_viz:  (143, 25, 3)\n",
      "finished sess 29\n",
      "reward len:  73\n",
      "noreward len:  164\n",
      "X_transformed_ica_viz:  (237, 25, 3)\n",
      "finished sess 30\n",
      "reward len:  74\n",
      "noreward len:  186\n",
      "X_transformed_ica_viz:  (260, 25, 3)\n",
      "finished sess 31\n",
      "reward len:  62\n",
      "noreward len:  129\n",
      "X_transformed_ica_viz:  (191, 25, 3)\n",
      "finished sess 32\n"
     ]
    },
    {
     "name": "stderr",
     "output_type": "stream",
     "text": [
      "/Users/peteryej/miniconda3/envs/ctrldev/lib/python3.6/site-packages/sklearn/decomposition/_fastica.py:120: ConvergenceWarning: FastICA did not converge. Consider increasing tolerance or the maximum number of iterations.\n",
      "  ConvergenceWarning)\n"
     ]
    },
    {
     "name": "stdout",
     "output_type": "stream",
     "text": [
      "reward len:  120\n",
      "noreward len:  176\n",
      "X_transformed_ica_viz:  (296, 25, 3)\n",
      "finished sess 33\n",
      "reward len:  71\n",
      "noreward len:  240\n",
      "X_transformed_ica_viz:  (311, 25, 3)\n",
      "finished sess 34\n",
      "reward len:  70\n",
      "noreward len:  188\n",
      "X_transformed_ica_viz:  (258, 25, 3)\n",
      "finished sess 35\n",
      "reward len:  49\n",
      "noreward len:  132\n",
      "X_transformed_ica_viz:  (181, 25, 3)\n",
      "finished sess 36\n",
      "reward len:  68\n",
      "noreward len:  131\n",
      "X_transformed_ica_viz:  (199, 25, 3)\n",
      "finished sess 37\n",
      "reward len:  97\n",
      "noreward len:  246\n",
      "X_transformed_ica_viz:  (343, 25, 3)\n",
      "finished sess 38\n"
     ]
    }
   ],
   "source": [
    "# for reward\n",
    "\n",
    "\n",
    "comp = 3\n",
    "all_X_transformed_ica_reward = []\n",
    "all_X_transformed_ica_noreward = []\n",
    "\n",
    "\n",
    "for i, dat in enumerate(alldat):\n",
    "    # prepare data\n",
    "    all_spikes = dat['spks']\n",
    "    NN = all_spikes.shape[0]\n",
    "    N_trials = all_spikes.shape[1]\n",
    "#     print('N_trials: ', N_trials)\n",
    "\n",
    "    # time bins of 100ms \n",
    "    binned_multiplier = 10\n",
    "    all_spikes_bined = all_spikes.reshape(NN, N_trials, -1, binned_multiplier)\n",
    "    all_spikes = np.sum(all_spikes_bined, axis=-1)\n",
    "\n",
    "    data = np.reshape(all_spikes, (NN, -1)).T \n",
    "\n",
    "    # get rid of inactive neurons\n",
    "    select_inds = get_rid_of_inactive_neurons(all_spikes)\n",
    "\n",
    "    data = data[:,select_inds]\n",
    "\n",
    "    transformer = FastICA(n_components=comp, random_state=0)\n",
    "    X_transformed = transformer.fit_transform(data)\n",
    "#     print('X_transformed: ', X_transformed.shape)\n",
    "\n",
    "    # get the left and right trials indices\n",
    "    reward = dat['feedback_type']  \n",
    "\n",
    "    idxs_noreward = np.where(reward == 1)[0]\n",
    "    idxs_reward = np.where(reward == -1)[0]\n",
    "    print('reward len: ', len(idxs_reward))    \n",
    "    print('noreward len: ', len(idxs_noreward))\n",
    "\n",
    "    X_transformed_ica_viz = X_transformed.reshape((N_trials, -1, comp))\n",
    "    print('X_transformed_ica_viz: ', X_transformed_ica_viz.shape) \n",
    "    \n",
    "    X_transformed_ica_reward = np.mean(X_transformed_ica_viz[idxs_reward], axis=0)\n",
    "    X_transformed_ica_noreward = np.mean(X_transformed_ica_viz[idxs_noreward], axis=0)\n",
    "#     print('X_transformed_ica_go: ', X_transformed_ica_go.shape)\n",
    "#     print('X_transformed_ica_nogo: ', X_transformed_ica_nogo.shape)\n",
    "    all_X_transformed_ica_reward.append(X_transformed_ica_reward)\n",
    "    all_X_transformed_ica_noreward.append(X_transformed_ica_noreward)\n",
    "    \n",
    "    print(f'finished sess {i}')\n",
    "\n"
   ]
  },
  {
   "cell_type": "code",
   "execution_count": 1,
   "metadata": {
    "scrolled": true
   },
   "outputs": [],
   "source": [
    "for ses in range(39):\n",
    "    dists_3d = []\n",
    "\n",
    "    X_transformed_ica_reward = all_X_transformed_ica_reward[ses]\n",
    "    X_transformed_ica_noreward = all_X_transformed_ica_noreward[ses]\n",
    "\n",
    "\n",
    "    for i in range(X_transformed_ica_go.shape[0]):\n",
    "        dist = np.linalg.norm(X_transformed_ica_reward[i]-X_transformed_ica_noreward[i], ord=2)\n",
    "        dists_3d.append(dist)\n",
    "    fig = plt.figure()\n",
    "    plt.plot(dists_3d)\n",
    "    plt.title(f'ses {ses}')\n",
    "\n"
   ]
  },
  {
   "cell_type": "code",
   "execution_count": 2,
   "metadata": {
    "scrolled": false
   },
   "outputs": [],
   "source": [
    "\n",
    "%matplotlib notebook\n",
    "\n",
    "# plotting 3D\n",
    "\n",
    "import matplotlib.pyplot as plt\n",
    "from mpl_toolkits.mplot3d import Axes3D\n",
    "\n",
    "fig = plt.figure(figsize=(10,10))\n",
    "ax = fig.add_subplot(111, projection='3d')\n",
    "\n",
    "\n",
    "X_transformed_ica_left = all_X_transformed_ica_reward[27]\n",
    "X_transformed_ica_right = all_X_transformed_ica_noreward[27]\n",
    "\n",
    "\n",
    "ax.plot(X_transformed_ica_left[:,0], X_transformed_ica_left[:,1], X_transformed_ica_left[:,2], linewidth=4, c='m', label='Average correct trails')\n",
    "ax.plot(X_transformed_ica_right[:,0], X_transformed_ica_right[:,1], X_transformed_ica_right[:,2], linewidth=4, c='c', label='Average incorrect trails')\n",
    "\n",
    "N_points = X_transformed_ica_left.shape[0]\n",
    "marker_points_inx = [0, 5, 13, N_points-1]\n",
    "\n",
    "ax.scatter(X_transformed_ica_left[marker_points_inx,0], X_transformed_ica_left[marker_points_inx,1],X_transformed_ica_left[marker_points_inx,2], c=['g', 'b','y', 'r'], linewidth=6)\n",
    "ax.scatter(X_transformed_ica_right[marker_points_inx,0], X_transformed_ica_right[marker_points_inx,1],X_transformed_ica_right[marker_points_inx,2], c=['g', 'b','y', 'r'], linewidth=6)\n",
    "\n",
    "ax.set_title('Trajectories projected in the ICA reduced 3 components')\n",
    "\n",
    "\n",
    "ax.set_xticks([])\n",
    "ax.set_yticks([])\n",
    "ax.set_zticks([])\n",
    "ax.grid(False)\n",
    "\n",
    "ax.set_xlabel('Component 1')                \n",
    "ax.set_ylabel('Component 2')\n",
    "ax.set_zlabel('Component 3')\n",
    "\n",
    "\n",
    "# Set the angle of the camera\n",
    "ax.view_init(20, 45)\n",
    "\n",
    "plt.legend()\n",
    "plt.tight_layout()\n",
    "plt.show()\n",
    "\n",
    "plt.savefig(f'3D_trajectories_reward.svg')\n",
    "\n"
   ]
  },
  {
   "cell_type": "code",
   "execution_count": 47,
   "metadata": {
    "scrolled": false
   },
   "outputs": [
    {
     "name": "stdout",
     "output_type": "stream",
     "text": [
      "brain_region_i:  0\n",
      "all_spikes:  (94, 261, 250)\n",
      "N_trials:  261\n",
      "data:  (65250, 94)\n",
      "X_transformed:  (65250, 3)\n",
      "X_transformed_ica_viz:  (261, 250, 3)\n",
      "go len:  185\n",
      "nogo len:  76\n",
      "stim len:  136\n",
      "nostim len:  125\n",
      "brain_region_i:  4\n",
      "all_spikes:  (404, 261, 250)\n",
      "N_trials:  261\n",
      "data:  (65250, 404)\n",
      "X_transformed:  (65250, 3)\n",
      "X_transformed_ica_viz:  (261, 250, 3)\n",
      "go len:  185\n",
      "nogo len:  76\n",
      "stim len:  136\n",
      "nostim len:  125\n",
      "finished sess 24\n"
     ]
    }
   ],
   "source": [
    "# for go/nogo and right contrast in different brain regions\n",
    "\n",
    "from sklearn.decomposition import FastICA \n",
    "\n",
    "comp = 3\n",
    "# all_X_transformed_ica_go = []\n",
    "# all_X_transformed_ica_nogo = []\n",
    "\n",
    "# all_X_transformed_ica_stimulus = []\n",
    "# all_X_transformed_ica_nostimulus = []\n",
    "\n",
    "for i, dat in enumerate(alldat[24:25]):\n",
    "    i = 24\n",
    "    dat = alldat[24]\n",
    "    \n",
    "    go_ica_comps = []    \n",
    "    nogo_ica_comps = []\n",
    "\n",
    "    right_stim_ica_comps = []\n",
    "    noright_stim_ica_comps = []\n",
    "    \n",
    "    for brain_region_i in [0,4]:\n",
    "        # prepare data\n",
    "        all_spikes = dat['spks']\n",
    "\n",
    "        if np.sum(neurons_for_decoding[i, brain_region_i]) == 0:\n",
    "            # correct_scores.append(-1)\n",
    "            go_ica_comps.append(-1)\n",
    "            nogo_ica_comps.append(-1)\n",
    "            right_stim_ica_comps.append(-1)\n",
    "            noright_stim_ica_comps.append(-1)\n",
    "            continue\n",
    "            \n",
    "        print('brain_region_i: ', brain_region_i)\n",
    "        all_spikes = all_spikes[neurons_for_decoding[i, brain_region_i].astype('bool')]\n",
    "        print('all_spikes: ', all_spikes.shape)\n",
    "\n",
    "        NN = all_spikes.shape[0]\n",
    "        N_trials = all_spikes.shape[1]\n",
    "        print('N_trials: ', N_trials)\n",
    "\n",
    "        # # time bins of 100ms \n",
    "        # binned_multiplier = 10\n",
    "        # all_spikes_bined = all_spikes.reshape(NN, N_trials, -1, binned_multiplier)\n",
    "        # all_spikes = np.sum(all_spikes_bined, axis=-1)\n",
    "\n",
    "        data = np.reshape(all_spikes, (NN, -1)).T \n",
    "        print('data: ', data.shape)\n",
    "\n",
    "        # get rid of inactive neurons\n",
    "        # select_inds = get_rid_of_inactive_neurons(all_spikes)\n",
    "        # data = data[:,select_inds]\n",
    "\n",
    "        transformer = FastICA(n_components=comp, random_state=0)\n",
    "        X_transformed = transformer.fit_transform(data)\n",
    "        print('X_transformed: ', X_transformed.shape)\n",
    "\n",
    "\n",
    "        X_transformed_ica_viz = X_transformed.reshape((N_trials, -1, comp))\n",
    "        print('X_transformed_ica_viz: ', X_transformed_ica_viz.shape) \n",
    "\n",
    "        # get the left and right trials indices\n",
    "        choice_responses = dat['response']    \n",
    "\n",
    "        idxs_nogo = np.where(choice_responses == 0)[0]\n",
    "        idxs_go = np.where(choice_responses != 0)[0]\n",
    "        print('go len: ', len(idxs_go))    \n",
    "        print('nogo len: ', len(idxs_nogo))\n",
    "\n",
    "        X_transformed_ica_go = np.mean(X_transformed_ica_viz[idxs_go], axis=0)\n",
    "        X_transformed_ica_nogo = np.mean(X_transformed_ica_viz[idxs_nogo], axis=0)\n",
    "    #     print('X_transformed_ica_go: ', X_transformed_ica_go.shape)\n",
    "    #     print('X_transformed_ica_nogo: ', X_transformed_ica_nogo.shape)\n",
    "    \n",
    "        go_ica_comps.append(X_transformed_ica_go)\n",
    "        nogo_ica_comps.append(X_transformed_ica_nogo)\n",
    "    \n",
    "        # get yes/no right stimulus trials\n",
    "        right_contrast = dat['contrast_right']\n",
    "        idxs_nostimulus = np.where(right_contrast == 0)[0]\n",
    "        idxs_stimulus = np.where(right_contrast != 0)[0]\n",
    "        print('stim len: ', len(idxs_stimulus))    \n",
    "        print('nostim len: ', len(idxs_nostimulus))\n",
    "        \n",
    "        X_transformed_ica_stimulus = np.mean(X_transformed_ica_viz[idxs_stimulus], axis=0)\n",
    "        X_transformed_ica_nostimulus = np.mean(X_transformed_ica_viz[idxs_nostimulus], axis=0)\n",
    "    \n",
    "        right_stim_ica_comps.append(X_transformed_ica_stimulus)\n",
    "        noright_stim_ica_comps.append(X_transformed_ica_nostimulus)\n",
    "    \n",
    "#     all_X_transformed_ica_go.append(go_ica_comps)\n",
    "#     all_X_transformed_ica_nogo.append(nogo_ica_comps)\n",
    "#     all_X_transformed_ica_stimulus.append(right_stim_ica_comps)\n",
    "#     all_X_transformed_ica_nostimulus.append(noright_stim_ica_comps)\n",
    "    \n",
    "    print(f'finished sess {i}')\n"
   ]
  },
  {
   "cell_type": "code",
   "execution_count": 50,
   "metadata": {
    "scrolled": true
   },
   "outputs": [
    {
     "name": "stdout",
     "output_type": "stream",
     "text": [
      "X_transformed_ica_viz:  (214, 250, 3)\n",
      "finished sess 0\n",
      "X_transformed_ica_viz:  (251, 250, 3)\n",
      "finished sess 1\n",
      "X_transformed_ica_viz:  (228, 250, 3)\n",
      "X_transformed_ica_viz:  (228, 250, 3)\n",
      "finished sess 2\n",
      "X_transformed_ica_viz:  (249, 250, 3)\n",
      "finished sess 3\n",
      "X_transformed_ica_viz:  (254, 250, 3)\n",
      "finished sess 4\n",
      "finished sess 5\n",
      "finished sess 6\n",
      "X_transformed_ica_viz:  (250, 250, 3)\n",
      "finished sess 7\n",
      "X_transformed_ica_viz:  (372, 250, 3)\n",
      "finished sess 8\n",
      "X_transformed_ica_viz:  (447, 250, 3)\n",
      "X_transformed_ica_viz:  (447, 250, 3)\n",
      "finished sess 9\n",
      "finished sess 10\n",
      "X_transformed_ica_viz:  (340, 250, 3)\n",
      "finished sess 11\n",
      "X_transformed_ica_viz:  (300, 250, 3)\n",
      "X_transformed_ica_viz:  (300, 250, 3)\n",
      "finished sess 12\n",
      "X_transformed_ica_viz:  (268, 250, 3)\n"
     ]
    },
    {
     "name": "stderr",
     "output_type": "stream",
     "text": [
      "/Users/peteryej/miniconda3/envs/ctrldev/lib/python3.6/site-packages/sklearn/decomposition/_fastica.py:120: ConvergenceWarning: FastICA did not converge. Consider increasing tolerance or the maximum number of iterations.\n",
      "  ConvergenceWarning)\n"
     ]
    },
    {
     "name": "stdout",
     "output_type": "stream",
     "text": [
      "X_transformed_ica_viz:  (268, 250, 3)\n",
      "finished sess 13\n",
      "X_transformed_ica_viz:  (404, 250, 3)\n",
      "finished sess 14\n",
      "X_transformed_ica_viz:  (280, 250, 3)\n",
      "finished sess 15\n",
      "finished sess 16\n",
      "X_transformed_ica_viz:  (316, 250, 3)\n",
      "finished sess 17\n",
      "X_transformed_ica_viz:  (247, 250, 3)\n",
      "X_transformed_ica_viz:  (247, 250, 3)\n",
      "finished sess 18\n",
      "X_transformed_ica_viz:  (235, 250, 3)\n",
      "finished sess 19\n",
      "finished sess 20\n",
      "X_transformed_ica_viz:  (444, 250, 3)\n",
      "X_transformed_ica_viz:  (444, 250, 3)\n",
      "finished sess 21\n",
      "X_transformed_ica_viz:  (151, 250, 3)\n",
      "finished sess 22\n",
      "X_transformed_ica_viz:  (187, 250, 3)\n",
      "X_transformed_ica_viz:  (187, 250, 3)\n",
      "finished sess 23\n",
      "X_transformed_ica_viz:  (261, 250, 3)\n",
      "X_transformed_ica_viz:  (261, 250, 3)\n",
      "finished sess 24\n",
      "X_transformed_ica_viz:  (178, 250, 3)\n",
      "X_transformed_ica_viz:  (178, 250, 3)\n",
      "finished sess 25\n",
      "X_transformed_ica_viz:  (253, 250, 3)\n",
      "finished sess 26\n",
      "X_transformed_ica_viz:  (142, 250, 3)\n",
      "X_transformed_ica_viz:  (142, 250, 3)\n",
      "finished sess 27\n",
      "finished sess 28\n",
      "finished sess 29\n",
      "X_transformed_ica_viz:  (237, 250, 3)\n",
      "finished sess 30\n",
      "X_transformed_ica_viz:  (260, 250, 3)\n",
      "finished sess 31\n",
      "X_transformed_ica_viz:  (191, 250, 3)\n",
      "finished sess 32\n",
      "X_transformed_ica_viz:  (296, 250, 3)\n",
      "finished sess 33\n",
      "X_transformed_ica_viz:  (311, 250, 3)\n",
      "finished sess 34\n",
      "X_transformed_ica_viz:  (258, 250, 3)\n",
      "X_transformed_ica_viz:  (258, 250, 3)\n",
      "finished sess 35\n",
      "X_transformed_ica_viz:  (181, 250, 3)\n",
      "X_transformed_ica_viz:  (181, 250, 3)\n",
      "finished sess 36\n",
      "finished sess 37\n",
      "X_transformed_ica_viz:  (343, 250, 3)\n",
      "finished sess 38\n"
     ]
    }
   ],
   "source": [
    "# for go/nogo and right contrast in different brain regions\n",
    "\n",
    "from sklearn.decomposition import FastICA \n",
    "\n",
    "comp = 3\n",
    "all_X_transformed_ica_go = []\n",
    "all_X_transformed_ica_nogo = []\n",
    "\n",
    "all_X_transformed_ica_stimulus = []\n",
    "all_X_transformed_ica_nostimulus = []\n",
    "\n",
    "for i, dat in enumerate(alldat):\n",
    "    \n",
    "    go_ica_comps = []    \n",
    "    nogo_ica_comps = []\n",
    "\n",
    "    right_stim_ica_comps = []\n",
    "    noright_stim_ica_comps = []\n",
    "    \n",
    "    for brain_region_i in [0,4]:\n",
    "        # prepare data\n",
    "        all_spikes = dat['spks']\n",
    "\n",
    "        if np.sum(neurons_for_decoding[i, brain_region_i]) == 0:\n",
    "            # correct_scores.append(-1)\n",
    "            go_ica_comps.append(-1)\n",
    "            nogo_ica_comps.append(-1)\n",
    "            right_stim_ica_comps.append(-1)\n",
    "            noright_stim_ica_comps.append(-1)\n",
    "            continue\n",
    "\n",
    "        all_spikes = all_spikes[neurons_for_decoding[i, brain_region_i].astype('bool')]\n",
    "\n",
    "        NN = all_spikes.shape[0]\n",
    "        N_trials = all_spikes.shape[1]\n",
    "    #     print('N_trials: ', N_trials)\n",
    "\n",
    "        # # time bins of 100ms \n",
    "        # binned_multiplier = 10\n",
    "        # all_spikes_bined = all_spikes.reshape(NN, N_trials, -1, binned_multiplier)\n",
    "        # all_spikes = np.sum(all_spikes_bined, axis=-1)\n",
    "\n",
    "        data = np.reshape(all_spikes, (NN, -1)).T \n",
    "\n",
    "        # get rid of inactive neurons\n",
    "        # select_inds = get_rid_of_inactive_neurons(all_spikes)\n",
    "        # data = data[:,select_inds]\n",
    "\n",
    "        transformer = FastICA(n_components=comp, random_state=0)\n",
    "        X_transformed = transformer.fit_transform(data)\n",
    "    #     print('X_transformed: ', X_transformed.shape)\n",
    "\n",
    "\n",
    "        X_transformed_ica_viz = X_transformed.reshape((N_trials, -1, comp))\n",
    "        print('X_transformed_ica_viz: ', X_transformed_ica_viz.shape) \n",
    "\n",
    "        # get the left and right trials indices\n",
    "        choice_responses = dat['response']    \n",
    "\n",
    "        idxs_nogo = np.where(choice_responses == 0)[0]\n",
    "        idxs_go = np.where(choice_responses != 0)[0]\n",
    "    #     print('go len: ', len(idxs_go))    \n",
    "    #     print('nogo len: ', len(idxs_nogo))\n",
    "\n",
    "        X_transformed_ica_go = np.mean(X_transformed_ica_viz[idxs_go], axis=0)\n",
    "        X_transformed_ica_nogo = np.mean(X_transformed_ica_viz[idxs_nogo], axis=0)\n",
    "    #     print('X_transformed_ica_go: ', X_transformed_ica_go.shape)\n",
    "    #     print('X_transformed_ica_nogo: ', X_transformed_ica_nogo.shape)\n",
    "    \n",
    "        go_ica_comps.append(X_transformed_ica_go)\n",
    "        nogo_ica_comps.append(X_transformed_ica_nogo)\n",
    "    \n",
    "        # get yes/no right stimulus trials\n",
    "        right_contrast = dat['contrast_right']\n",
    "        idxs_nostimulus = np.where(right_contrast == 0)[0]\n",
    "        idxs_stimulus = np.where(right_contrast != 0)[0]\n",
    "        \n",
    "        X_transformed_ica_stimulus = np.mean(X_transformed_ica_viz[idxs_stimulus], axis=0)\n",
    "        X_transformed_ica_nostimulus = np.mean(X_transformed_ica_viz[idxs_nostimulus], axis=0)\n",
    "    \n",
    "        right_stim_ica_comps.append(X_transformed_ica_stimulus)\n",
    "        noright_stim_ica_comps.append(X_transformed_ica_nostimulus)\n",
    "    \n",
    "    all_X_transformed_ica_go.append(go_ica_comps)\n",
    "    all_X_transformed_ica_nogo.append(nogo_ica_comps)\n",
    "    all_X_transformed_ica_stimulus.append(right_stim_ica_comps)\n",
    "    all_X_transformed_ica_nostimulus.append(noright_stim_ica_comps)\n",
    "    \n",
    "    print(f'finished sess {i}')\n"
   ]
  },
  {
   "cell_type": "code",
   "execution_count": 51,
   "metadata": {},
   "outputs": [],
   "source": [
    "# process the results \n",
    "\n",
    "# get the 4 types of output for a session\n",
    "session_n = 24 \n",
    "def get_session_results(session_n, all_X_transformed_ica_go, all_X_transformed_ica_nogo, all_X_transformed_ica_stimulus, all_X_transformed_ica_nostimulus):\n",
    "    X_transformed_ica_go_vis = all_X_transformed_ica_go[session_n][0]\n",
    "    X_transformed_ica_nogo_vis = all_X_transformed_ica_nogo[session_n][0]\n",
    "    X_transformed_ica_go_midbrain = all_X_transformed_ica_go[session_n][1]\n",
    "    X_transformed_ica_nogo_midbrain = all_X_transformed_ica_nogo[session_n][1]\n",
    "\n",
    "    X_transformed_ica_stimulus_vis = all_X_transformed_ica_stimulus[session_n][0]\n",
    "    X_transformed_ica_nostimulus_vis = all_X_transformed_ica_nostimulus[session_n][0]\n",
    "    X_transformed_ica_stimulus_midbrain = all_X_transformed_ica_stimulus[session_n][1]\n",
    "    X_transformed_ica_nostimulus_midbrain = all_X_transformed_ica_nostimulus[session_n][1]\n",
    "    return (X_transformed_ica_go_vis, X_transformed_ica_nogo_vis, X_transformed_ica_go_midbrain, X_transformed_ica_nogo_midbrain,\n",
    "            X_transformed_ica_stimulus_vis, X_transformed_ica_nostimulus_vis, X_transformed_ica_stimulus_midbrain, X_transformed_ica_nostimulus_midbrain)\n",
    "            \n",
    "# print(X_transformed_ica_go_vis.shape)\n",
    "# print(X_transformed_ica_nogo_vis.shape)\n",
    "# print(X_transformed_ica_go_midbrain.shape)\n",
    "# print(X_transformed_ica_nogo_midbrain.shape)\n",
    "\n",
    "# print(X_transformed_ica_stimulus_vis.shape)\n",
    "# print(X_transformed_ica_nostimulus_vis.shape)\n",
    "# print(X_transformed_ica_stimulus_midbrain.shape)\n",
    "# print(X_transformed_ica_nostimulus_midbrain.shape)\n",
    "\n",
    "\n",
    "\n"
   ]
  },
  {
   "cell_type": "code",
   "execution_count": 52,
   "metadata": {},
   "outputs": [],
   "source": [
    "# save results \n",
    "save_dict = {}\n",
    "for i in range(39):\n",
    "    save_dict[str(i)] = []\n",
    "    outputs = get_session_results(i, all_X_transformed_ica_go, all_X_transformed_ica_nogo, all_X_transformed_ica_stimulus, all_X_transformed_ica_nostimulus)\n",
    "    for output in outputs:\n",
    "        if type(output).__module__ == np.__name__:\n",
    "            output = output.tolist()\n",
    "        save_dict[str(i)].append(output)\n",
    "\n",
    "        "
   ]
  },
  {
   "cell_type": "code",
   "execution_count": 53,
   "metadata": {},
   "outputs": [],
   "source": [
    "import json\n",
    "\n",
    "\n",
    "# Serialize data into file:\n",
    "json.dump( save_dict, open( \"ica_comps_vis_midbrain.json\", 'w' ) )\n",
    "\n",
    "# Read data from file:\n",
    "data = json.load( open( \"ica_comps_vis_midbrain.json\" ) )\n",
    "    \n",
    "    "
   ]
  },
  {
   "cell_type": "code",
   "execution_count": 3,
   "metadata": {
    "scrolled": true
   },
   "outputs": [],
   "source": [
    "%matplotlib inline\n",
    "\n",
    "for ses in range(39):\n",
    "    dists_3d = []\n",
    "\n",
    "    X_transformed_ica_go = all_X_transformed_ica_go[ses]\n",
    "    X_transformed_ica_nogo = all_X_transformed_ica_nogo[ses]\n",
    "\n",
    "\n",
    "    for i in range(X_transformed_ica_go.shape[0]):\n",
    "        dist = np.linalg.norm(X_transformed_ica_go[i]-X_transformed_ica_nogo[i], ord=2)\n",
    "        dists_3d.append(dist)\n",
    "    fig = plt.figure()\n",
    "    plt.plot(dists_3d)\n",
    "    plt.title(f'ses {ses}')\n"
   ]
  },
  {
   "cell_type": "code",
   "execution_count": 36,
   "metadata": {
    "scrolled": false
   },
   "outputs": [
    {
     "data": {
      "text/plain": [
       "Text(0.5, 0.92, 'Trajectories projected in the ICA reduced 3 components')"
      ]
     },
     "execution_count": 36,
     "metadata": {},
     "output_type": "execute_result"
    },
    {
     "data": {
      "image/png": "[encoded data removed]",
      "text/plain": [
       "<Figure size 504x360 with 1 Axes>"
      ]
     },
     "metadata": {
      "needs_background": "light"
     },
     "output_type": "display_data"
    }
   ],
   "source": [
    "# %matplotlib notebook\n",
    "%matplotlib inline\n",
    "# plotting 3D\n",
    "\n",
    "import matplotlib.pyplot as plt\n",
    "from mpl_toolkits.mplot3d import Axes3D\n",
    "\n",
    "fig = plt.figure(figsize=(7,5))\n",
    "ax = fig.add_subplot(111, projection='3d')\n",
    "\n",
    "\n",
    "X_transformed_ica_left = X_transformed_ica_go_midbrain # all_X_transformed_ica_go[27]\n",
    "X_transformed_ica_right = X_transformed_ica_nogo_midbrain # all_X_transformed_ica_nogo[27]\n",
    "\n",
    "\n",
    "ax.plot(X_transformed_ica_left[:,0], X_transformed_ica_left[:,1], X_transformed_ica_left[:,2], linewidth=4, label='Average go trails')\n",
    "ax.plot(X_transformed_ica_right[:,0], X_transformed_ica_right[:,1], X_transformed_ica_right[:,2], linewidth=4, label='Average no-go trails')\n",
    "\n",
    "N_points = X_transformed_ica_left.shape[0]\n",
    "marker_points_inx = [0, 50, 130, N_points-1]\n",
    "\n",
    "\n",
    "ax.set_title('Trajectories projected in the ICA reduced 3 components')\n",
    "\n",
    "\n",
    "# ax.set_xticks([])\n",
    "# ax.set_yticks([])\n",
    "# ax.set_zticks([])\n",
    "# ax.grid(False)\n",
    "\n",
    "# ax.set_xlabel('Component 1')                \n",
    "# ax.set_ylabel('Component 2')\n",
    "# ax.set_zlabel('Component 3')\n",
    "\n",
    "\n",
    "# # Set the angle of the camera\n",
    "# ax.view_init(20, 45)\n",
    "\n",
    "# plt.legend()\n",
    "# plt.tight_layout()\n",
    "# plt.show()\n",
    "# plt.savefig(f'3D_trajectories_go.svg')\n",
    "\n",
    "\n"
   ]
  },
  {
   "cell_type": "code",
   "execution_count": null,
   "metadata": {
    "colab": {
     "base_uri": "https://localhost:8080/",
     "height": 68
    },
    "colab_type": "code",
    "id": "AcF4LczHMqkn",
    "outputId": "86d11120-9638-4fd3-a2fe-e6bba97e94a8"
   },
   "outputs": [
    {
     "name": "stdout",
     "output_type": "stream",
     "text": [
      "X_transformed_ica_viz:  (340, 25, 3)\n",
      "X_transformed_ica_left:  (25, 3)\n",
      "X_transformed_ica_right:  (25, 3)\n"
     ]
    }
   ],
   "source": [
    "\n",
    "X_transformed_ica_viz = np.swapaxes(pcs_all_time, 0, 2)\n",
    "X_transformed_ica_viz = np.swapaxes(X_transformed_ica_viz, 0, 1)\n",
    "print('X_transformed_ica_viz: ', X_transformed_ica_viz.shape)\n",
    "\n",
    "X_transformed_ica_left = np.mean(X_transformed_ica_viz[idxs_left], axis=0)\n",
    "X_transformed_ica_right = np.mean(X_transformed_ica_viz[idxs_right], axis=0)\n",
    "print('X_transformed_ica_left: ', X_transformed_ica_left.shape)\n",
    "print('X_transformed_ica_right: ', X_transformed_ica_right.shape)\n"
   ]
  },
  {
   "cell_type": "code",
   "execution_count": null,
   "metadata": {
    "colab": {
     "base_uri": "https://localhost:8080/",
     "height": 690
    },
    "colab_type": "code",
    "id": "34KTZx3qcO_O",
    "outputId": "4788a3d2-389b-435a-adc5-4301b7f65f7e"
   },
   "outputs": [],
   "source": [
    "# plto 3D traces\n",
    "# %matplotlib inline\n",
    "\n",
    "import matplotlib.pyplot as plt\n",
    "from mpl_toolkits.mplot3d import Axes3D\n",
    "\n",
    "fig = plt.figure()\n",
    "ax = fig.add_subplot(111, projection='3d')\n",
    "\n",
    "ax.plot(X_transformed_ica_left[:,0], X_transformed_ica_left[:,1], X_transformed_ica_left[:,2])\n",
    "ax.plot(X_transformed_ica_right[:,0], X_transformed_ica_right[:,1], X_transformed_ica_right[:,2])\n",
    "\n",
    "ax.scatter(X_transformed_ica_left[0,0], X_transformed_ica_left[0,1],X_transformed_ica_left[0,2], c='b')\n",
    "ax.scatter(X_transformed_ica_right[0,0], X_transformed_ica_right[0,1],X_transformed_ica_right[0,2], c='b')\n",
    "\n",
    "ax.scatter(X_transformed_ica_left[5,0], X_transformed_ica_left[5,1],X_transformed_ica_left[5,2], c='g')\n",
    "ax.scatter(X_transformed_ica_right[5,0], X_transformed_ica_right[5,1],X_transformed_ica_right[5,2], c='g')\n",
    "\n",
    "ax.scatter(X_transformed_ica_left[13,0], X_transformed_ica_left[13,1],X_transformed_ica_left[13,2], c='r')\n",
    "ax.scatter(X_transformed_ica_right[13,0], X_transformed_ica_right[13,1],X_transformed_ica_right[13,2], c='r')\n",
    "\n",
    "ax.scatter(X_transformed_ica_left[-1,0], X_transformed_ica_left[-1,1],X_transformed_ica_left[-1,2], c='y')\n",
    "ax.scatter(X_transformed_ica_right[-1,0], X_transformed_ica_right[-1,1],X_transformed_ica_right[-1,2], c='y')\n",
    "ax.set_title('Trajectories projected in the ICA reduced 3 components')\n",
    "\n",
    "\n",
    "# plot the distance trace in the 3d space \n",
    "fig, ax = plt.subplots()\n",
    "dists_3d = []\n",
    "speeds_3d = []\n",
    "for i in range(X_transformed_ica_left.shape[0]):\n",
    "  dist = np.linalg.norm(X_transformed_ica_left[i]-X_transformed_ica_right[i], ord=2)\n",
    "  dists_3d.append(dist)\n",
    "\n",
    "\n",
    "plt.plot(dists_3d)\n",
    "x_points = [0,5, 13, len(dists_3d)-1]\n",
    "colors = ['b', 'g', 'r', 'y']\n",
    "plt.scatter(x_points, np.array(dists_3d)[x_points], c=colors)\n",
    "plt.title('Distance of the left and right turning decision traces in 3D space')\n",
    "\n",
    "# for i in range(N_trials):\n",
    "#   ax.plot(X_transformed_ica_viz[i,:,0], X_transformed_ica_viz[i,:,1], X_transformed_ica_viz[i,:,2])\n",
    "\n",
    "# visualize 2D, in 1st and 2nd components\n",
    "fig, ax = plt.subplots()\n",
    "ax.plot(X_transformed_ica_left[:,0], X_transformed_ica_left[:,1])\n",
    "ax.plot(X_transformed_ica_right[:,0], X_transformed_ica_right[:,1])\n",
    "\n",
    "ax.plot(X_transformed_ica_left[0,0], X_transformed_ica_left[0,1], 'bo')\n",
    "ax.plot(X_transformed_ica_right[0,0], X_transformed_ica_right[0,1], 'bo')\n",
    "\n",
    "ax.plot(X_transformed_ica_left[51//binned_multiplier,0], X_transformed_ica_left[51//binned_multiplier,1], 'go')\n",
    "ax.plot(X_transformed_ica_right[51//binned_multiplier,0], X_transformed_ica_right[51//binned_multiplier,1], 'go')\n",
    "\n",
    "ax.plot(X_transformed_ica_left[131//binned_multiplier,0], X_transformed_ica_left[131//binned_multiplier,1], 'ro')\n",
    "ax.plot(X_transformed_ica_right[131//binned_multiplier,0], X_transformed_ica_right[131//binned_multiplier,1], 'ro')\n",
    "\n",
    "ax.plot(X_transformed_ica_left[-1,0], X_transformed_ica_left[-1,1], 'yo')\n",
    "ax.plot(X_transformed_ica_right[-1,0], X_transformed_ica_right[-1,1], 'yo')\n",
    "ax.set_title('Trajectories projected in the ICA first 2 components')\n",
    "\n",
    "\n",
    "plt.tight_layout()\n",
    "plt.show()"
   ]
  },
  {
   "cell_type": "markdown",
   "metadata": {
    "colab_type": "text",
    "id": "7sAE1gEoX8hw"
   },
   "source": [
    "### viusalize the weights by brain regions"
   ]
  },
  {
   "cell_type": "code",
   "execution_count": 4,
   "metadata": {
    "colab": {},
    "colab_type": "code",
    "id": "W9t5lLQ-XJkv"
   },
   "outputs": [],
   "source": [
    "\n",
    "\n",
    "# groupings of brain regions\n",
    "regions = [\"vis ctx\", \"thal\", \"hipp\", \"other ctx\", \"midbrain\", \"basal ganglia\", \"cortical subplate\", \"other\"]\n",
    "brain_groups = [[\"VISa\", \"VISam\", \"VISl\", \"VISp\", \"VISpm\", \"VISrl\"], # visual cortex\n",
    "                [\"CL\", \"LD\", \"LGd\", \"LH\", \"LP\", \"MD\", \"MG\", \"PO\", \"POL\", \"PT\", \"RT\", \"SPF\", \"TH\", \"VAL\", \"VPL\", \"VPM\"], # thalamus\n",
    "                [\"CA\", \"CA1\", \"CA2\", \"CA3\", \"DG\", \"SUB\", \"POST\"], # hippocampal\n",
    "                [\"ACA\", \"AUD\", \"COA\", \"DP\", \"ILA\", \"MOp\", \"MOs\", \"OLF\", \"ORB\", \"ORBm\", \"PIR\", \"PL\", \"SSp\", \"SSs\", \"RSP\",\" TT\"], # non-visual cortex\n",
    "                [\"APN\", \"IC\", \"MB\", \"MRN\", \"NB\", \"PAG\", \"RN\", \"SCs\", \"SCm\", \"SCig\", \"SCsg\", \"ZI\"], # midbrain\n",
    "                [\"ACB\", \"CP\", \"GPe\", \"LS\", \"LSc\", \"LSr\", \"MS\", \"OT\", \"SNr\", \"SI\"], # basal ganglia \n",
    "                [\"BLA\", \"BMA\", \"EP\", \"EPd\", \"MEA\"] # cortical subplate\n",
    "                ]\n",
    "\n",
    "nareas = 4 # only the top 4 regions are in this particular mouse\n",
    "# NN = len(dat['brain_area']) # number of neurons\n",
    "# NN = len(select_inds)\n",
    "# barea = nareas * np.ones(NN, ) # last one is \"other\"\n",
    "# for j in range(nareas):\n",
    "#   barea[np.isin(dat['brain_area'][select_inds], brain_groups[j])] = j # assign a number to each region\n",
    "\n"
   ]
  },
  {
   "cell_type": "code",
   "execution_count": null,
   "metadata": {
    "colab": {
     "base_uri": "https://localhost:8080/",
     "height": 430
    },
    "colab_type": "code",
    "id": "oblLtSvZX_Yq",
    "outputId": "c6a89ecd-d5e9-439a-d151-9819bec548a9"
   },
   "outputs": [
    {
     "data": {
      "image/png": "[encoded data removed]",
      "text/plain": [
       "<Figure size 1080x432 with 3 Axes>"
      ]
     },
     "metadata": {
      "needs_background": "light",
      "tags": []
     },
     "output_type": "display_data"
    }
   ],
   "source": [
    "\n",
    "plt.figure(figsize=(15,6))\n",
    "\n",
    "for comp in range(ica_comp):\n",
    "  ax = plt.subplot(1,ica_comp,comp+1)\n",
    "  for i in range(nareas):\n",
    "    ax.bar(i, np.mean(np.abs(W_ica.T[barea==i,comp])))\n",
    "  ax.legend(regions[0:nareas])\n",
    "  ax.set_title('IC ' +str(comp))\n"
   ]
  },
  {
   "cell_type": "code",
   "execution_count": null,
   "metadata": {
    "colab": {},
    "colab_type": "code",
    "id": "nCEMKRD3a7vj"
   },
   "outputs": [],
   "source": [
    "# sorted brain groups\n",
    "brain_groups = [ ['VISrl', 'VISl', 'VISpm', 'VISp', 'VISa', 'VISam'],\n",
    "['POL', 'MG', 'PT', 'LP', 'LGd', 'SPF', 'LD', 'PO', 'MD', 'VAL', 'VPL', 'VPM', 'TH','RT', 'CL', 'LH'],\n",
    "['CA', 'CA2', 'CA3', 'POST', 'CA1', 'SUB', 'DG'],\n",
    "['DP', 'COA', 'ILA', 'ORBm', 'RSP', 'OLF', 'PL', 'ACA', 'MOs', 'MOp', 'SSs', 'SSp','ORB', 'PIR', 'AUD', ' TT'],\n",
    "['SCsg', 'NB', 'APN', 'PAG', 'SCs', 'SCig', 'MRN', 'IC', 'SCm', 'MB', 'RN', 'ZI'],\n",
    "['LSc', 'LS', 'LSr', 'MS', 'ACB', 'GPe', 'OT', 'CP', 'SI', 'SNr'],\n",
    "['BMA', 'EP', 'EPd', 'MEA', 'BLA'] ]\n",
    "\n"
   ]
  },
  {
   "cell_type": "code",
   "execution_count": null,
   "metadata": {
    "colab": {},
    "colab_type": "code",
    "id": "5z5mLBGDdl4r"
   },
   "outputs": [],
   "source": [
    "# plot weights by all brain regions \n",
    "\n",
    "big_region_len = np.zeros(len(brain_groups)+1)\n",
    "for i, group in enumerate(brain_groups):\n",
    "  big_region_len[i+1] = len(group) + big_region_len[i]\n",
    "\n",
    "  \n",
    "allareas = np.concatenate(brain_groups,axis=-1)\n",
    "nareas = len(allareas) \n",
    "NN = len(dat['brain_area']) # number of neurons\n",
    "barea = nareas * np.ones(NN, ) # last one is \"other\"\n",
    "for j in range(nareas):\n",
    "  barea[np.isin(dat['brain_area'], allareas[j])] = j # assign a number to each region\n"
   ]
  },
  {
   "cell_type": "code",
   "execution_count": null,
   "metadata": {
    "colab": {},
    "colab_type": "code",
    "id": "puDD9Acvfw-q"
   },
   "outputs": [],
   "source": [
    "\n",
    "\n",
    "def plot_weights_by_brain_regions_across_sessions(dr_weights, allareas, sessions_areas, save_img_path=''):\n",
    "  \"\"\"\n",
    "  dr_weights: List[np.ndarray] \n",
    "    [(n_neurons, n_comp)], n_sessions of dimension reduction weights to visualize\n",
    "  allareas : np.ndarray\n",
    "    (n_brain_areas,), names of all brain areas\n",
    "  sessions_areas : np.ndarray\n",
    "    [(n_neurons)], names of brain areas of all sessions\n",
    "\n",
    "  \"\"\"\n",
    "  # get the brain regions of all sessions\n",
    "  nareas = len(allareas) \n",
    "  n_sessions = len(sessions_areas) # number of sessions\n",
    "  assert n_sessions == len(dr_weights), 'number of sessions needs to be equal'\n",
    "  assert dr_weights[0].shape[0] == sessions_areas[0].shape[0], 'number of neurons per session needs to be equal'\n",
    "\n",
    "  bareas = []\n",
    "  for idx in range(n_sessions):\n",
    "    NN = dr_weights[idx].shape[0]\n",
    "    barea = nareas * np.ones(NN, ) # last one is \"other\"\n",
    "    for j in range(nareas):\n",
    "      barea[np.isin(sessions_areas[idx], allareas[j])] = j # assign a number to each region\n",
    "    bareas.append(barea)\n",
    "\n",
    "  plt.figure(figsize=(30, 10))\n",
    "  colors = ['b', 'g', 'r', 'c', 'm', 'y', 'k']\n",
    "\n",
    "  n_comp = dr_weights[0].shape[1]\n",
    "\n",
    "  for comp in range(n_comp):\n",
    "    ax = plt.subplot(n_comp,1,comp+1)\n",
    "    for i in range(nareas):\n",
    "      # set colors\n",
    "      c_idx = np.where(big_region_len[1:]-i > 0)[0][0]\n",
    "      cur_color = colors[c_idx]\n",
    "      # select weights according to brain region\n",
    "      weight_selected = np.array([])\n",
    "      for idx in range(n_sessions):\n",
    "        weight_selected = np.append(weight_selected, dr_weights[idx][bareas[idx]==i,comp])\n",
    "      bars = ax.bar(i, np.mean(np.abs(weight_selected)), color=[cur_color])\n",
    "    \n",
    "    ax.set(xlabel = 'Region', ylabel = 'Weight', title = f'Mean Weights Per Region of Component {comp}')\n",
    "    plt.xticks(np.arange(nareas), allareas, rotation='vertical')\n",
    "  if save_img_path != '':\n",
    "    plt.savefig(save_img_path)\n",
    "\n",
    "\n",
    "# plot_weights_by_brain_regions_across_sessions([W_ica.T], allareas, [dat['brain_area']])\n",
    "\n",
    "\n",
    "def plot_weights_by_big_brain_regions_across_sessions(dr_weights, brain_groups, sessions_areas, save_img_path=''):\n",
    "  \"\"\"\n",
    "  dr_weights: List[np.ndarray] \n",
    "    [(n_neurons, n_comp)], n_sessions of dimension reduction weights to visualize\n",
    "  allareas : np.ndarray\n",
    "    (n_brain_areas,), names of all brain areas\n",
    "  sessions_areas : np.ndarray\n",
    "    [(n_neurons)], names of brain areas of all sessions\n",
    "\n",
    "  \"\"\"\n",
    "  # get the brain regions of all sessions\n",
    "  nareas = len(brain_groups) \n",
    "  n_sessions = len(sessions_areas) # number of sessions\n",
    "  assert n_sessions == len(dr_weights), 'number of sessions needs to be equal'\n",
    "  assert dr_weights[0].shape[0] == sessions_areas[0].shape[0], 'number of neurons per session needs to be equal'\n",
    "\n",
    "  bareas = []\n",
    "  for idx in range(n_sessions):\n",
    "    NN = dr_weights[idx].shape[0]\n",
    "    barea = nareas * np.ones(NN, ) # last one is \"other\"\n",
    "    for j in range(nareas):\n",
    "      barea[np.isin(sessions_areas[idx], brain_groups[j])] = j # assign a number to each region\n",
    "    bareas.append(barea)\n",
    "\n",
    "  plt.figure(figsize=(20, 7))\n",
    "  colors = ['b', 'g', 'r', 'c', 'm', 'y', 'k']\n",
    "\n",
    "  n_comp = dr_weights[0].shape[1]\n",
    "\n",
    "  for comp in range(n_comp):\n",
    "    ax = plt.subplot(1, n_comp,comp+1)\n",
    "    for i in range(nareas):\n",
    "      # select weights according to brain region\n",
    "      weight_selected = np.array([])\n",
    "      for idx in range(n_sessions):\n",
    "        weight_selected = np.append(weight_selected, dr_weights[idx][bareas[idx]==i,comp])\n",
    "      bars = ax.bar(i, np.mean(np.abs(weight_selected)),color=[colors[i]])\n",
    "    \n",
    "    ax.set(xlabel = 'Region', ylabel = 'Weight', title = f'Mean Weights Per Region of Component {comp}')\n",
    "    group_names = ['visual cortex', 'thalamus', 'hippocampal', 'non-visual cortex', 'midbrain', 'basal ganglia', 'cortical subplate']\n",
    "    plt.xticks(np.arange(nareas), group_names, rotation='vertical')\n",
    "  if save_img_path != '':\n",
    "    plt.savefig(save_img_path)\n",
    "\n",
    "# plot_weights_by_big_brain_regions_across_sessions([W_ica.T], brain_groups, [dat['brain_area'][select_inds]])\n"
   ]
  },
  {
   "cell_type": "markdown",
   "metadata": {
    "colab_type": "text",
    "id": "IivssfTyXrfo"
   },
   "source": [
    "### Visualize across all brain regions and all sessions"
   ]
  },
  {
   "cell_type": "code",
   "execution_count": null,
   "metadata": {
    "colab": {
     "base_uri": "https://localhost:8080/",
     "height": 734
    },
    "colab_type": "code",
    "id": "etfqwZ2LoDI2",
    "outputId": "cfba6766-b645-4506-df3b-7ec98f9568cd",
    "scrolled": true
   },
   "outputs": [
    {
     "name": "stdout",
     "output_type": "stream",
     "text": [
      "finished session 0\n",
      "finished session 1\n",
      "finished session 2\n",
      "finished session 3\n",
      "finished session 4\n",
      "finished session 5\n",
      "finished session 6\n",
      "finished session 7\n",
      "finished session 8\n",
      "finished session 9\n",
      "finished session 10\n",
      "finished session 11\n",
      "finished session 12\n",
      "finished session 13\n",
      "finished session 14\n",
      "finished session 15\n",
      "finished session 16\n",
      "finished session 17\n",
      "finished session 18\n",
      "finished session 19\n",
      "finished session 20\n",
      "finished session 21\n",
      "finished session 22\n",
      "finished session 23\n",
      "finished session 24\n",
      "finished session 25\n",
      "finished session 26\n",
      "finished session 27\n",
      "finished session 28\n",
      "finished session 29\n",
      "finished session 30\n",
      "finished session 31\n",
      "finished session 32\n"
     ]
    },
    {
     "name": "stderr",
     "output_type": "stream",
     "text": [
      "/usr/local/lib/python3.6/dist-packages/sklearn/decomposition/_fastica.py:119: ConvergenceWarning: FastICA did not converge. Consider increasing tolerance or the maximum number of iterations.\n",
      "  ConvergenceWarning)\n"
     ]
    },
    {
     "name": "stdout",
     "output_type": "stream",
     "text": [
      "finished session 33\n",
      "finished session 34\n",
      "finished session 35\n",
      "finished session 36\n",
      "finished session 37\n",
      "finished session 38\n"
     ]
    }
   ],
   "source": [
    "# get session data\n",
    "\n",
    "weights = []\n",
    "sessions_areas = []\n",
    "for i, dat in enumerate(alldat):\n",
    "  # prepare data\n",
    "  all_spikes = dat['spks']\n",
    "  NN = all_spikes.shape[0]\n",
    "  N_trials = all_spikes.shape[1]\n",
    "  # time bins of 100ms \n",
    "  binned_multiplier = 10\n",
    "  all_spikes_bined = all_spikes.reshape(NN, N_trials, -1, binned_multiplier)\n",
    "  all_spikes = np.sum(all_spikes_bined, axis=-1)\n",
    "  # get the period between stimulus and go cue\n",
    "  stim_onset = 51 //binned_multiplier\n",
    "  max_len = (int(np.ceil(100*np.max(dat['gocue']))) + stim_onset)//binned_multiplier\n",
    "  data = np.reshape(all_spikes[:,:,stim_onset:stim_onset+max_len], (NN, -1)).T \n",
    "  # get rid of inactive neurons\n",
    "  select_inds = get_rid_of_inactive_neurons(all_spikes[:,:,stim_onset:stim_onset+max_len])\n",
    "  data = data[:,select_inds]\n",
    "\n",
    "  sessions_areas.append(dat['brain_area'][select_inds])\n",
    "  # run ICA and get weights\n",
    "  ica_comp = 3\n",
    "  transformer = FastICA(n_components=ica_comp, random_state=0)\n",
    "  ica_model = transformer.fit(data)\n",
    "  W_ica = ica_model.components_\n",
    "  weights.append(W_ica.T)\n",
    "  print(f'finished session {i}')\n",
    "  "
   ]
  },
  {
   "cell_type": "code",
   "execution_count": null,
   "metadata": {
    "colab": {
     "base_uri": "https://localhost:8080/",
     "height": 448
    },
    "colab_type": "code",
    "id": "-yNeeNDyoIzd",
    "outputId": "270ed920-23f2-49b2-e3f2-d574de1294f2",
    "scrolled": true
   },
   "outputs": [
    {
     "name": "stderr",
     "output_type": "stream",
     "text": [
      "/usr/local/lib/python3.6/dist-packages/numpy/core/fromnumeric.py:3335: RuntimeWarning: Mean of empty slice.\n",
      "  out=out, **kwargs)\n",
      "/usr/local/lib/python3.6/dist-packages/numpy/core/_methods.py:161: RuntimeWarning: invalid value encountered in double_scalars\n",
      "  ret = ret.dtype.type(ret / rcount)\n"
     ]
    },
    {
     "data": {
      "image/png": "[encoded data removed]",
      "text/plain": [
       "<Figure size 2160x720 with 3 Axes>"
      ]
     },
     "metadata": {
      "needs_background": "light",
      "tags": []
     },
     "output_type": "display_data"
    }
   ],
   "source": [
    "# plot weights\n",
    "plot_weights_by_brain_regions_across_sessions(weights, allareas, sessions_areas, 'ICA_all_ses.png')\n"
   ]
  },
  {
   "cell_type": "code",
   "execution_count": null,
   "metadata": {
    "colab": {
     "base_uri": "https://localhost:8080/",
     "height": 375
    },
    "colab_type": "code",
    "id": "X09W9iNtXqiV",
    "outputId": "08f661f5-3272-4490-8cd0-f73d707d73f2",
    "scrolled": true
   },
   "outputs": [
    {
     "data": {
      "image/png": "[encoded data removed]",
      "text/plain": [
       "<Figure size 1440x504 with 3 Axes>"
      ]
     },
     "metadata": {
      "needs_background": "light",
      "tags": []
     },
     "output_type": "display_data"
    }
   ],
   "source": [
    "\n",
    "\n",
    "# plot weights\n",
    "\n",
    "plot_weights_by_big_brain_regions_across_sessions(weights, brain_groups, sessions_areas, 'ICA_big_regions.png')\n",
    "\n"
   ]
  },
  {
   "cell_type": "code",
   "execution_count": null,
   "metadata": {
    "colab": {
     "base_uri": "https://localhost:8080/",
     "height": 1000
    },
    "colab_type": "code",
    "id": "UbI7-OmipRsa",
    "outputId": "fe3c657c-efdc-412d-e557-c796a33d69a4",
    "scrolled": true
   },
   "outputs": [
    {
     "name": "stdout",
     "output_type": "stream",
     "text": [
      "finished session 0\n",
      "finished session 1\n",
      "finished session 2\n",
      "finished session 3\n",
      "finished session 4\n",
      "finished session 5\n",
      "finished session 6\n",
      "finished session 7\n",
      "finished session 8\n",
      "finished session 9\n",
      "finished session 10\n",
      "finished session 11\n",
      "finished session 12\n",
      "finished session 13\n",
      "finished session 14\n",
      "finished session 15\n",
      "finished session 16\n",
      "finished session 17\n",
      "finished session 18\n",
      "finished session 19\n",
      "finished session 20\n",
      "finished session 21\n",
      "finished session 22\n",
      "finished session 23\n",
      "finished session 24\n",
      "finished session 25\n",
      "finished session 26\n",
      "finished session 27\n",
      "finished session 28\n",
      "finished session 29\n",
      "finished session 30\n",
      "finished session 31\n",
      "finished session 32\n",
      "finished session 33\n",
      "finished session 34\n",
      "finished session 35\n",
      "finished session 36\n",
      "finished session 37\n",
      "finished session 38\n"
     ]
    },
    {
     "name": "stderr",
     "output_type": "stream",
     "text": [
      "/usr/local/lib/python3.6/dist-packages/numpy/core/fromnumeric.py:3335: RuntimeWarning: Mean of empty slice.\n",
      "  out=out, **kwargs)\n",
      "/usr/local/lib/python3.6/dist-packages/numpy/core/_methods.py:161: RuntimeWarning: invalid value encountered in double_scalars\n",
      "  ret = ret.dtype.type(ret / rcount)\n"
     ]
    },
    {
     "data": {
      "image/png": "[encoded data removed]",
      "text/plain": [
       "<Figure size 2160x720 with 3 Axes>"
      ]
     },
     "metadata": {
      "needs_background": "light",
      "tags": []
     },
     "output_type": "display_data"
    }
   ],
   "source": [
    "# TRY PLOTTING PCA\n",
    "# get session data\n",
    "\n",
    "from sklearn.decomposition import PCA \n",
    "\n",
    "\n",
    "PCA_weights = []\n",
    "sessions_areas = []\n",
    "for i, dat in enumerate(alldat):\n",
    "  # prepare data\n",
    "  all_spikes = dat['spks']\n",
    "  NN = all_spikes.shape[0]\n",
    "  N_trials = all_spikes.shape[1]\n",
    "  # time bins of 100ms \n",
    "  binned_multiplier = 10\n",
    "  all_spikes_bined = all_spikes.reshape(NN, N_trials, -1, binned_multiplier)\n",
    "  all_spikes = np.sum(all_spikes_bined, axis=-1)\n",
    "  # get the period between stimulus and go cue\n",
    "  stim_onset = 51 //binned_multiplier\n",
    "  max_len = (int(np.ceil(100*np.max(dat['gocue']))) )//binned_multiplier\n",
    "  data = np.reshape(all_spikes[:,:,stim_onset:stim_onset+max_len], (NN, -1)).T \n",
    "  # get rid of inactive neurons\n",
    "  select_inds = get_rid_of_inactive_neurons(all_spikes[:,:,stim_onset:stim_onset+max_len])\n",
    "  data = data[:,select_inds]\n",
    "\n",
    "  sessions_areas.append(dat['brain_area'][select_inds])\n",
    "  # run PCA and get weights\n",
    "  n_PC_components = 3\n",
    "  pca_model = PCA(n_components = n_PC_components).fit(data) # run PCA using stim period \n",
    "  W_pca = pca_model.components_\n",
    "  PCA_weights.append(W_pca.T)\n",
    "  print(f'finished session {i}')\n",
    "\n",
    "# plot weights\n",
    "plot_weights_by_brain_regions_across_sessions(PCA_weights, allareas, sessions_areas, 'PCA_all_ses.png')"
   ]
  },
  {
   "cell_type": "code",
   "execution_count": null,
   "metadata": {
    "colab": {
     "base_uri": "https://localhost:8080/",
     "height": 374
    },
    "colab_type": "code",
    "id": "rMvSDDmcd1H7",
    "outputId": "7a6fd0f3-c4a6-43a8-a8c6-0a81cc5695e0",
    "scrolled": true
   },
   "outputs": [
    {
     "data": {
      "image/png": "[encoded data removed]",
      "text/plain": [
       "<Figure size 1440x504 with 3 Axes>"
      ]
     },
     "metadata": {
      "needs_background": "light",
      "tags": []
     },
     "output_type": "display_data"
    }
   ],
   "source": [
    "\n",
    "plot_weights_by_big_brain_regions_across_sessions(PCA_weights, brain_groups, sessions_areas, 'PCA_big_regions.png')\n",
    "\n"
   ]
  },
  {
   "cell_type": "code",
   "execution_count": 4,
   "metadata": {
    "colab": {
     "base_uri": "https://localhost:8080/",
     "height": 408
    },
    "colab_type": "code",
    "id": "0AAB8JF6WIr8",
    "outputId": "5f5f9d0d-e075-4b74-e542-90f1f995405e",
    "scrolled": true
   },
   "outputs": [],
   "source": [
    "# code used to sort the brain_groups\n",
    "\n",
    "# sorted_inds = []\n",
    "# for i, comp in enumerate(comp_0_results):\n",
    "#   # plt.plot(comp, label=str(i))\n",
    "#   # plt.legend()\n",
    "#   print(len(comp))\n",
    "#   sort_ind = np.argsort(np.array(comp))\n",
    "#   print(sort_ind)\n",
    "#   sorted_inds.append(sort_ind)\n",
    "\n",
    "# new_brain_groups = []\n",
    "# # get the labels in order\n",
    "# for i, group in enumerate(brain_groups):\n",
    "#   new_brain_groups.append(np.array(group)[sorted_inds[i]])\n",
    "\n",
    "# # print\n",
    "# for group in new_brain_groups:\n",
    "#   print(group)\n"
   ]
  },
  {
   "cell_type": "code",
   "execution_count": 77,
   "metadata": {},
   "outputs": [
    {
     "name": "stdout",
     "output_type": "stream",
     "text": [
      "[34  1  5  3  9 15 29 33 14 22  4 23  7  2 38 37  0 20 27 21 18 31 19 10\n",
      " 35  8 36 26  6 11 28 17 25 24 32 30 13 16 12]\n"
     ]
    },
    {
     "data": {
      "text/plain": [
       "Text(0.5, 1.0, 'Number of regions considered per session for ICA')"
      ]
     },
     "execution_count": 77,
     "metadata": {},
     "output_type": "execute_result"
    },
    {
     "data": {
      "image/png": "[encoded data removed]",
      "text/plain": [
       "<Figure size 1440x288 with 1 Axes>"
      ]
     },
     "metadata": {
      "needs_background": "light"
     },
     "output_type": "display_data"
    },
    {
     "data": {
      "image/png": "[encoded data removed]",
      "text/plain": [
       "<Figure size 1440x288 with 1 Axes>"
      ]
     },
     "metadata": {
      "needs_background": "light"
     },
     "output_type": "display_data"
    }
   ],
   "source": [
    "# plot neurons of each brain region\n",
    "\n",
    "\n",
    "regions = [\"vis ctx\", \"thal\", \"hipp\", \"other ctx\", \"midbrain\", \"basal ganglia\", \"cortical subplate\", \"other\"]\n",
    "brain_groups = [[\"VISa\", \"VISam\", \"VISl\", \"VISp\", \"VISpm\", \"VISrl\"], # visual cortex\n",
    "                [\"CL\", \"LD\", \"LGd\", \"LH\", \"LP\", \"MD\", \"MG\", \"PO\", \"POL\", \"PT\", \"RT\", \"SPF\", \"TH\", \"VAL\", \"VPL\", \"VPM\"], # thalamus\n",
    "                [\"CA\", \"CA1\", \"CA2\", \"CA3\", \"DG\", \"SUB\", \"POST\"], # hippocampal\n",
    "                [\"ACA\", \"AUD\", \"COA\", \"DP\", \"ILA\", \"MOp\", \"MOs\", \"OLF\", \"ORB\", \"ORBm\", \"PIR\", \"PL\", \"SSp\", \"SSs\", \"RSP\",\" TT\"], # non-visual cortex\n",
    "                [\"APN\", \"IC\", \"MB\", \"MRN\", \"NB\", \"PAG\", \"RN\", \"SCs\", \"SCm\", \"SCig\", \"SCsg\", \"ZI\"], # midbrain\n",
    "                [\"ACB\", \"CP\", \"GPe\", \"LS\", \"LSc\", \"LSr\", \"MS\", \"OT\", \"SNr\", \"SI\"], # basal ganglia \n",
    "                [\"BLA\", \"BMA\", \"EP\", \"EPd\", \"MEA\"] # cortical subplate\n",
    "                ]\n",
    "\n",
    "nareas = len(brain_groups) \n",
    "# n_sessions = len(lfp_brain) # number of sessions\n",
    "# bareas = []\n",
    "\n",
    "# for idx in range(n_sessions):\n",
    "#     NN = len(dat_LFP[idx]['brain_area_lfp'])\n",
    "#     barea = nareas * np.ones(NN, ) # last one is \"other\"\n",
    "#     for j in range(nareas):\n",
    "#         barea[np.isin(lfp_brain[idx], brain_groups[j])] = j # assign a number to each region\n",
    "#     bareas.append(barea)\n",
    "    \n",
    "n_sessions = 39  \n",
    "sessions_areas =[] \n",
    "for i in range(n_sessions):\n",
    "    sessions_areas.append(alldat[i]['brain_area'])\n",
    "    \n",
    "\n",
    "bareas = []\n",
    "for idx in range(n_sessions):\n",
    "    NN = len(sessions_areas[idx])\n",
    "    barea = nareas * np.ones(NN, ) # last one is \"other\"\n",
    "    for j in range(nareas):\n",
    "          barea[np.isin(sessions_areas[idx], brain_groups[j])] = j # assign a number to each region\n",
    "   \n",
    "    bareas.append(barea)\n",
    "    \n",
    "score_gonogo = np.array(all_correct_scores[0]) #  hmm_gonogo # all_go_scores[0]\n",
    "sorted_by_score = np.argsort(score_gonogo)\n",
    "print(sorted_by_score)\n",
    "plt.figure(figsize=(20, 4))\n",
    "plt.plot(score_gonogo[sorted_by_score])\n",
    "plt.ylabel('Decoding Accuracy')\n",
    "\n",
    "plt.figure(figsize=(20, 4))\n",
    "colors = ['b', 'g', 'r', 'c', 'm', 'y', 'k']\n",
    "\n",
    "i=0\n",
    "for idx in sorted_by_score:\n",
    "# for idx in range(39):\n",
    "    total = 0\n",
    "    for j in range(7):\n",
    "        plt.bar(i, np.sum(bareas[idx]==j), bottom=total, color=colors[j])\n",
    "        total += np.sum(bareas[idx]==j)\n",
    "    i+=1\n",
    "    \n",
    "plt.xlabel('Sorted Sessions')\n",
    "plt.ylabel('# neurons in each subregions')\n",
    "plt.title('Number of regions considered per session for ICA')\n",
    "# plt.legend(['visual cortex', 'thalamus', 'hippocampal', 'other cortex', 'midbrain', 'basal ganglia', 'cortical subplate'])\n",
    "\n",
    "\n"
   ]
  },
  {
   "cell_type": "code",
   "execution_count": 45,
   "metadata": {},
   "outputs": [],
   "source": [
    "\n",
    "hmm_gonogo = [0.85954617, 0.72007076, 0.79824561, 0.95180723, 0.92530345,\n",
    "       0.91047394, 0.55555556, 0.73632626, 0.95430108, 0.88590604,\n",
    "       0.85964912, 0.64516379, 0.68      , 0.51772784, 0.45491063,\n",
    "       0.8392435 , 0.74042042, 0.68969751, 0.80977569, 0.53164557,\n",
    "       0.87940379, 0.71396396, 0.91372549, 0.87173579, 0.64367816,\n",
    "       0.78672316, 0.69519141, 0.70463948, 0.82041344, 0.83953901,\n",
    "       0.61181435, 0.73456295, 0.85300926, 0.45626331, 0.68225666,\n",
    "       0.57364341, 0.62459016, 0.63319765, 0.49216883]\n",
    "\n",
    "hmm_gonogo = np.array(hmm_gonogo)"
   ]
  },
  {
   "cell_type": "code",
   "execution_count": 78,
   "metadata": {},
   "outputs": [
    {
     "name": "stdout",
     "output_type": "stream",
     "text": [
      "[34  1  5  3  9 15 29 33 14 22  4 23  7  2 38 37  0 20 27 21 18 31 19 10\n",
      " 35  8 36 26  6 11 28 17 25 24 32 30 13 16 12]\n"
     ]
    }
   ],
   "source": [
    "\n",
    "ica_reward_scores_sort =  sorted_by_score\n",
    "print(ica_reward_scores_sort)\n"
   ]
  },
  {
   "cell_type": "code",
   "execution_count": 79,
   "metadata": {},
   "outputs": [
    {
     "name": "stdout",
     "output_type": "stream",
     "text": [
      "[ 1 34 14 23  3 15 36 25 21  2 27  7 38 29 26 37 13 32 33  4 22 35 12  0\n",
      " 24  9 11 18 17 20 16 31 10  6 19 30 28  8  5]\n"
     ]
    }
   ],
   "source": [
    "\n",
    "score_gonogo = np.array(all_go_scores[0]) \n",
    "ica_gonogo_scores_sort = np.argsort(score_gonogo)\n",
    "print(ica_gonogo_scores_sort)\n"
   ]
  },
  {
   "cell_type": "code",
   "execution_count": 81,
   "metadata": {},
   "outputs": [
    {
     "data": {
      "text/plain": [
       "[<matplotlib.lines.Line2D at 0x7fd1223ecba8>]"
      ]
     },
     "execution_count": 81,
     "metadata": {},
     "output_type": "execute_result"
    },
    {
     "data": {
      "image/png": "[encoded data removed]",
      "text/plain": [
       "<Figure size 1440x288 with 1 Axes>"
      ]
     },
     "metadata": {
      "needs_background": "light"
     },
     "output_type": "display_data"
    }
   ],
   "source": [
    "\n",
    "plt.plot(np.array(all_go_scores[0])-np.array(all_correct_scores[0]))\n",
    "plt.xtick()\n"
   ]
  },
  {
   "cell_type": "markdown",
   "metadata": {
    "colab_type": "text",
    "id": "1Jv4kSGuRD_z"
   },
   "source": [
    "## Naive Bayes Classifier"
   ]
  },
  {
   "cell_type": "code",
   "execution_count": 58,
   "metadata": {
    "colab": {
     "base_uri": "https://localhost:8080/",
     "height": 34
    },
    "colab_type": "code",
    "id": "t4_-urn3RDE_",
    "outputId": "1be1a7fe-dcca-457a-e7b7-df056a61a512"
   },
   "outputs": [],
   "source": [
    "# use Bernoulli naive bayes to classify \n",
    "\n",
    "from sklearn.naive_bayes import BernoulliNB\n",
    "nb_clf = BernoulliNB()\n",
    "\n",
    "\n",
    "# X = X_transformed.reshape((N_trials, -1))[idxs]\n",
    "\n",
    "# nb_clf.fit(X, Y)\n"
   ]
  },
  {
   "cell_type": "code",
   "execution_count": null,
   "metadata": {
    "colab": {},
    "colab_type": "code",
    "id": "ssVZXZsd4y-o"
   },
   "outputs": [],
   "source": [
    "# Test Naive Bayes classifier with data transformed with PCA \n",
    "\n",
    "pc_X = (pc_10ms.T).reshape((N_trials, -1))[idxs] # reshape and select non no-go trials\n",
    "print(pc_X.shape)\n",
    "print(Y.shape)\n",
    "\n",
    "clf_pca = BernoulliNB()\n",
    "clf_pca.fit(pc_X, Y)"
   ]
  },
  {
   "cell_type": "markdown",
   "metadata": {
    "colab_type": "text",
    "id": "rFi3LwHyphR0"
   },
   "source": [
    "## Logistic Regression Classifier"
   ]
  },
  {
   "cell_type": "code",
   "execution_count": null,
   "metadata": {
    "colab": {
     "base_uri": "https://localhost:8080/",
     "height": 119
    },
    "colab_type": "code",
    "id": "1_M2VtQhpoRx",
    "outputId": "b2f997f6-6149-43fd-f74c-2a3c15ab7113"
   },
   "outputs": [
    {
     "name": "stdout",
     "output_type": "stream",
     "text": [
      "(1029, 3)\n"
     ]
    },
    {
     "data": {
      "text/plain": [
       "LogisticRegression(C=1.0, class_weight=None, dual=False, fit_intercept=True,\n",
       "                   intercept_scaling=1, l1_ratio=None, max_iter=100,\n",
       "                   multi_class='auto', n_jobs=None, penalty='l2',\n",
       "                   random_state=0, solver='lbfgs', tol=0.0001, verbose=0,\n",
       "                   warm_start=False)"
      ]
     },
     "execution_count": 24,
     "metadata": {
      "tags": []
     },
     "output_type": "execute_result"
    }
   ],
   "source": [
    "from sklearn.linear_model import LogisticRegression\n",
    "\n",
    "lr_clf = LogisticRegression(random_state=0)\n",
    "\n",
    "X_transformed_ica = ica_transformer.fit_transform(data)\n",
    "print(X_transformed_ica.shape)\n",
    "\n",
    "X = X_transformed_ica.reshape((N_trials, -1))[idxs]\n",
    "lr_clf.fit(X, Y)\n",
    "\n"
   ]
  },
  {
   "cell_type": "markdown",
   "metadata": {
    "colab_type": "text",
    "id": "dpleiKXURQq-"
   },
   "source": [
    "## Cross-validation and evaluation"
   ]
  },
  {
   "cell_type": "code",
   "execution_count": 57,
   "metadata": {},
   "outputs": [],
   "source": [
    "from sklearn.model_selection import cross_validate \n",
    "\n",
    "\n"
   ]
  },
  {
   "cell_type": "code",
   "execution_count": null,
   "metadata": {
    "colab": {
     "base_uri": "https://localhost:8080/",
     "height": 71
    },
    "colab_type": "code",
    "id": "0JKxZ23nRPLw",
    "outputId": "8a562fe7-86f5-4499-d523-bdb788f2c749"
   },
   "outputs": [
    {
     "name": "stdout",
     "output_type": "stream",
     "text": [
      "{'fit_time': array([0.00357437, 0.00312114, 0.00306368]), 'score_time': array([0.0004127 , 0.00036526, 0.00033331]), 'test_score': array([0.48913043, 0.51086957, 0.51086957]), 'train_score': array([0.52717391, 0.51086957, 0.51086957])}\n",
      "0.5036231884057971\n"
     ]
    }
   ],
   "source": [
    "\n",
    "scores = cross_validate(lr_clf, X, Y, cv=3, return_train_score=True)\n",
    "\n",
    "print(scores)\n",
    "score = np.mean(scores['test_score'])\n",
    "print(score)\n"
   ]
  },
  {
   "cell_type": "code",
   "execution_count": null,
   "metadata": {
    "colab": {},
    "colab_type": "code",
    "id": "OcHOc0sM46cq"
   },
   "outputs": [],
   "source": [
    "# Cross-validate Naive Bayes classifier with data transformed with PCA \n",
    "\n",
    "scores_pca = cross_validate(clf_pca, pc_X, Y, cv=3, return_train_score=True)\n",
    "\n",
    "print(scores_pca)\n",
    "score_pca = np.mean(scores_pca['test_score'])\n",
    "print('Test Score with PCA-transformed data: ', score_pca)\n"
   ]
  },
  {
   "cell_type": "markdown",
   "metadata": {
    "colab_type": "text",
    "id": "2XV9-vcXRi7U"
   },
   "source": [
    "### Find the optimal number of reduced components"
   ]
  },
  {
   "cell_type": "code",
   "execution_count": null,
   "metadata": {
    "colab": {
     "base_uri": "https://localhost:8080/",
     "height": 1000
    },
    "colab_type": "code",
    "id": "cu1PSEQURh39",
    "outputId": "0eb7c7d0-91c5-435d-c61f-86b78995a357"
   },
   "outputs": [
    {
     "name": "stdout",
     "output_type": "stream",
     "text": [
      "finished session 0\n",
      "finished session 1\n",
      "finished session 2\n",
      "finished session 3\n",
      "finished session 4\n",
      "finished session 5\n",
      "finished session 6\n",
      "finished session 7\n",
      "finished session 8\n",
      "finished session 9\n",
      "finished session 10\n",
      "finished session 11\n",
      "finished session 12\n",
      "finished session 13\n",
      "finished session 14\n",
      "finished session 15\n",
      "finished session 16\n",
      "finished session 17\n",
      "finished session 18\n",
      "finished session 19\n",
      "finished session 20\n",
      "finished session 21\n",
      "finished session 22\n",
      "finished session 23\n",
      "finished session 24\n",
      "finished session 25\n",
      "finished session 26\n",
      "finished session 27\n",
      "finished session 28\n",
      "finished session 29\n",
      "finished session 30\n",
      "finished session 31\n",
      "finished session 32\n"
     ]
    },
    {
     "name": "stderr",
     "output_type": "stream",
     "text": [
      "/usr/local/lib/python3.6/dist-packages/sklearn/decomposition/_fastica.py:119: ConvergenceWarning: FastICA did not converge. Consider increasing tolerance or the maximum number of iterations.\n",
      "  ConvergenceWarning)\n"
     ]
    },
    {
     "name": "stdout",
     "output_type": "stream",
     "text": [
      "finished session 33\n",
      "finished session 34\n",
      "finished session 35\n",
      "finished session 36\n",
      "finished session 37\n",
      "finished session 38\n",
      "finished eval comp 3\n",
      "\n",
      "finished session 0\n",
      "finished session 1\n",
      "finished session 2\n",
      "finished session 3\n",
      "finished session 4\n",
      "finished session 5\n",
      "finished session 6\n",
      "finished session 7\n",
      "finished session 8\n"
     ]
    },
    {
     "name": "stderr",
     "output_type": "stream",
     "text": [
      "/usr/local/lib/python3.6/dist-packages/sklearn/decomposition/_fastica.py:119: ConvergenceWarning: FastICA did not converge. Consider increasing tolerance or the maximum number of iterations.\n",
      "  ConvergenceWarning)\n"
     ]
    },
    {
     "name": "stdout",
     "output_type": "stream",
     "text": [
      "finished session 9\n",
      "finished session 10\n"
     ]
    },
    {
     "name": "stderr",
     "output_type": "stream",
     "text": [
      "/usr/local/lib/python3.6/dist-packages/sklearn/decomposition/_fastica.py:119: ConvergenceWarning: FastICA did not converge. Consider increasing tolerance or the maximum number of iterations.\n",
      "  ConvergenceWarning)\n"
     ]
    },
    {
     "name": "stdout",
     "output_type": "stream",
     "text": [
      "finished session 11\n",
      "finished session 12\n",
      "finished session 13\n",
      "finished session 14\n"
     ]
    },
    {
     "name": "stderr",
     "output_type": "stream",
     "text": [
      "/usr/local/lib/python3.6/dist-packages/sklearn/decomposition/_fastica.py:119: ConvergenceWarning: FastICA did not converge. Consider increasing tolerance or the maximum number of iterations.\n",
      "  ConvergenceWarning)\n"
     ]
    },
    {
     "name": "stdout",
     "output_type": "stream",
     "text": [
      "finished session 15\n",
      "finished session 16\n",
      "finished session 17\n"
     ]
    },
    {
     "name": "stderr",
     "output_type": "stream",
     "text": [
      "/usr/local/lib/python3.6/dist-packages/sklearn/decomposition/_fastica.py:119: ConvergenceWarning: FastICA did not converge. Consider increasing tolerance or the maximum number of iterations.\n",
      "  ConvergenceWarning)\n"
     ]
    },
    {
     "name": "stdout",
     "output_type": "stream",
     "text": [
      "finished session 18\n",
      "finished session 19\n",
      "finished session 20\n",
      "finished session 21\n",
      "finished session 22\n",
      "finished session 23\n"
     ]
    },
    {
     "name": "stderr",
     "output_type": "stream",
     "text": [
      "/usr/local/lib/python3.6/dist-packages/sklearn/decomposition/_fastica.py:119: ConvergenceWarning: FastICA did not converge. Consider increasing tolerance or the maximum number of iterations.\n",
      "  ConvergenceWarning)\n"
     ]
    },
    {
     "name": "stdout",
     "output_type": "stream",
     "text": [
      "finished session 24\n",
      "finished session 25\n",
      "finished session 26\n",
      "finished session 27\n",
      "finished session 28\n",
      "finished session 29\n",
      "finished session 30\n",
      "finished session 31\n",
      "finished session 32\n",
      "finished session 33\n",
      "finished session 34\n",
      "finished session 35\n",
      "finished session 36\n",
      "finished session 37\n",
      "finished session 38\n",
      "finished eval comp 6\n",
      "\n",
      "finished session 0\n",
      "finished session 1\n",
      "finished session 2\n",
      "finished session 3\n",
      "finished session 4\n",
      "finished session 5\n"
     ]
    },
    {
     "name": "stderr",
     "output_type": "stream",
     "text": [
      "/usr/local/lib/python3.6/dist-packages/sklearn/decomposition/_fastica.py:119: ConvergenceWarning: FastICA did not converge. Consider increasing tolerance or the maximum number of iterations.\n",
      "  ConvergenceWarning)\n"
     ]
    },
    {
     "name": "stdout",
     "output_type": "stream",
     "text": [
      "finished session 6\n",
      "finished session 7\n",
      "finished session 8\n"
     ]
    },
    {
     "name": "stderr",
     "output_type": "stream",
     "text": [
      "/usr/local/lib/python3.6/dist-packages/sklearn/decomposition/_fastica.py:119: ConvergenceWarning: FastICA did not converge. Consider increasing tolerance or the maximum number of iterations.\n",
      "  ConvergenceWarning)\n"
     ]
    },
    {
     "name": "stdout",
     "output_type": "stream",
     "text": [
      "finished session 9\n",
      "finished session 10\n"
     ]
    },
    {
     "name": "stderr",
     "output_type": "stream",
     "text": [
      "/usr/local/lib/python3.6/dist-packages/sklearn/decomposition/_fastica.py:119: ConvergenceWarning: FastICA did not converge. Consider increasing tolerance or the maximum number of iterations.\n",
      "  ConvergenceWarning)\n"
     ]
    },
    {
     "name": "stdout",
     "output_type": "stream",
     "text": [
      "finished session 11\n",
      "finished session 12\n",
      "finished session 13\n"
     ]
    },
    {
     "name": "stderr",
     "output_type": "stream",
     "text": [
      "/usr/local/lib/python3.6/dist-packages/sklearn/decomposition/_fastica.py:119: ConvergenceWarning: FastICA did not converge. Consider increasing tolerance or the maximum number of iterations.\n",
      "  ConvergenceWarning)\n"
     ]
    },
    {
     "name": "stdout",
     "output_type": "stream",
     "text": [
      "finished session 14\n"
     ]
    },
    {
     "name": "stderr",
     "output_type": "stream",
     "text": [
      "/usr/local/lib/python3.6/dist-packages/sklearn/decomposition/_fastica.py:119: ConvergenceWarning: FastICA did not converge. Consider increasing tolerance or the maximum number of iterations.\n",
      "  ConvergenceWarning)\n"
     ]
    },
    {
     "name": "stdout",
     "output_type": "stream",
     "text": [
      "finished session 15\n",
      "finished session 16\n",
      "finished session 17\n"
     ]
    },
    {
     "name": "stderr",
     "output_type": "stream",
     "text": [
      "/usr/local/lib/python3.6/dist-packages/sklearn/decomposition/_fastica.py:119: ConvergenceWarning: FastICA did not converge. Consider increasing tolerance or the maximum number of iterations.\n",
      "  ConvergenceWarning)\n"
     ]
    },
    {
     "name": "stdout",
     "output_type": "stream",
     "text": [
      "finished session 18\n",
      "finished session 19\n",
      "finished session 20\n",
      "finished session 21\n",
      "finished session 22\n",
      "finished session 23\n",
      "finished session 24\n",
      "finished session 25\n"
     ]
    },
    {
     "name": "stderr",
     "output_type": "stream",
     "text": [
      "/usr/local/lib/python3.6/dist-packages/sklearn/decomposition/_fastica.py:119: ConvergenceWarning: FastICA did not converge. Consider increasing tolerance or the maximum number of iterations.\n",
      "  ConvergenceWarning)\n"
     ]
    },
    {
     "name": "stdout",
     "output_type": "stream",
     "text": [
      "finished session 26\n",
      "finished session 27\n",
      "finished session 28\n",
      "finished session 29\n",
      "finished session 30\n",
      "finished session 31\n",
      "finished session 32\n",
      "finished session 33\n",
      "finished session 34\n",
      "finished session 35\n",
      "finished session 36\n",
      "finished session 37\n"
     ]
    },
    {
     "name": "stderr",
     "output_type": "stream",
     "text": [
      "/usr/local/lib/python3.6/dist-packages/sklearn/decomposition/_fastica.py:119: ConvergenceWarning: FastICA did not converge. Consider increasing tolerance or the maximum number of iterations.\n",
      "  ConvergenceWarning)\n"
     ]
    },
    {
     "name": "stdout",
     "output_type": "stream",
     "text": [
      "finished session 38\n",
      "finished eval comp 10\n",
      "\n",
      "finished session 0\n",
      "finished session 1\n",
      "finished session 2\n",
      "finished session 3\n",
      "finished session 4\n",
      "finished session 5\n",
      "finished session 6\n"
     ]
    },
    {
     "name": "stderr",
     "output_type": "stream",
     "text": [
      "/usr/local/lib/python3.6/dist-packages/sklearn/decomposition/_fastica.py:119: ConvergenceWarning: FastICA did not converge. Consider increasing tolerance or the maximum number of iterations.\n",
      "  ConvergenceWarning)\n"
     ]
    },
    {
     "name": "stdout",
     "output_type": "stream",
     "text": [
      "finished session 7\n",
      "finished session 8\n"
     ]
    },
    {
     "name": "stderr",
     "output_type": "stream",
     "text": [
      "/usr/local/lib/python3.6/dist-packages/sklearn/decomposition/_fastica.py:119: ConvergenceWarning: FastICA did not converge. Consider increasing tolerance or the maximum number of iterations.\n",
      "  ConvergenceWarning)\n"
     ]
    },
    {
     "name": "stdout",
     "output_type": "stream",
     "text": [
      "finished session 9\n",
      "finished session 10\n",
      "finished session 11\n"
     ]
    },
    {
     "name": "stderr",
     "output_type": "stream",
     "text": [
      "/usr/local/lib/python3.6/dist-packages/sklearn/decomposition/_fastica.py:119: ConvergenceWarning: FastICA did not converge. Consider increasing tolerance or the maximum number of iterations.\n",
      "  ConvergenceWarning)\n"
     ]
    },
    {
     "name": "stdout",
     "output_type": "stream",
     "text": [
      "finished session 12\n",
      "finished session 13\n"
     ]
    },
    {
     "name": "stderr",
     "output_type": "stream",
     "text": [
      "/usr/local/lib/python3.6/dist-packages/sklearn/decomposition/_fastica.py:119: ConvergenceWarning: FastICA did not converge. Consider increasing tolerance or the maximum number of iterations.\n",
      "  ConvergenceWarning)\n"
     ]
    },
    {
     "name": "stdout",
     "output_type": "stream",
     "text": [
      "finished session 14\n"
     ]
    },
    {
     "name": "stderr",
     "output_type": "stream",
     "text": [
      "/usr/local/lib/python3.6/dist-packages/sklearn/decomposition/_fastica.py:119: ConvergenceWarning: FastICA did not converge. Consider increasing tolerance or the maximum number of iterations.\n",
      "  ConvergenceWarning)\n"
     ]
    },
    {
     "name": "stdout",
     "output_type": "stream",
     "text": [
      "finished session 15\n",
      "finished session 16\n"
     ]
    },
    {
     "name": "stderr",
     "output_type": "stream",
     "text": [
      "/usr/local/lib/python3.6/dist-packages/sklearn/decomposition/_fastica.py:119: ConvergenceWarning: FastICA did not converge. Consider increasing tolerance or the maximum number of iterations.\n",
      "  ConvergenceWarning)\n"
     ]
    },
    {
     "name": "stdout",
     "output_type": "stream",
     "text": [
      "finished session 17\n",
      "finished session 18\n",
      "finished session 19\n",
      "finished session 20\n",
      "finished session 21\n",
      "finished session 22\n",
      "finished session 23\n"
     ]
    },
    {
     "name": "stderr",
     "output_type": "stream",
     "text": [
      "/usr/local/lib/python3.6/dist-packages/sklearn/decomposition/_fastica.py:119: ConvergenceWarning: FastICA did not converge. Consider increasing tolerance or the maximum number of iterations.\n",
      "  ConvergenceWarning)\n"
     ]
    },
    {
     "name": "stdout",
     "output_type": "stream",
     "text": [
      "finished session 24\n",
      "finished session 25\n",
      "finished session 26\n",
      "finished session 27\n",
      "finished session 28\n",
      "finished session 29\n",
      "finished session 30\n",
      "finished session 31\n"
     ]
    },
    {
     "name": "stderr",
     "output_type": "stream",
     "text": [
      "/usr/local/lib/python3.6/dist-packages/sklearn/decomposition/_fastica.py:119: ConvergenceWarning: FastICA did not converge. Consider increasing tolerance or the maximum number of iterations.\n",
      "  ConvergenceWarning)\n"
     ]
    },
    {
     "name": "stdout",
     "output_type": "stream",
     "text": [
      "finished session 32\n"
     ]
    },
    {
     "name": "stderr",
     "output_type": "stream",
     "text": [
      "/usr/local/lib/python3.6/dist-packages/sklearn/decomposition/_fastica.py:119: ConvergenceWarning: FastICA did not converge. Consider increasing tolerance or the maximum number of iterations.\n",
      "  ConvergenceWarning)\n"
     ]
    },
    {
     "name": "stdout",
     "output_type": "stream",
     "text": [
      "finished session 33\n",
      "finished session 34\n"
     ]
    },
    {
     "name": "stderr",
     "output_type": "stream",
     "text": [
      "/usr/local/lib/python3.6/dist-packages/sklearn/decomposition/_fastica.py:119: ConvergenceWarning: FastICA did not converge. Consider increasing tolerance or the maximum number of iterations.\n",
      "  ConvergenceWarning)\n"
     ]
    },
    {
     "name": "stdout",
     "output_type": "stream",
     "text": [
      "finished session 35\n",
      "finished session 36\n",
      "finished session 37\n",
      "finished session 38\n",
      "finished eval comp 15\n",
      "\n",
      "finished session 0\n",
      "finished session 1\n",
      "finished session 2\n",
      "finished session 3\n"
     ]
    },
    {
     "name": "stderr",
     "output_type": "stream",
     "text": [
      "/usr/local/lib/python3.6/dist-packages/sklearn/decomposition/_fastica.py:119: ConvergenceWarning: FastICA did not converge. Consider increasing tolerance or the maximum number of iterations.\n",
      "  ConvergenceWarning)\n"
     ]
    },
    {
     "name": "stdout",
     "output_type": "stream",
     "text": [
      "finished session 4\n",
      "finished session 5\n",
      "finished session 6\n"
     ]
    },
    {
     "name": "stderr",
     "output_type": "stream",
     "text": [
      "/usr/local/lib/python3.6/dist-packages/sklearn/decomposition/_fastica.py:119: ConvergenceWarning: FastICA did not converge. Consider increasing tolerance or the maximum number of iterations.\n",
      "  ConvergenceWarning)\n"
     ]
    },
    {
     "name": "stdout",
     "output_type": "stream",
     "text": [
      "finished session 7\n",
      "finished session 8\n"
     ]
    },
    {
     "name": "stderr",
     "output_type": "stream",
     "text": [
      "/usr/local/lib/python3.6/dist-packages/sklearn/decomposition/_fastica.py:119: ConvergenceWarning: FastICA did not converge. Consider increasing tolerance or the maximum number of iterations.\n",
      "  ConvergenceWarning)\n"
     ]
    },
    {
     "name": "stdout",
     "output_type": "stream",
     "text": [
      "finished session 9\n",
      "finished session 10\n"
     ]
    },
    {
     "name": "stderr",
     "output_type": "stream",
     "text": [
      "/usr/local/lib/python3.6/dist-packages/sklearn/decomposition/_fastica.py:119: ConvergenceWarning: FastICA did not converge. Consider increasing tolerance or the maximum number of iterations.\n",
      "  ConvergenceWarning)\n"
     ]
    },
    {
     "name": "stdout",
     "output_type": "stream",
     "text": [
      "finished session 11\n"
     ]
    },
    {
     "name": "stderr",
     "output_type": "stream",
     "text": [
      "/usr/local/lib/python3.6/dist-packages/sklearn/decomposition/_fastica.py:119: ConvergenceWarning: FastICA did not converge. Consider increasing tolerance or the maximum number of iterations.\n",
      "  ConvergenceWarning)\n"
     ]
    },
    {
     "name": "stdout",
     "output_type": "stream",
     "text": [
      "finished session 12\n"
     ]
    },
    {
     "name": "stderr",
     "output_type": "stream",
     "text": [
      "/usr/local/lib/python3.6/dist-packages/sklearn/decomposition/_fastica.py:119: ConvergenceWarning: FastICA did not converge. Consider increasing tolerance or the maximum number of iterations.\n",
      "  ConvergenceWarning)\n"
     ]
    },
    {
     "name": "stdout",
     "output_type": "stream",
     "text": [
      "finished session 13\n",
      "finished session 14\n",
      "finished session 15\n"
     ]
    },
    {
     "name": "stderr",
     "output_type": "stream",
     "text": [
      "/usr/local/lib/python3.6/dist-packages/sklearn/decomposition/_fastica.py:119: ConvergenceWarning: FastICA did not converge. Consider increasing tolerance or the maximum number of iterations.\n",
      "  ConvergenceWarning)\n"
     ]
    },
    {
     "name": "stdout",
     "output_type": "stream",
     "text": [
      "finished session 16\n"
     ]
    },
    {
     "name": "stderr",
     "output_type": "stream",
     "text": [
      "/usr/local/lib/python3.6/dist-packages/sklearn/decomposition/_fastica.py:119: ConvergenceWarning: FastICA did not converge. Consider increasing tolerance or the maximum number of iterations.\n",
      "  ConvergenceWarning)\n"
     ]
    },
    {
     "name": "stdout",
     "output_type": "stream",
     "text": [
      "finished session 17\n"
     ]
    },
    {
     "name": "stderr",
     "output_type": "stream",
     "text": [
      "/usr/local/lib/python3.6/dist-packages/sklearn/decomposition/_fastica.py:119: ConvergenceWarning: FastICA did not converge. Consider increasing tolerance or the maximum number of iterations.\n",
      "  ConvergenceWarning)\n"
     ]
    },
    {
     "name": "stdout",
     "output_type": "stream",
     "text": [
      "finished session 18\n",
      "finished session 19\n",
      "finished session 20\n",
      "finished session 21\n",
      "finished session 22\n",
      "finished session 23\n",
      "finished session 24\n"
     ]
    },
    {
     "name": "stderr",
     "output_type": "stream",
     "text": [
      "/usr/local/lib/python3.6/dist-packages/sklearn/decomposition/_fastica.py:119: ConvergenceWarning: FastICA did not converge. Consider increasing tolerance or the maximum number of iterations.\n",
      "  ConvergenceWarning)\n"
     ]
    },
    {
     "name": "stdout",
     "output_type": "stream",
     "text": [
      "finished session 25\n",
      "finished session 26\n",
      "finished session 27\n",
      "finished session 28\n"
     ]
    },
    {
     "name": "stderr",
     "output_type": "stream",
     "text": [
      "/usr/local/lib/python3.6/dist-packages/sklearn/decomposition/_fastica.py:119: ConvergenceWarning: FastICA did not converge. Consider increasing tolerance or the maximum number of iterations.\n",
      "  ConvergenceWarning)\n"
     ]
    },
    {
     "name": "stdout",
     "output_type": "stream",
     "text": [
      "finished session 29\n",
      "finished session 30\n",
      "finished session 31\n"
     ]
    },
    {
     "name": "stderr",
     "output_type": "stream",
     "text": [
      "/usr/local/lib/python3.6/dist-packages/sklearn/decomposition/_fastica.py:119: ConvergenceWarning: FastICA did not converge. Consider increasing tolerance or the maximum number of iterations.\n",
      "  ConvergenceWarning)\n"
     ]
    },
    {
     "name": "stdout",
     "output_type": "stream",
     "text": [
      "finished session 32\n",
      "finished session 33\n",
      "finished session 34\n"
     ]
    },
    {
     "name": "stderr",
     "output_type": "stream",
     "text": [
      "/usr/local/lib/python3.6/dist-packages/sklearn/decomposition/_fastica.py:119: ConvergenceWarning: FastICA did not converge. Consider increasing tolerance or the maximum number of iterations.\n",
      "  ConvergenceWarning)\n"
     ]
    },
    {
     "name": "stdout",
     "output_type": "stream",
     "text": [
      "finished session 35\n",
      "finished session 36\n"
     ]
    },
    {
     "name": "stderr",
     "output_type": "stream",
     "text": [
      "/usr/local/lib/python3.6/dist-packages/sklearn/decomposition/_fastica.py:119: ConvergenceWarning: FastICA did not converge. Consider increasing tolerance or the maximum number of iterations.\n",
      "  ConvergenceWarning)\n"
     ]
    },
    {
     "name": "stdout",
     "output_type": "stream",
     "text": [
      "finished session 37\n",
      "finished session 38\n",
      "finished eval comp 20\n",
      "\n"
     ]
    },
    {
     "name": "stderr",
     "output_type": "stream",
     "text": [
      "/usr/local/lib/python3.6/dist-packages/sklearn/decomposition/_fastica.py:119: ConvergenceWarning: FastICA did not converge. Consider increasing tolerance or the maximum number of iterations.\n",
      "  ConvergenceWarning)\n"
     ]
    },
    {
     "name": "stdout",
     "output_type": "stream",
     "text": [
      "finished session 0\n",
      "finished session 1\n"
     ]
    },
    {
     "name": "stderr",
     "output_type": "stream",
     "text": [
      "/usr/local/lib/python3.6/dist-packages/sklearn/decomposition/_fastica.py:119: ConvergenceWarning: FastICA did not converge. Consider increasing tolerance or the maximum number of iterations.\n",
      "  ConvergenceWarning)\n"
     ]
    },
    {
     "name": "stdout",
     "output_type": "stream",
     "text": [
      "finished session 2\n"
     ]
    },
    {
     "name": "stderr",
     "output_type": "stream",
     "text": [
      "/usr/local/lib/python3.6/dist-packages/sklearn/decomposition/_fastica.py:119: ConvergenceWarning: FastICA did not converge. Consider increasing tolerance or the maximum number of iterations.\n",
      "  ConvergenceWarning)\n"
     ]
    },
    {
     "name": "stdout",
     "output_type": "stream",
     "text": [
      "finished session 3\n",
      "finished session 4\n"
     ]
    },
    {
     "name": "stderr",
     "output_type": "stream",
     "text": [
      "/usr/local/lib/python3.6/dist-packages/sklearn/decomposition/_fastica.py:119: ConvergenceWarning: FastICA did not converge. Consider increasing tolerance or the maximum number of iterations.\n",
      "  ConvergenceWarning)\n"
     ]
    },
    {
     "name": "stdout",
     "output_type": "stream",
     "text": [
      "finished session 5\n"
     ]
    },
    {
     "name": "stderr",
     "output_type": "stream",
     "text": [
      "/usr/local/lib/python3.6/dist-packages/sklearn/decomposition/_fastica.py:119: ConvergenceWarning: FastICA did not converge. Consider increasing tolerance or the maximum number of iterations.\n",
      "  ConvergenceWarning)\n"
     ]
    },
    {
     "name": "stdout",
     "output_type": "stream",
     "text": [
      "finished session 6\n",
      "finished session 7\n",
      "finished session 8\n",
      "finished session 9\n"
     ]
    },
    {
     "name": "stderr",
     "output_type": "stream",
     "text": [
      "/usr/local/lib/python3.6/dist-packages/sklearn/decomposition/_fastica.py:119: ConvergenceWarning: FastICA did not converge. Consider increasing tolerance or the maximum number of iterations.\n",
      "  ConvergenceWarning)\n"
     ]
    },
    {
     "name": "stdout",
     "output_type": "stream",
     "text": [
      "finished session 10\n"
     ]
    },
    {
     "name": "stderr",
     "output_type": "stream",
     "text": [
      "/usr/local/lib/python3.6/dist-packages/sklearn/decomposition/_fastica.py:119: ConvergenceWarning: FastICA did not converge. Consider increasing tolerance or the maximum number of iterations.\n",
      "  ConvergenceWarning)\n"
     ]
    },
    {
     "name": "stdout",
     "output_type": "stream",
     "text": [
      "finished session 11\n"
     ]
    },
    {
     "name": "stderr",
     "output_type": "stream",
     "text": [
      "/usr/local/lib/python3.6/dist-packages/sklearn/decomposition/_fastica.py:119: ConvergenceWarning: FastICA did not converge. Consider increasing tolerance or the maximum number of iterations.\n",
      "  ConvergenceWarning)\n"
     ]
    },
    {
     "name": "stdout",
     "output_type": "stream",
     "text": [
      "finished session 12\n"
     ]
    },
    {
     "name": "stderr",
     "output_type": "stream",
     "text": [
      "/usr/local/lib/python3.6/dist-packages/sklearn/decomposition/_fastica.py:119: ConvergenceWarning: FastICA did not converge. Consider increasing tolerance or the maximum number of iterations.\n",
      "  ConvergenceWarning)\n"
     ]
    },
    {
     "name": "stdout",
     "output_type": "stream",
     "text": [
      "finished session 13\n",
      "finished session 14\n"
     ]
    },
    {
     "name": "stderr",
     "output_type": "stream",
     "text": [
      "/usr/local/lib/python3.6/dist-packages/sklearn/decomposition/_fastica.py:119: ConvergenceWarning: FastICA did not converge. Consider increasing tolerance or the maximum number of iterations.\n",
      "  ConvergenceWarning)\n"
     ]
    },
    {
     "name": "stdout",
     "output_type": "stream",
     "text": [
      "finished session 15\n"
     ]
    },
    {
     "name": "stderr",
     "output_type": "stream",
     "text": [
      "/usr/local/lib/python3.6/dist-packages/sklearn/decomposition/_fastica.py:119: ConvergenceWarning: FastICA did not converge. Consider increasing tolerance or the maximum number of iterations.\n",
      "  ConvergenceWarning)\n"
     ]
    },
    {
     "name": "stdout",
     "output_type": "stream",
     "text": [
      "finished session 16\n"
     ]
    },
    {
     "name": "stderr",
     "output_type": "stream",
     "text": [
      "/usr/local/lib/python3.6/dist-packages/sklearn/decomposition/_fastica.py:119: ConvergenceWarning: FastICA did not converge. Consider increasing tolerance or the maximum number of iterations.\n",
      "  ConvergenceWarning)\n"
     ]
    },
    {
     "name": "stdout",
     "output_type": "stream",
     "text": [
      "finished session 17\n"
     ]
    },
    {
     "name": "stderr",
     "output_type": "stream",
     "text": [
      "/usr/local/lib/python3.6/dist-packages/sklearn/decomposition/_fastica.py:119: ConvergenceWarning: FastICA did not converge. Consider increasing tolerance or the maximum number of iterations.\n",
      "  ConvergenceWarning)\n"
     ]
    },
    {
     "name": "stdout",
     "output_type": "stream",
     "text": [
      "finished session 18\n",
      "finished session 19\n",
      "finished session 20\n"
     ]
    },
    {
     "name": "stderr",
     "output_type": "stream",
     "text": [
      "/usr/local/lib/python3.6/dist-packages/sklearn/decomposition/_fastica.py:119: ConvergenceWarning: FastICA did not converge. Consider increasing tolerance or the maximum number of iterations.\n",
      "  ConvergenceWarning)\n"
     ]
    },
    {
     "name": "stdout",
     "output_type": "stream",
     "text": [
      "finished session 21\n",
      "finished session 22\n"
     ]
    },
    {
     "name": "stderr",
     "output_type": "stream",
     "text": [
      "/usr/local/lib/python3.6/dist-packages/sklearn/decomposition/_fastica.py:119: ConvergenceWarning: FastICA did not converge. Consider increasing tolerance or the maximum number of iterations.\n",
      "  ConvergenceWarning)\n"
     ]
    },
    {
     "name": "stdout",
     "output_type": "stream",
     "text": [
      "finished session 23\n"
     ]
    },
    {
     "name": "stderr",
     "output_type": "stream",
     "text": [
      "/usr/local/lib/python3.6/dist-packages/sklearn/decomposition/_fastica.py:119: ConvergenceWarning: FastICA did not converge. Consider increasing tolerance or the maximum number of iterations.\n",
      "  ConvergenceWarning)\n"
     ]
    },
    {
     "name": "stdout",
     "output_type": "stream",
     "text": [
      "finished session 24\n"
     ]
    },
    {
     "name": "stderr",
     "output_type": "stream",
     "text": [
      "/usr/local/lib/python3.6/dist-packages/sklearn/decomposition/_fastica.py:119: ConvergenceWarning: FastICA did not converge. Consider increasing tolerance or the maximum number of iterations.\n",
      "  ConvergenceWarning)\n"
     ]
    },
    {
     "name": "stdout",
     "output_type": "stream",
     "text": [
      "finished session 25\n",
      "finished session 26\n"
     ]
    },
    {
     "name": "stderr",
     "output_type": "stream",
     "text": [
      "/usr/local/lib/python3.6/dist-packages/sklearn/decomposition/_fastica.py:119: ConvergenceWarning: FastICA did not converge. Consider increasing tolerance or the maximum number of iterations.\n",
      "  ConvergenceWarning)\n"
     ]
    },
    {
     "name": "stdout",
     "output_type": "stream",
     "text": [
      "finished session 27\n",
      "finished session 28\n",
      "finished session 29\n"
     ]
    },
    {
     "name": "stderr",
     "output_type": "stream",
     "text": [
      "/usr/local/lib/python3.6/dist-packages/sklearn/decomposition/_fastica.py:119: ConvergenceWarning: FastICA did not converge. Consider increasing tolerance or the maximum number of iterations.\n",
      "  ConvergenceWarning)\n"
     ]
    },
    {
     "name": "stdout",
     "output_type": "stream",
     "text": [
      "finished session 30\n"
     ]
    },
    {
     "name": "stderr",
     "output_type": "stream",
     "text": [
      "/usr/local/lib/python3.6/dist-packages/sklearn/decomposition/_fastica.py:119: ConvergenceWarning: FastICA did not converge. Consider increasing tolerance or the maximum number of iterations.\n",
      "  ConvergenceWarning)\n"
     ]
    },
    {
     "name": "stdout",
     "output_type": "stream",
     "text": [
      "finished session 31\n"
     ]
    },
    {
     "name": "stderr",
     "output_type": "stream",
     "text": [
      "/usr/local/lib/python3.6/dist-packages/sklearn/decomposition/_fastica.py:119: ConvergenceWarning: FastICA did not converge. Consider increasing tolerance or the maximum number of iterations.\n",
      "  ConvergenceWarning)\n"
     ]
    },
    {
     "name": "stdout",
     "output_type": "stream",
     "text": [
      "finished session 32\n"
     ]
    },
    {
     "name": "stderr",
     "output_type": "stream",
     "text": [
      "/usr/local/lib/python3.6/dist-packages/sklearn/decomposition/_fastica.py:119: ConvergenceWarning: FastICA did not converge. Consider increasing tolerance or the maximum number of iterations.\n",
      "  ConvergenceWarning)\n"
     ]
    },
    {
     "name": "stdout",
     "output_type": "stream",
     "text": [
      "finished session 33\n"
     ]
    },
    {
     "name": "stderr",
     "output_type": "stream",
     "text": [
      "/usr/local/lib/python3.6/dist-packages/sklearn/decomposition/_fastica.py:119: ConvergenceWarning: FastICA did not converge. Consider increasing tolerance or the maximum number of iterations.\n",
      "  ConvergenceWarning)\n"
     ]
    },
    {
     "name": "stdout",
     "output_type": "stream",
     "text": [
      "finished session 34\n"
     ]
    },
    {
     "name": "stderr",
     "output_type": "stream",
     "text": [
      "/usr/local/lib/python3.6/dist-packages/sklearn/decomposition/_fastica.py:119: ConvergenceWarning: FastICA did not converge. Consider increasing tolerance or the maximum number of iterations.\n",
      "  ConvergenceWarning)\n"
     ]
    },
    {
     "name": "stdout",
     "output_type": "stream",
     "text": [
      "finished session 35\n",
      "finished session 36\n"
     ]
    },
    {
     "name": "stderr",
     "output_type": "stream",
     "text": [
      "/usr/local/lib/python3.6/dist-packages/sklearn/decomposition/_fastica.py:119: ConvergenceWarning: FastICA did not converge. Consider increasing tolerance or the maximum number of iterations.\n",
      "  ConvergenceWarning)\n"
     ]
    },
    {
     "name": "stdout",
     "output_type": "stream",
     "text": [
      "finished session 37\n"
     ]
    },
    {
     "name": "stderr",
     "output_type": "stream",
     "text": [
      "/usr/local/lib/python3.6/dist-packages/sklearn/decomposition/_fastica.py:119: ConvergenceWarning: FastICA did not converge. Consider increasing tolerance or the maximum number of iterations.\n",
      "  ConvergenceWarning)\n"
     ]
    },
    {
     "name": "stdout",
     "output_type": "stream",
     "text": [
      "finished session 38\n",
      "finished eval comp 100\n",
      "\n",
      "finished session 0\n"
     ]
    },
    {
     "name": "stderr",
     "output_type": "stream",
     "text": [
      "/usr/local/lib/python3.6/dist-packages/sklearn/decomposition/_fastica.py:119: ConvergenceWarning: FastICA did not converge. Consider increasing tolerance or the maximum number of iterations.\n",
      "  ConvergenceWarning)\n"
     ]
    },
    {
     "name": "stdout",
     "output_type": "stream",
     "text": [
      "finished session 1\n"
     ]
    },
    {
     "name": "stderr",
     "output_type": "stream",
     "text": [
      "/usr/local/lib/python3.6/dist-packages/sklearn/decomposition/_fastica.py:119: ConvergenceWarning: FastICA did not converge. Consider increasing tolerance or the maximum number of iterations.\n",
      "  ConvergenceWarning)\n"
     ]
    },
    {
     "name": "stdout",
     "output_type": "stream",
     "text": [
      "finished session 2\n",
      "finished session 3\n",
      "finished session 4\n",
      "finished session 5\n",
      "finished session 6\n"
     ]
    },
    {
     "name": "stderr",
     "output_type": "stream",
     "text": [
      "/usr/local/lib/python3.6/dist-packages/sklearn/decomposition/_fastica.py:119: ConvergenceWarning: FastICA did not converge. Consider increasing tolerance or the maximum number of iterations.\n",
      "  ConvergenceWarning)\n"
     ]
    },
    {
     "name": "stdout",
     "output_type": "stream",
     "text": [
      "finished session 7\n"
     ]
    },
    {
     "name": "stderr",
     "output_type": "stream",
     "text": [
      "/usr/local/lib/python3.6/dist-packages/sklearn/decomposition/_fastica.py:119: ConvergenceWarning: FastICA did not converge. Consider increasing tolerance or the maximum number of iterations.\n",
      "  ConvergenceWarning)\n"
     ]
    },
    {
     "name": "stdout",
     "output_type": "stream",
     "text": [
      "finished session 8\n"
     ]
    },
    {
     "name": "stderr",
     "output_type": "stream",
     "text": [
      "/usr/local/lib/python3.6/dist-packages/sklearn/decomposition/_fastica.py:119: ConvergenceWarning: FastICA did not converge. Consider increasing tolerance or the maximum number of iterations.\n",
      "  ConvergenceWarning)\n"
     ]
    },
    {
     "name": "stdout",
     "output_type": "stream",
     "text": [
      "finished session 9\n",
      "finished session 10\n"
     ]
    },
    {
     "name": "stderr",
     "output_type": "stream",
     "text": [
      "/usr/local/lib/python3.6/dist-packages/sklearn/decomposition/_fastica.py:119: ConvergenceWarning: FastICA did not converge. Consider increasing tolerance or the maximum number of iterations.\n",
      "  ConvergenceWarning)\n"
     ]
    },
    {
     "name": "stdout",
     "output_type": "stream",
     "text": [
      "finished session 11\n"
     ]
    },
    {
     "name": "stderr",
     "output_type": "stream",
     "text": [
      "/usr/local/lib/python3.6/dist-packages/sklearn/decomposition/_fastica.py:119: ConvergenceWarning: FastICA did not converge. Consider increasing tolerance or the maximum number of iterations.\n",
      "  ConvergenceWarning)\n"
     ]
    },
    {
     "name": "stdout",
     "output_type": "stream",
     "text": [
      "finished session 12\n",
      "finished session 13\n"
     ]
    },
    {
     "name": "stderr",
     "output_type": "stream",
     "text": [
      "/usr/local/lib/python3.6/dist-packages/sklearn/decomposition/_fastica.py:119: ConvergenceWarning: FastICA did not converge. Consider increasing tolerance or the maximum number of iterations.\n",
      "  ConvergenceWarning)\n"
     ]
    },
    {
     "name": "stdout",
     "output_type": "stream",
     "text": [
      "finished session 14\n"
     ]
    },
    {
     "name": "stderr",
     "output_type": "stream",
     "text": [
      "/usr/local/lib/python3.6/dist-packages/sklearn/decomposition/_fastica.py:119: ConvergenceWarning: FastICA did not converge. Consider increasing tolerance or the maximum number of iterations.\n",
      "  ConvergenceWarning)\n"
     ]
    },
    {
     "name": "stdout",
     "output_type": "stream",
     "text": [
      "finished session 15\n"
     ]
    },
    {
     "name": "stderr",
     "output_type": "stream",
     "text": [
      "/usr/local/lib/python3.6/dist-packages/sklearn/decomposition/_fastica.py:119: ConvergenceWarning: FastICA did not converge. Consider increasing tolerance or the maximum number of iterations.\n",
      "  ConvergenceWarning)\n"
     ]
    },
    {
     "name": "stdout",
     "output_type": "stream",
     "text": [
      "finished session 16\n"
     ]
    },
    {
     "name": "stderr",
     "output_type": "stream",
     "text": [
      "/usr/local/lib/python3.6/dist-packages/sklearn/decomposition/_fastica.py:119: ConvergenceWarning: FastICA did not converge. Consider increasing tolerance or the maximum number of iterations.\n",
      "  ConvergenceWarning)\n"
     ]
    },
    {
     "name": "stdout",
     "output_type": "stream",
     "text": [
      "finished session 17\n"
     ]
    },
    {
     "name": "stderr",
     "output_type": "stream",
     "text": [
      "/usr/local/lib/python3.6/dist-packages/sklearn/decomposition/_fastica.py:119: ConvergenceWarning: FastICA did not converge. Consider increasing tolerance or the maximum number of iterations.\n",
      "  ConvergenceWarning)\n"
     ]
    },
    {
     "name": "stdout",
     "output_type": "stream",
     "text": [
      "finished session 18\n"
     ]
    },
    {
     "name": "stderr",
     "output_type": "stream",
     "text": [
      "/usr/local/lib/python3.6/dist-packages/sklearn/decomposition/_fastica.py:119: ConvergenceWarning: FastICA did not converge. Consider increasing tolerance or the maximum number of iterations.\n",
      "  ConvergenceWarning)\n"
     ]
    },
    {
     "name": "stdout",
     "output_type": "stream",
     "text": [
      "finished session 19\n",
      "finished session 20\n"
     ]
    },
    {
     "name": "stderr",
     "output_type": "stream",
     "text": [
      "/usr/local/lib/python3.6/dist-packages/sklearn/decomposition/_fastica.py:119: ConvergenceWarning: FastICA did not converge. Consider increasing tolerance or the maximum number of iterations.\n",
      "  ConvergenceWarning)\n"
     ]
    },
    {
     "name": "stdout",
     "output_type": "stream",
     "text": [
      "finished session 21\n",
      "finished session 22\n",
      "finished session 23\n"
     ]
    },
    {
     "name": "stderr",
     "output_type": "stream",
     "text": [
      "/usr/local/lib/python3.6/dist-packages/sklearn/decomposition/_fastica.py:119: ConvergenceWarning: FastICA did not converge. Consider increasing tolerance or the maximum number of iterations.\n",
      "  ConvergenceWarning)\n"
     ]
    },
    {
     "name": "stdout",
     "output_type": "stream",
     "text": [
      "finished session 24\n",
      "finished session 25\n",
      "finished session 26\n",
      "finished session 27\n",
      "finished session 28\n",
      "finished session 29\n"
     ]
    },
    {
     "name": "stderr",
     "output_type": "stream",
     "text": [
      "/usr/local/lib/python3.6/dist-packages/sklearn/decomposition/_fastica.py:119: ConvergenceWarning: FastICA did not converge. Consider increasing tolerance or the maximum number of iterations.\n",
      "  ConvergenceWarning)\n"
     ]
    },
    {
     "name": "stdout",
     "output_type": "stream",
     "text": [
      "finished session 30\n"
     ]
    },
    {
     "name": "stderr",
     "output_type": "stream",
     "text": [
      "/usr/local/lib/python3.6/dist-packages/sklearn/decomposition/_fastica.py:119: ConvergenceWarning: FastICA did not converge. Consider increasing tolerance or the maximum number of iterations.\n",
      "  ConvergenceWarning)\n"
     ]
    },
    {
     "name": "stdout",
     "output_type": "stream",
     "text": [
      "finished session 31\n",
      "finished session 32\n"
     ]
    },
    {
     "name": "stderr",
     "output_type": "stream",
     "text": [
      "/usr/local/lib/python3.6/dist-packages/sklearn/decomposition/_fastica.py:119: ConvergenceWarning: FastICA did not converge. Consider increasing tolerance or the maximum number of iterations.\n",
      "  ConvergenceWarning)\n"
     ]
    },
    {
     "name": "stdout",
     "output_type": "stream",
     "text": [
      "finished session 33\n"
     ]
    },
    {
     "name": "stderr",
     "output_type": "stream",
     "text": [
      "/usr/local/lib/python3.6/dist-packages/sklearn/decomposition/_fastica.py:119: ConvergenceWarning: FastICA did not converge. Consider increasing tolerance or the maximum number of iterations.\n",
      "  ConvergenceWarning)\n"
     ]
    },
    {
     "name": "stdout",
     "output_type": "stream",
     "text": [
      "finished session 34\n",
      "finished session 35\n",
      "finished session 36\n",
      "finished session 37\n",
      "finished session 38\n",
      "finished eval comp 150\n",
      "\n"
     ]
    },
    {
     "name": "stderr",
     "output_type": "stream",
     "text": [
      "/usr/local/lib/python3.6/dist-packages/sklearn/decomposition/_fastica.py:119: ConvergenceWarning: FastICA did not converge. Consider increasing tolerance or the maximum number of iterations.\n",
      "  ConvergenceWarning)\n"
     ]
    }
   ],
   "source": [
    "# find the optimal number of reduced components\n",
    "\n",
    "components = [3, 6, 10, 15, 20, 100, 150]\n",
    "cv = 3\n",
    "\n",
    "\n",
    "\n",
    "all_scores = []\n",
    "for comp in components:\n",
    "\n",
    "  ses_scores = []\n",
    "  for i, dat in enumerate(alldat):\n",
    "    # prepare data\n",
    "    all_spikes = dat['spks']\n",
    "    NN = all_spikes.shape[0]\n",
    "    N_trials = all_spikes.shape[1]\n",
    "    # time bins of 100ms \n",
    "    binned_multiplier = 10\n",
    "    all_spikes_bined = all_spikes.reshape(NN, N_trials, -1, binned_multiplier)\n",
    "    all_spikes = np.sum(all_spikes_bined, axis=-1)\n",
    "    # get the period between stimulus and go cue\n",
    "    stim_onset = 51 //binned_multiplier\n",
    "    max_len = (int(np.ceil(100*np.max(dat['gocue']))) )//binned_multiplier\n",
    "    data = np.reshape(all_spikes[:,:,stim_onset:stim_onset+max_len], (NN, -1)).T \n",
    "    # print('all_spikes: ', all_spikes.shape)\n",
    "    # get rid of inactive neurons\n",
    "    select_inds = get_rid_of_inactive_neurons(all_spikes[:,:,stim_onset:stim_onset+max_len])\n",
    "    \n",
    "    data = data[:,select_inds]\n",
    "\n",
    "    transformer = FastICA(n_components=comp, random_state=0)\n",
    "    X_transformed = transformer.fit_transform(data)\n",
    "\n",
    "    # get the left and right trials indices\n",
    "    choice_responses = dat['response']\n",
    "    # print('left trials: ', len(np.where(choice_responses < 0)[0]))\n",
    "    # print('right trials: ', len(np.where(choice_responses > 0)[0]))\n",
    "    idxs_left = np.where(choice_responses < 0)[0]\n",
    "    idxs_right = np.where(choice_responses > 0)[0]\n",
    "    idxs = np.append(idxs_left, idxs_right)\n",
    "    Y = choice_responses[idxs]\n",
    "    X = X_transformed.reshape((N_trials, -1))[idxs]\n",
    "    # cross validate\n",
    "    scores = cross_validate(lr_clf, X, Y, cv=cv)\n",
    "    score = np.mean(scores['test_score'])\n",
    "    ses_scores.append(score)\n",
    "\n",
    "    print(f'finished session {i}')\n",
    "  all_scores.append(ses_scores)\n",
    "\n",
    "  print(f'finished eval comp {comp}\\n')\n"
   ]
  },
  {
   "cell_type": "code",
   "execution_count": null,
   "metadata": {
    "colab": {
     "base_uri": "https://localhost:8080/",
     "height": 216
    },
    "colab_type": "code",
    "id": "C9IiaW4PuM8p",
    "outputId": "632114da-c7df-4901-91c3-bcf6a0ca0bb8"
   },
   "outputs": [
    {
     "data": {
      "image/png": "[encoded data removed]",
      "text/plain": [
       "<Figure size 1440x288 with 1 Axes>"
      ]
     },
     "metadata": {
      "needs_background": "light",
      "tags": []
     },
     "output_type": "display_data"
    }
   ],
   "source": [
    "\n",
    "# plot scores per comp \n",
    "\n",
    "for i, comp_scores in enumerate(all_scores):\n",
    "  # plt.figure()\n",
    "  plt.plot(comp_scores)\n",
    "  plt.title(f'comp {components[i]}')\n"
   ]
  },
  {
   "cell_type": "markdown",
   "metadata": {},
   "source": [
    "Select specific brain regions"
   ]
  },
  {
   "cell_type": "code",
   "execution_count": 4,
   "metadata": {
    "colab": {
     "base_uri": "https://localhost:8080/",
     "height": 632
    },
    "colab_type": "code",
    "id": "ty88j0kSvv7H",
    "outputId": "05390a3e-3543-4a45-c0d0-b512b098bd46",
    "scrolled": false
   },
   "outputs": [
    {
     "data": {
      "image/png": "[encoded data removed]",
      "text/plain": [
       "<Figure size 1080x360 with 1 Axes>"
      ]
     },
     "metadata": {
      "needs_background": "light"
     },
     "output_type": "display_data"
    }
   ],
   "source": [
    "\n",
    "'''\n",
    "Make nsession x 5 brain regions. Each element is vector of which neurons are in the brain region\n",
    "'''\n",
    "import matplotlib.pyplot as plt \n",
    "\n",
    "regions = [\"vis ctx\", \"thal\", \"hipp\", \"other ctx\", \"midbrain\", \"basal ganglia\", \"cortical subplate\", \"other\"]\n",
    "brain_groups = [[\"VISa\", \"VISam\", \"VISl\", \"VISp\", \"VISpm\", \"VISrl\"], # visual cortex\n",
    "                [\"CL\", \"LD\", \"LGd\", \"LH\", \"LP\", \"MD\", \"MG\", \"PO\", \"POL\", \"PT\", \"RT\", \"SPF\", \"TH\", \"VAL\", \"VPL\", \"VPM\"], # thalamus\n",
    "                [\"CA\", \"CA1\", \"CA2\", \"CA3\", \"DG\", \"SUB\", \"POST\"], # hippocampal\n",
    "                [\"ACA\", \"AUD\", \"COA\", \"DP\", \"ILA\", \"MOp\", \"MOs\", \"OLF\", \"ORB\", \"ORBm\", \"PIR\", \"PL\", \"SSp\", \"SSs\", \"RSP\",\" TT\"], # non-visual cortex\n",
    "                [\"APN\", \"IC\", \"MB\", \"MRN\", \"NB\", \"PAG\", \"RN\", \"SCs\", \"SCm\", \"SCig\", \"SCsg\", \"ZI\"], # midbrain\n",
    "                [\"ACB\", \"CP\", \"GPe\", \"LS\", \"LSc\", \"LSr\", \"MS\", \"OT\", \"SNr\", \"SI\"], # basal ganglia \n",
    "                [\"BLA\", \"BMA\", \"EP\", \"EPd\", \"MEA\"] # cortical subplate\n",
    "                ]\n",
    "\n",
    "f=plt.figure(figsize=(15,5));\n",
    "neurons_for_decoding = np.empty(shape=(39,5),dtype='object');\n",
    "\n",
    "col_list = ['b', 'g', 'r', 'c', 'm', 'y', 'k']\n",
    "\n",
    "threshold = 30 \n",
    "\n",
    "for iregion in range(5):\n",
    "    # Plot placeholders for label\n",
    "    plt.plot(np.inf,np.inf,color=col_list[iregion], label=regions[iregion]); \n",
    " \n",
    "    for isession in range(39):\n",
    "        dat = alldat[isession];\n",
    "        brain_area = dat['brain_area'];\n",
    "        neurons_for_decoding[isession, iregion] = np.zeros(shape=(len(brain_area),),dtype='int')\n",
    "        \n",
    "        for i_small_region, small_region in enumerate(brain_groups[iregion]):\n",
    "            kk = np.where(brain_area == small_region)[0]; \n",
    "            neurons_for_decoding[isession, iregion][kk] = 1;\n",
    "            \n",
    "        if np.sum(neurons_for_decoding[isession,iregion]) < threshold:\n",
    "            neurons_for_decoding[isession,iregion] = np.zeros(shape=(len(brain_area),),dtype='int') \n",
    "            \n",
    "            \n",
    "        total = 0\n",
    "        for i in range(iregion):\n",
    "            total += np.sum(neurons_for_decoding[isession, i])\n",
    "        plt.bar(isession, np.sum(neurons_for_decoding[isession,iregion]), bottom = total, color=col_list[iregion]);\n",
    "        \n",
    "        \n",
    "plt.xlabel('Session #'); \n",
    "plt.ylabel('Number of neurons in each brain region');\n",
    "plt.legend(); \n",
    "plt.show();\n",
    "\n"
   ]
  },
  {
   "cell_type": "markdown",
   "metadata": {
    "colab_type": "text",
    "id": "5QxDH-E5IjU5"
   },
   "source": [
    "### NB classifier for ICA"
   ]
  },
  {
   "cell_type": "code",
   "execution_count": 59,
   "metadata": {
    "colab": {
     "base_uri": "https://localhost:8080/",
     "height": 1000
    },
    "colab_type": "code",
    "id": "6Lt8ziXPIibo",
    "outputId": "1e533c44-67e6-44f0-d896-6289e9150514",
    "scrolled": true
   },
   "outputs": [
    {
     "name": "stdout",
     "output_type": "stream",
     "text": [
      "finished session 0\n",
      "finished session 1\n",
      "finished session 2\n",
      "finished session 3\n",
      "finished session 4\n",
      "finished session 7\n",
      "finished session 8\n",
      "finished session 9\n",
      "finished session 11\n",
      "finished session 12\n",
      "finished session 13\n",
      "finished session 18\n",
      "finished session 19\n",
      "finished session 21\n",
      "finished session 22\n",
      "finished session 23\n",
      "finished session 24\n",
      "finished session 25\n",
      "finished session 26\n",
      "finished session 27\n",
      "finished session 34\n",
      "finished session 35\n",
      "finished session 36\n",
      "finished session 38\n",
      "finished brain region  0\n",
      "\n",
      "finished session 2\n",
      "finished session 3\n",
      "finished session 5\n",
      "finished session 6\n",
      "finished session 7\n",
      "finished session 8\n",
      "finished session 9\n",
      "finished session 10\n",
      "finished session 11\n",
      "finished session 12\n",
      "finished session 14\n",
      "finished session 15\n",
      "finished session 16\n",
      "finished session 17\n",
      "finished session 18\n",
      "finished session 19\n",
      "finished session 20\n",
      "finished session 22\n",
      "finished session 26\n",
      "finished session 27\n",
      "finished session 29\n",
      "finished session 30\n",
      "finished session 32\n",
      "finished session 33\n",
      "finished session 34\n",
      "finished session 37\n",
      "finished session 38\n",
      "finished brain region  1\n",
      "\n",
      "finished session 0\n",
      "finished session 1\n",
      "finished session 2\n",
      "finished session 3\n",
      "finished session 4\n",
      "finished session 5\n",
      "finished session 6\n",
      "finished session 7\n",
      "finished session 8\n",
      "finished session 9\n",
      "finished session 11\n",
      "finished session 12\n",
      "finished session 13\n",
      "finished session 17\n",
      "finished session 18\n",
      "finished session 19\n",
      "finished session 22\n",
      "finished session 23\n",
      "finished session 26\n",
      "finished session 27\n",
      "finished session 29\n",
      "finished session 30\n",
      "finished session 34\n",
      "finished session 35\n",
      "finished session 37\n",
      "finished session 38\n",
      "finished brain region  2\n",
      "\n",
      "finished session 0\n",
      "finished session 3\n",
      "finished session 4\n",
      "finished session 5\n",
      "finished session 6\n",
      "finished session 7\n",
      "finished session 8\n",
      "finished session 10\n",
      "finished session 11\n",
      "finished session 12\n",
      "finished session 13\n",
      "finished session 15\n",
      "finished session 20\n",
      "finished session 21\n",
      "finished session 23\n",
      "finished session 24\n",
      "finished session 25\n",
      "finished session 26\n",
      "finished session 27\n",
      "finished session 28\n",
      "finished session 29\n",
      "finished session 30\n",
      "finished session 31\n",
      "finished session 33\n",
      "finished session 34\n",
      "finished session 35\n",
      "finished session 36\n",
      "finished session 38\n",
      "finished brain region  3\n",
      "\n",
      "finished session 2\n",
      "finished session 9\n",
      "finished session 12\n"
     ]
    },
    {
     "name": "stderr",
     "output_type": "stream",
     "text": [
      "/Users/peteryej/miniconda3/envs/ctrldev/lib/python3.6/site-packages/sklearn/decomposition/_fastica.py:120: ConvergenceWarning: FastICA did not converge. Consider increasing tolerance or the maximum number of iterations.\n",
      "  ConvergenceWarning)\n"
     ]
    },
    {
     "name": "stdout",
     "output_type": "stream",
     "text": [
      "finished session 13\n",
      "finished session 14\n",
      "finished session 15\n",
      "finished session 17\n",
      "finished session 18\n",
      "finished session 21\n",
      "finished session 23\n",
      "finished session 24\n",
      "finished session 25\n",
      "finished session 27\n",
      "finished session 30\n",
      "finished session 31\n",
      "finished session 32\n",
      "finished session 33\n",
      "finished session 35\n",
      "finished session 36\n",
      "finished brain region  4\n",
      "\n",
      "finished eval comp 3\n",
      "\n"
     ]
    }
   ],
   "source": [
    "# find the optimal number of reduced components\n",
    "\n",
    "from sklearn.decomposition import FastICA\n",
    "from sklearn.model_selection import cross_validate \n",
    "\n",
    "\n",
    "\n",
    "components = [3]\n",
    "cv = 3\n",
    "half_time_win = 20\n",
    "\n",
    "\n",
    "for comp in components:\n",
    "\n",
    "    \n",
    "    all_go_scores = []\n",
    "    # all_correct_scores = []\n",
    "    all_right_stim_scores = []\n",
    "    \n",
    "    for brain_region_i in range(5):\n",
    "        go_scores = []\n",
    "        # correct_scores = []\n",
    "        right_stim_scores = []\n",
    "        \n",
    "        for i, dat in enumerate(alldat):\n",
    "            # prepare data\n",
    "\n",
    "            # get the visual stimulus slice\n",
    "            # all_spikes = dat['spks'][:,:,50-half_time_wind:50+half_time_wind]      \n",
    "\n",
    "            # get the gocue slice\n",
    "            # all_spikes = get_gocue_slice(dat, half_time_win)\n",
    "\n",
    "            all_spikes = dat['spks']\n",
    "            if np.sum(neurons_for_decoding[i, brain_region_i]) == 0:\n",
    "                # correct_scores.append(-1)\n",
    "                go_scores.append(-1)\n",
    "                right_stim_scores.append(-1)\n",
    "                continue\n",
    "                \n",
    "            all_spikes = all_spikes[neurons_for_decoding[i, brain_region_i].astype('bool')]\n",
    "\n",
    "            NN = all_spikes.shape[0]\n",
    "            N_trials = all_spikes.shape[1]\n",
    "            N_time_bins = all_spikes.shape[2]\n",
    "\n",
    "            # # time bins of 100ms \n",
    "            # binned_multiplier = 10\n",
    "            # all_spikes_bined = all_spikes.reshape(NN, N_trials, -1, binned_multiplier)\n",
    "            # all_spikes = np.sum(all_spikes_bined, axis=-1)\n",
    "\n",
    "            # # get the period between stimulus and go cue\n",
    "            # stim_onset = 51 //binned_multiplier\n",
    "            # max_len = (int(np.ceil(100*np.max(dat['gocue']))) )//binned_multiplier\n",
    "            # data = np.reshape(all_spikes[:,:,stim_onset:stim_onset+max_len], (NN, -1)).T \n",
    "            # print('all_spikes: ', all_spikes.shape)\n",
    "\n",
    "            data = np.reshape(all_spikes, (NN, -1)).T \n",
    "\n",
    "            # # get rid of inactive neurons\n",
    "            # select_inds = get_rid_of_inactive_neurons(all_spikes)\n",
    "            # data = data[:,select_inds]\n",
    "\n",
    "            transformer = FastICA(n_components=comp, random_state=0)\n",
    "            X_transformed = transformer.fit_transform(data)\n",
    "\n",
    "            # get the left and right trials indices\n",
    "            choice_responses = dat['response']\n",
    "            # print('left trials: ', len(np.where(choice_responses < 0)[0]))\n",
    "            # print('right trials: ', len(np.where(choice_responses > 0)[0]))\n",
    "            # idxs_left = np.where(choice_responses < 0)[0]\n",
    "            # idxs_right = np.where(choice_responses > 0)[0]\n",
    "            # idxs = np.append(idxs_left, idxs_right)\n",
    "            # Y = choice_responses[idxs]\n",
    "\n",
    "            \n",
    "            # get the gocue slice\n",
    "            X_transformed = X_transformed.reshape((N_trials, N_time_bins, -1)) \n",
    "            X = get_gocue_slice_for_x(dat, X_transformed, half_time_win)\n",
    "            X = X.reshape((N_trials, -1))\n",
    "        \n",
    "            # go/no go \n",
    "            Y = (choice_responses == 0)\n",
    "            # X = X_transformed.reshape((N_trials, -1))        \n",
    "            # X = X_transformed.reshape((N_trials, -1))[idxs]\n",
    "\n",
    "            # cross validate\n",
    "            scores = cross_validate(nb_clf, X, Y, cv=cv)\n",
    "            score = np.mean(scores['test_score'])\n",
    "            \n",
    "            go_scores.append(score)\n",
    "\n",
    "            # reward \n",
    "            # Y = dat['feedback_type']\n",
    "            \n",
    "            # get the vis stimulus slice\n",
    "            X = X_transformed[:,50-half_time_wind:50+half_time_wind]\n",
    "            X = X.reshape((N_trials, -1))\n",
    "            \n",
    "            # right contrast vs no contrast\n",
    "            Y = dat['contrast_right'] == 0\n",
    "            \n",
    "            # cross validate\n",
    "            scores = cross_validate(nb_clf, X, Y, cv=cv)\n",
    "            score = np.mean(scores['test_score'])\n",
    "            \n",
    "            # correct_scores.append(score)\n",
    "            right_stim_scores.append(score)\n",
    "\n",
    "\n",
    "            print(f'finished session {i}')\n",
    "            \n",
    "        \n",
    "        all_go_scores.append(go_scores)\n",
    "        # all_correct_scores.append(correct_scores)\n",
    "        all_right_stim_scores.append(right_stim_scores)\n",
    "        print(f'finished brain region  {brain_region_i}\\n')\n",
    "\n",
    "    print(f'finished eval comp {comp}\\n')\n"
   ]
  },
  {
   "cell_type": "code",
   "execution_count": 10,
   "metadata": {
    "scrolled": false
   },
   "outputs": [
    {
     "name": "stdout",
     "output_type": "stream",
     "text": [
      "comp:  3\n",
      "go/no go:  0.7941690860959338\n",
      "min:  0.6\n",
      "max:  0.946236559139785\n",
      "[0.8454616588419405, 0.7161503155479059, 0.8684210526315789, 0.7670682730923696, 0.6844537815126049, 0.8411010882016036, 0.6428571428571428, 0.7442149550583285, 0.946236559139785, 0.7919463087248322, 0.9298245614035089, 0.8380944987838328, 0.6733333333333333, 0.6, 0.6208033904551318, 0.7316784869976359, 0.807927927927928, 0.7341120095837077, 0.8824076794984818, 0.9106891701828411, 0.8952768099109562, 0.8693693693693693, 0.8413071895424836, 0.8031233998975935, 0.89272030651341, 0.7361581920903953, 0.8298786181139123, 0.8661347517730498, 0.9372462163159838, 0.8467789598108747, 0.8016877637130801, 0.8577920342154505, 0.7847222222222222, 0.8177351748780319, 0.8100572566591984, 0.6705426356589147, 0.713023679417122, 0.6786521935775668, 0.7436053902873124]\n",
      "reward:  0.6454776040193364\n",
      "min:  0.5441496222590749\n",
      "max:  0.7754237288135594\n",
      "[0.6542123109024517, 0.5490533562822719, 0.5614035087719299, 0.6305220883534136, 0.5661531279178338, 0.5610681557846505, 0.5912698412698413, 0.6439089692101739, 0.6989247311827956, 0.6331096196868008, 0.6754385964912281, 0.7235677689799721, 0.5933333333333334, 0.5667082813150229, 0.5441496222590749, 0.5494547395714177, 0.6610810810810811, 0.603863432165319, 0.6885591145068076, 0.6515200692415882, 0.6618273325590399, 0.6509009009009009, 0.6622222222222223, 0.6579621095750129, 0.7739463601532567, 0.7754237288135594, 0.6599439775910364, 0.6836583924349883, 0.7188999630860096, 0.6223404255319149, 0.7130801687763714, 0.6882740800142564, 0.6902281746031745, 0.6517900089328661, 0.6360468010953448, 0.5891472868217055, 0.7459016393442623, 0.5976933514246947, 0.6470378845664887]\n",
      "\n"
     ]
    }
   ],
   "source": [
    "\n",
    "for i in range(len(components)): \n",
    "    print('comp: ', components[i])\n",
    "    \n",
    "    print('go/no go: ', sum(all_go_scores[i])/len(all_go_scores[i]))\n",
    "\n",
    "    print('min: ', min(all_go_scores[i]))\n",
    "    print('max: ', max(all_go_scores[i]))\n",
    "    print(all_go_scores[i])\n",
    "\n",
    "\n",
    "    print('reward: ', sum(all_correct_scores[i])/len(all_correct_scores[i]))\n",
    "\n",
    "    print('min: ', min(all_correct_scores[i]))\n",
    "    print('max: ', max(all_correct_scores[i]))\n",
    "    print(all_correct_scores[i])\n",
    "    print()\n",
    "    "
   ]
  },
  {
   "cell_type": "code",
   "execution_count": 60,
   "metadata": {
    "scrolled": false
   },
   "outputs": [
    {
     "name": "stdout",
     "output_type": "stream",
     "text": [
      "brain_region:  vis ctx\n",
      "go/no go:  0.03614671860432727\n",
      "min:  -1\n",
      "max:  0.7878080657206871\n",
      "\n",
      "[0.6170448617631715, 0.7247083572384776, 0.6447368421052632, 0.7349397590361445, 0.7320728291316527, -1, -1, 0.6798144960795564, 0.728494623655914, 0.7360178970917226, -1, 0.7707395331987786, 0.73, 0.6718268830628382, -1, -1, -1, -1, 0.5669507297482613, 0.578708211619604, -1, 0.7004504504504504, 0.7809150326797386, 0.6308243727598567, 0.6896551724137931, 0.7133709981167607, 0.7626050420168067, 0.5978132387706856, -1, -1, -1, -1, -1, -1, 0.7878080657206871, 0.6821705426356589, 0.5355191256830601, -1, 0.6125349605898806]\n",
      "\n",
      "right contrast:  0.05227650543160866\n",
      "min:  -1\n",
      "max:  0.938135593220339\n",
      "\n",
      "[0.5232785602503912, 0.8965385350927519, 0.6403508771929824, 0.5060240963855421, 0.6258636788048553, -1, -1, 0.7641518454771467, 0.8413978494623656, 0.5950782997762863, -1, 0.8941158205247633, 0.6133333333333333, 0.5039117769454847, -1, -1, -1, -1, 0.7044274659614066, 0.8254354646759711, -1, 0.8783783783783784, 0.6820915032679739, 0.5669056152927121, 0.9118773946360154, 0.938135593220339, 0.8299253034547153, 0.7398049645390071, -1, -1, -1, -1, -1, -1, 0.6333084391336818, 0.5310077519379846, 0.5361566484517305, -1, 0.8572845156369183]\n",
      "\n",
      "brain_region:  thal\n",
      "go/no go:  0.1952868067187439\n",
      "min:  -1\n",
      "max:  0.8521505376344086\n",
      "\n",
      "[-1, -1, 0.7105263157894736, 0.714859437751004, -1, 0.6930483963344788, 0.7142857142857143, 0.8317555938037865, 0.8521505376344086, 0.7539149888143176, 0.7163742690058479, 0.7618640997774673, 0.7733333333333334, -1, 0.6829187396351576, 0.8250209715549456, 0.7453453453453452, 0.7627133872416891, 0.5949652267607014, 0.6423239208049335, 0.7098335269066977, -1, 0.7613071895424838, -1, -1, -1, 0.6044351073762839, 0.7179373522458629, -1, 0.8182624113475176, 0.70042194092827, -1, 0.8059689153439153, 0.7026729883872741, 0.7299601692805576, -1, -1, 0.683476556610885, 0.6065090261886601]\n",
      "\n",
      "right contrast:  0.06685915148766527\n",
      "min:  -1\n",
      "max:  0.6785714285714285\n",
      "\n",
      "[-1, -1, 0.543859649122807, 0.502008032128514, -1, 0.5137815005727376, 0.6785714285714285, 0.4837923121055651, 0.6505376344086021, 0.5570469798657718, 0.608187134502924, 0.5676913522744916, 0.5066666666666667, -1, 0.5072784227013082, 0.5501029512697323, 0.5981981981981982, 0.541120095837077, 0.45753746694093445, 0.6299902629016554, 0.507936507936508, -1, 0.5298039215686274, -1, -1, -1, 0.4781979458450047, 0.5490543735224587, -1, 0.5175827423167848, 0.4514767932489452, -1, 0.492228835978836, 0.5746581460867176, 0.5402041324371422, -1, -1, 0.47256143524800237, 0.5974319857615052]\n",
      "\n",
      "brain_region:  hipp\n",
      "go/no go:  0.1288706110321445\n",
      "min:  -1\n",
      "max:  0.8204988873363348\n",
      "\n",
      "[0.7520865936358895, 0.6925320328934786, 0.6096491228070176, 0.6907630522088354, 0.7677404295051353, 0.7066509163802978, 0.7063492063492064, 0.7880091795754446, 0.6908602150537634, 0.6957494407158836, -1, 0.8204988873363348, 0.7933333333333333, 0.7237203495630462, -1, -1, -1, 0.7436358191075172, 0.5869330982466451, 0.578383641674781, -1, -1, 0.6815686274509805, 0.5826079535756955, -1, -1, 0.4939775910364146, 0.7532505910165485, -1, 0.7761524822695035, 0.7172995780590717, -1, -1, -1, 0.781428927059995, 0.6472868217054264, -1, 0.5428162219206994, 0.7026697177726926]\n",
      "\n",
      "right contrast:  0.0356125678890198\n",
      "min:  -1\n",
      "max:  0.6265060240963856\n",
      "\n",
      "[0.5045644235785081, 0.5376745075540256, 0.587719298245614, 0.6265060240963856, 0.6218954248366013, 0.5861612256586484, 0.6031746031746031, 0.6195735322241346, 0.5564516129032259, 0.5548098434004475, -1, 0.5735393054908658, 0.5233333333333333, 0.46633374947981693, -1, -1, -1, 0.4968253968253968, 0.5585757664805564, 0.4936167910851455, -1, -1, 0.5892810457516341, 0.5826932923707117, -1, -1, 0.5692810457516341, 0.5842198581560284, -1, 0.4961583924349881, 0.5738396624472574, -1, -1, -1, 0.5370301219815783, 0.5271317829457365, -1, 0.43245891753354443, 0.5860411899313501]\n",
      "\n",
      "brain_region:  other ctx\n",
      "go/no go:  0.23141152056934508\n",
      "min:  -1\n",
      "max:  0.8983019564414914\n",
      "\n",
      "[0.7287428273343766, -1, -1, 0.7349397590361445, 0.5550420168067226, 0.7480670103092782, 0.6468253968253969, 0.8277873398355325, 0.7634408602150536, -1, 0.8362573099415204, 0.724188790560472, 0.7666666666666666, 0.6826050769870995, -1, 0.6394417753374513, -1, -1, -1, -1, 0.6368563685636857, 0.8085585585585586, -1, 0.6420890937019968, 0.8620689655172414, 0.7133709981167607, 0.6525676937441643, 0.5209810874704491, 0.8983019564414914, 0.775709219858156, 0.7552742616033755, 0.7422703376993672, -1, 0.46285989143132, 0.7809621608165297, 0.5310077519379846, 0.8506375227686703, -1, 0.7375286041189932]\n",
      "\n",
      "right contrast:  0.15107301082113483\n",
      "min:  -1\n",
      "max:  0.7989066870073734\n",
      "\n",
      "[0.658189880020866, -1, -1, 0.7590361445783133, 0.49640522875816995, 0.548360538373425, 0.5277777777777778, 0.7274335436986039, 0.739247311827957, -1, 0.6637426900584796, 0.5175438596491228, 0.66, 0.5411152725759467, -1, 0.5178067566537025, -1, -1, -1, -1, 0.4992257065427797, 0.7184684684684686, -1, 0.5667349377026797, 0.6398467432950191, 0.713276836158192, 0.5018674136321195, 0.5494976359338062, 0.5468807678110004, 0.5453605200945626, 0.5949367088607596, 0.5657132673973091, -1, 0.6083281797567511, 0.5787590241473736, 0.4728682170542636, 0.6345173041894353, -1, 0.7989066870073734]\n",
      "\n",
      "brain_region:  midbrain\n",
      "go/no go:  -0.16392095517866684\n",
      "min:  -1\n",
      "max:  0.8475529100529101\n",
      "\n",
      "[-1, -1, 0.6578947368421053, -1, -1, -1, -1, -1, -1, 0.7628635346756152, -1, -1, 0.7966666666666665, 0.7161880982105702, 0.7619863644739268, 0.643140395027835, -1, 0.7752321054207846, 0.5869820746400235, -1, -1, 0.7094594594594595, -1, 0.6197303294077487, 0.7471264367816092, 0.6799435028248588, -1, 0.7606382978723404, -1, -1, 0.6540084388185653, 0.7459681012207074, 0.8475529100529101, 0.6590393733250877, -1, 0.7751937984496124, 0.7074681238615664, -1, -1]\n",
      "\n",
      "right contrast:  -0.23629233066115163\n",
      "min:  -1\n",
      "max:  0.7033478227712956\n",
      "\n",
      "[-1, -1, 0.6666666666666666, -1, -1, -1, -1, -1, -1, 0.5592841163310962, -1, -1, 0.7000000000000001, 0.5930919683728673, 0.4651004238068915, 0.7033478227712956, -1, 0.550733752620545, 0.5590165540209618, -1, -1, 0.5878378378378378, -1, 0.4754224270353303, 0.5172413793103449, 0.48860640301318264, -1, 0.4580378250591017, -1, -1, 0.5147679324894515, 0.6461730375122516, 0.6281415343915344, 0.5443894729609015, -1, 0.5736434108527132, 0.5530965391621129, -1, -1]\n",
      "\n"
     ]
    }
   ],
   "source": [
    "\n",
    "for i in range(5): \n",
    "    print('brain_region: ', regions[i])\n",
    "    \n",
    "    print('go/no go: ', sum(all_go_scores[i])/len(all_go_scores[i]))\n",
    "\n",
    "    print('min: ', min(all_go_scores[i]))\n",
    "    print('max: ', max(all_go_scores[i]))\n",
    "    print()\n",
    "    print(all_go_scores[i])\n",
    "    print()\n",
    "\n",
    "    print('right contrast: ', sum(all_right_stim_scores[i])/len(all_right_stim_scores[i]))\n",
    "\n",
    "    print('min: ', min(all_right_stim_scores[i]))\n",
    "    print('max: ', max(all_right_stim_scores[i]))\n",
    "    print()\n",
    "    print(all_right_stim_scores[i])\n",
    "    print()\n",
    "    \n",
    "\n"
   ]
  },
  {
   "cell_type": "markdown",
   "metadata": {},
   "source": [
    "### decoder on vis and gocue slices\n",
    "\n",
    "brain_region:  vis ctx\n",
    "go/no go:  0.0021647542950417866\n",
    "min:  -1\n",
    "max:  0.7523960667164551\n",
    "\n",
    "[0.6636019822639541, 0.5656435264869, 0.6578947368421052, 0.48995983935742976, 0.5867413632119515, -1, -1, 0.6438611589214, 0.6048387096774194, 0.6599552572706936, -1, 0.7472700926357191, 0.7000000000000001, 0.7424469413233458, -1, -1, -1, -1, 0.4981388970516211, 0.5022178946229579, -1, 0.7274774774774775, 0.5827450980392157, 0.5238095238095238, 0.7011494252873564, 0.724764595103578, 0.6169000933706816, 0.5492021276595745, -1, -1, -1, -1, -1, -1, 0.7523960667164551, 0.6085271317829457, 0.6577413479052824, -1, 0.5771421306890415]\n",
    "\n",
    "right contrast:  -0.04798117919556956\n",
    "min:  -1\n",
    "max:  0.6463570127504553\n",
    "\n",
    "[0.6024387063119457, 0.525865366226812, 0.5, 0.5582329317269076, 0.6338001867413632, -1, -1, 0.5279690189328744, 0.5725806451612904, 0.4697986577181208, -1, 0.4795062878435026, 0.47, 0.5038285476487724, -1, -1, -1, -1, 0.5181702419433832, 0.549226441631505, -1, 0.5518018018018017, 0.5363398692810458, 0.6041986687147977, 0.521072796934866, 0.528436911487759, 0.6090102707749767, 0.605644208037825, -1, -1, -1, -1, -1, -1, 0.5498506348020912, 0.4728682170542636, 0.6463570127504553, -1, 0.5917365878464277]\n",
    "\n",
    "brain_region:  thal\n",
    "go/no go:  0.1382416044589164\n",
    "min:  -1\n",
    "max:  0.7649714391007922\n",
    "\n",
    "[-1, -1, 0.6447368421052632, 0.48995983935742976, -1, 0.6034149484536083, 0.6825396825396824, 0.6438611589214, 0.6129032258064516, 0.6666666666666666, 0.6842105263157894, 0.7472700926357191, 0.75, -1, 0.7649714391007922, 0.7143292915427439, 0.758978978978979, 0.7122791254866726, 0.5260064648839259, 0.5150384074434707, 0.4678668215253581, -1, 0.576078431372549, -1, -1, -1, 0.6208683473389356, 0.5492021276595745, -1, 0.6854314420803783, 0.6666666666666666, -1, 0.7590112433862434, 0.5676149247577819, 0.74592357480707, -1, -1, 0.6584501733755466, 0.5771421306890415]\n",
    "\n",
    "right contrast:  0.06703610610334919\n",
    "min:  -1\n",
    "max:  0.7309941520467836\n",
    "\n",
    "[-1, -1, 0.47807017543859653, 0.5582329317269076, -1, 0.5067654639175257, 0.45634920634920634, 0.5279690189328744, 0.5672043010752689, 0.47427293064876963, 0.7309941520467836, 0.4795062878435026, 0.48, -1, 0.4926478717523493, 0.5001906504995043, 0.611891891891892, 0.5347109913147648, 0.48187873444999507, 0.6171697500811425, 0.4839334107626791, -1, 0.5363398692810458, -1, -1, -1, 0.6050420168067228, 0.605644208037825, -1, 0.5391548463356974, 0.5569620253164557, -1, 0.5755621693121693, 0.594791451934309, 0.5498506348020912, -1, -1, 0.47753655962611186, 0.5917365878464277]\n",
    "\n",
    "brain_region:  hipp\n",
    "go/no go:  0.08109187188520664\n",
    "min:  -1\n",
    "max:  0.7966666666666667\n",
    "\n",
    "[0.6636019822639541, 0.5656435264869, 0.6578947368421052, 0.48192771084337344, 0.6025210084033614, 0.6034149484536083, 0.6507936507936508, 0.6438611589214, 0.6048387096774194, 0.6666666666666666, -1, 0.7472700926357191, 0.7966666666666667, 0.7424469413233458, -1, -1, -1, 0.7028451632225217, 0.5219414242335194, 0.5150384074434707, -1, -1, 0.5963398692810458, 0.5238095238095238, -1, -1, 0.5378151260504201, 0.5492021276595745, -1, 0.6854314420803783, 0.5189873417721519, -1, -1, -1, 0.7587752053771472, 0.6007751937984497, -1, 0.6584501733755466, 0.5656242054411391]\n",
    "\n",
    "right contrast:  0.024194456289292295\n",
    "min:  -1\n",
    "max:  0.6171697500811425\n",
    "\n",
    "[0.6024387063119457, 0.525865366226812, 0.5, 0.5742971887550201, 0.6099906629318393, 0.5067654639175257, 0.4365079365079365, 0.5279690189328744, 0.5725806451612904, 0.47427293064876963, -1, 0.4795062878435026, 0.48333333333333334, 0.5038285476487724, -1, -1, -1, 0.5378556454028152, 0.49794299147810756, 0.6171697500811425, -1, -1, 0.5296732026143791, 0.6041986687147977, -1, -1, 0.6089635854341736, 0.605644208037825, -1, 0.5391548463356974, 0.5527426160337553, -1, -1, -1, 0.5594971371670401, 0.4573643410852713, -1, 0.4472335293230816, 0.5887871853546911]\n",
    "\n",
    "brain_region:  other ctx\n",
    "go/no go:  0.17560676094386657\n",
    "min:  -1\n",
    "max:  0.7523960667164551\n",
    "\n",
    "[0.6588419405320813, -1, -1, 0.48995983935742976, 0.5592903828197946, 0.64465206185567, 0.6507936507936508, 0.6479250334672022, 0.6048387096774194, -1, 0.6842105263157894, 0.7472700926357191, 0.7433333333333333, 0.7424469413233458, -1, 0.728628079005567, -1, -1, -1, -1, 0.4283778552071235, 0.7297297297297298, -1, 0.5238095238095238, 0.7126436781609197, 0.724764595103578, 0.5339402427637722, 0.5492021276595745, 0.6954595791805094, 0.6854314420803783, 0.5105485232067511, 0.6921946003742314, -1, 0.5742458599601457, 0.7523960667164551, 0.5930232558139535, 0.6577413479052824, -1, 0.5829646580218664]\n",
    "\n",
    "right contrast:  0.1155316072419932\n",
    "min:  -1\n",
    "max:  0.7309941520467836\n",
    "\n",
    "[0.5886802295253001, -1, -1, 0.5582329317269076, 0.6258636788048553, 0.517110538373425, 0.4365079365079365, 0.48412698412698413, 0.5725806451612904, -1, 0.7309941520467836, 0.4795062878435026, 0.4766666666666666, 0.5038285476487724, -1, 0.5001906504995043, -1, -1, -1, -1, 0.516066589237321, 0.545045045045045, -1, 0.6041986687147977, 0.521072796934866, 0.5395480225988701, 0.6010270774976657, 0.605644208037825, 0.5861941675895164, 0.5391548463356974, 0.5611814345991561, 0.5500757373251358, -1, 0.6014223871366728, 0.5498506348020912, 0.4728682170542635, 0.6463570127504553, -1, 0.5917365878464277]\n",
    "\n",
    "brain_region:  midbrain\n",
    "go/no go:  -0.1896369093108338\n",
    "min:  -1\n",
    "max:  0.7792792792792792\n",
    "\n",
    "[-1, -1, 0.6447368421052632, -1, -1, -1, -1, -1, -1, 0.6554809843400448, -1, -1, 0.75, 0.7424469413233458, 0.7649714391007922, 0.7143292915427439, -1, 0.7122791254866726, 0.5260064648839259, -1, -1, 0.7792792792792792, -1, 0.5238095238095238, 0.7011494252873564, 0.724764595103578, -1, 0.5492021276595745, -1, -1, 0.5189873417721519, 0.7115744453354718, 0.7590112433862434, 0.5676149247577819, -1, 0.6007751937984497, 0.6577413479052824, -1, -1]\n",
    "\n",
    "right contrast:  -0.25312416463093856\n",
    "min:  -1\n",
    "max:  0.6463570127504553\n",
    "\n",
    "[-1, -1, 0.4868421052631579, -1, -1, -1, -1, -1, -1, 0.4697986577181208, -1, -1, 0.48, 0.5038285476487724, 0.4926478717523493, 0.5001906504995043, -1, 0.5347109913147648, 0.48187873444999507, -1, -1, 0.5270270270270271, -1, 0.6041986687147977, 0.5172413793103449, 0.5395480225988701, -1, 0.605644208037825, -1, -1, 0.5527426160337553, 0.557783123941905, 0.5755621693121693, 0.594791451934309, -1, 0.4573643410852713, 0.6463570127504553, -1, -1]"
   ]
  },
  {
   "cell_type": "markdown",
   "metadata": {},
   "source": [
    "\n",
    "### trained on entire dataset for each of the brain regions\n",
    "\n",
    "brain_region:  vis ctx\n",
    "go/no go:  0.021368611211360553\n",
    "min:  -1\n",
    "max:  0.8445945945945946\n",
    "\n",
    "[0.6778169014084506, 0.6211990820424554, 0.6403508771929824, 0.5502008032128515, 0.7402427637721756, -1, -1, 0.7800248613501625, 0.6854838709677419, 0.6442953020134228, -1, 0.7181597060497853, 0.7766666666666667, 0.7387016229712859, -1, -1, -1, -1, 0.6960525026937017, 0.5529049010061668, -1, 0.8445945945945946, 0.6430065359477125, 0.5184331797235023, 0.7241379310344828, 0.6580037664783428, 0.6172735760971054, 0.492612293144208, -1, -1, -1, -1, -1, -1, 0.7171085387104804, 0.6472868217054263, 0.46948998178506374, -1, 0.6793287566742944]\n",
    "\n",
    "reward:  0.008042341325400706\n",
    "min:  -1\n",
    "max:  0.7234901412824096\n",
    "\n",
    "[0.6919014084507041, 0.5935169248422261, 0.5789473684210527, 0.570281124497992, 0.6300186741363212, -1, -1, 0.6280837636259323, 0.6263440860215054, 0.6263982102908278, -1, 0.7234901412824096, 0.7200000000000001, 0.6716604244694132, -1, -1, -1, -1, 0.6074542070721912, 0.5699448231093801, -1, 0.6554054054054054, 0.7023529411764707, 0.5884963304318144, 0.6743295019157088, 0.64105461393597, 0.54593837535014, 0.5985520094562647, -1, -1, -1, -1, -1, -1, 0.6945481702763256, 0.6627906976744186, 0.6911657559198542, -1, 0.620976353928299]\n",
    "\n",
    "brain_region:  thal\n",
    "go/no go:  0.164976393176529\n",
    "min:  -1\n",
    "max:  0.8206615120274914\n",
    "\n",
    "[-1, -1, 0.6842105263157895, 0.5461847389558233, -1, 0.8206615120274914, 0.6349206349206349, 0.7800248613501625, 0.6801075268817204, 0.6442953020134228, 0.6871345029239766, 0.7122600010350361, 0.7766666666666667, -1, 0.722811866592961, 0.6607565011820331, 0.7411411411411412, 0.7090745732255166, 0.6878734449995102, 0.5529049010061668, 0.7259001161440185, -1, 0.6430065359477125, -1, -1, -1, 0.6133520074696545, 0.492612293144208, -1, 0.79048463356974, 0.7130801687763713, -1, 0.800760582010582, 0.5709132137703565, 0.7203136669156086, -1, -1, 0.6432986582240313, 0.6793287566742944]\n",
    "\n",
    "reward:  0.14889392714776625\n",
    "min:  -1\n",
    "max:  0.7855255255255255\n",
    "\n",
    "[-1, -1, 0.6008771929824561, 0.5622489959839357, -1, 0.7720861970217641, 0.623015873015873, 0.6280837636259323, 0.6397849462365591, 0.6263982102908278, 0.7251461988304092, 0.7029705532267246, 0.7200000000000001, -1, 0.717689331122167, 0.7181041714329292, 0.7855255255255255, 0.7533692722371969, 0.6034381428151631, 0.5699448231093801, 0.5723964382500969, -1, 0.7023529411764707, -1, -1, -1, 0.545891690009337, 0.5985520094562647, -1, 0.6926713947990543, 0.6877637130801687, -1, 0.7275132275132276, 0.5540094825809111, 0.6977532984814538, -1, -1, 0.6582994120307553, 0.620976353928299]\n",
    "\n",
    "brain_region:  hipp\n",
    "go/no go:  0.11040253470043616\n",
    "min:  -1\n",
    "max:  0.8206615120274914\n",
    "\n",
    "[0.6778169014084506, 0.6171830177854275, 0.6842105263157895, 0.5502008032128515, 0.7402894491129786, 0.8206615120274914, 0.6547619047619048, 0.7800248613501625, 0.6854838709677419, 0.6554809843400448, -1, 0.7122600010350361, 0.7366666666666667, 0.7387016229712859, -1, -1, -1, 0.49029649595687336, 0.69610147908708, 0.557232500270475, -1, -1, 0.6430065359477125, 0.5294418842805939, -1, -1, 0.6133520074696545, 0.492612293144208, -1, 0.7974290780141843, 0.7299578059071731, -1, -1, -1, 0.7171085387104804, 0.6627906976744186, -1, 0.6432986582240313, 0.6793287566742944]\n",
    "\n",
    "reward:  0.09189649394935336\n",
    "min:  -1\n",
    "max:  0.7720861970217641\n",
    "\n",
    "[0.6919014084507041, 0.589500860585198, 0.6008771929824561, 0.570281124497992, 0.6144257703081233, 0.7720861970217641, 0.6111111111111112, 0.6320998278829604, 0.6263440860215054, 0.6308724832214765, -1, 0.7029705532267246, 0.6733333333333333, 0.6716604244694132, -1, -1, -1, 0.6902964959568734, 0.5953080615143501, 0.5530130909877745, -1, -1, 0.7023529411764707, 0.6095750128008192, -1, -1, 0.545891690009337, 0.5985520094562647, -1, 0.6926713947990543, 0.6160337552742616, -1, -1, -1, 0.6945481702763256, 0.624031007751938, -1, 0.6532489069802502, 0.620976353928299]\n",
    "\n",
    "brain_region:  other ctx\n",
    "go/no go:  0.2118023582778668\n",
    "min:  -1\n",
    "max:  0.8671171171171173\n",
    "\n",
    "[0.677621283255086, -1, -1, 0.5502008032128515, 0.7402894491129786, 0.8206615120274914, 0.6547619047619048, 0.7720883534136546, 0.6854838709677419, -1, 0.6842105263157895, 0.7122600010350361, 0.77, 0.7200582605076987, -1, 0.7145199420422482, -1, -1, -1, -1, 0.6771196283391405, 0.8671171171171173, -1, 0.5184331797235023, 0.7088122605363986, 0.6580037664783428, 0.6172735760971054, 0.492612293144208, 0.7737172388335178, 0.8114657210401891, 0.7215189873417721, 0.776886750423238, -1, 0.6115577544148972, 0.7171085387104804, 0.6627906976744186, 0.4643897996357012, -1, 0.6793287566742944]\n",
    "\n",
    "reward:  0.1829394884300087\n",
    "min:  -1\n",
    "max:  0.7720861970217641\n",
    "\n",
    "[0.6871413667188314, -1, -1, 0.570281124497992, 0.6025676937441643, 0.7720861970217641, 0.6111111111111112, 0.6161311914323963, 0.6263440860215054, -1, 0.7397660818713451, 0.7029705532267246, 0.7066666666666667, 0.6416562630045776, -1, 0.7216884008236102, -1, -1, -1, -1, 0.5646535036778939, 0.6486486486486487, -1, 0.5884963304318144, 0.6781609195402298, 0.64105461393597, 0.54593837535014, 0.5985520094562647, 0.6718346253229974, 0.68572695035461, 0.6329113924050632, 0.7305533279871691, -1, 0.5574108431251288, 0.6945481702763256, 0.624031007751938, 0.6527322404371585, -1, 0.620976353928299]\n",
    "\n",
    "brain_region:  midbrain\n",
    "go/no go:  -0.18571548600167628\n",
    "min:  -1\n",
    "max:  0.8671171171171171\n",
    "\n",
    "[-1, -1, 0.6491228070175438, -1, -1, -1, -1, -1, -1, 0.6510067114093959, -1, -1, 0.7366666666666667, 0.7387016229712859, 0.7252994287820158, 0.6607565011820331, -1, 0.49029649595687336, 0.69610147908708, -1, -1, 0.8671171171171171, -1, 0.5294418842805939, 0.7241379310344828, 0.6580037664783428, -1, 0.492612293144208, -1, -1, 0.7299578059071731, 0.7730553327987169, 0.800760582010582, 0.5709132137703565, -1, 0.6550387596899224, 0.6081056466302369, -1, -1]\n",
    "\n",
    "reward:  -0.19384093855948845\n",
    "min:  -1\n",
    "max:  0.7383052659716652\n",
    "\n",
    "[-1, -1, 0.6403508771929824, -1, -1, -1, -1, -1, -1, 0.6308724832214765, -1, -1, 0.6733333333333333, 0.6716604244694132, 0.73510226644555, 0.7181041714329292, -1, 0.6902964959568734, 0.5953080615143501, -1, -1, 0.6509009009009009, -1, 0.6095750128008192, 0.6743295019157088, 0.64105461393597, -1, 0.5985520094562647, -1, -1, 0.6160337552742616, 0.7383052659716652, 0.7275132275132276, 0.5540094825809111, -1, 0.627906976744186, 0.6469945355191257, -1, -1]\n",
    "\n"
   ]
  },
  {
   "cell_type": "markdown",
   "metadata": {},
   "source": [
    "### Scores trained on visual stimulus slice \n",
    "\n",
    "comp:  3\n",
    "go/no go:  0.648141736905482\n",
    "min:  0.4998625712911427\n",
    "max:  0.8205183276059564\n",
    "\n",
    "[0.6443661971830985, 0.6773283610633009, 0.6666666666666666, 0.6144578313253012, 0.6211951447245565, 0.8205183276059564, 0.5912698412698413, 0.7121342512908777, 0.6827956989247311, 0.6532438478747203, 0.7602339181286549, 0.6733167727578534, 0.63, 0.6076154806491886, 0.6253731343283583, 0.7177228704339206, 0.7048648648648649, 0.6674453429170409, 0.5626897835243413, 0.5786541166288001, 0.581107239643825, 0.6463963963963963, 0.5952941176470589, 0.5453149001536098, 0.7049808429118775, 0.652542372881356, 0.6598039215686274, 0.5066489361702127, 0.7731635289774825, 0.594710401891253, 0.7383966244725739, 0.611556624788381, 0.7848048941798943, 0.4998625712911427, 0.6358289768483943, 0.6395348837209303, 0.6908925318761385, 0.5927182270465853, 0.6120772946859904]\n",
    "\n",
    "reward:  0.5862383543438423\n",
    "min:  0.4115890083632019\n",
    "max:  0.7941741741741741\n",
    "\n",
    "[0.5839853938445488, 0.5574679671065214, 0.5701754385964912, 0.5502008032128514, 0.5700280112044819, 0.6516323024054983, 0.5396825396825397, 0.6440045897877223, 0.6155913978494624, 0.5906040268456376, 0.6637426900584795, 0.6234539150235471, 0.6033333333333334, 0.5892218060757387, 0.5833241201400404, 0.6177838785937619, 0.7941741741741741, 0.613686732554657, 0.554657655010285, 0.5192037217353672, 0.556523422377081, 0.5518018018018018, 0.49699346405228767, 0.4115890083632019, 0.5938697318007663, 0.5110169491525424, 0.5455182072829132, 0.5344267139479906, 0.5703211517165006, 0.5245271867612292, 0.6286919831223629, 0.6574890849149069, 0.6172288359788359, 0.5265580979866694, 0.6135486681603186, 0.5736434108527132, 0.6514571948998179, 0.5623398160711593, 0.6997965929316043]\n",
    "\n",
    "comp:  15\n",
    "go/no go:  0.6636129069161718\n",
    "min:  0.5026143790849673\n",
    "max:  0.8116234539150234\n",
    "\n",
    "[0.6818596765779864, 0.5694205393000574, 0.6447368421052632, 0.5622489959839357, 0.6095704948646125, 0.7653923253150058, 0.6031746031746031, 0.7323101931535666, 0.706989247311828, 0.691275167785235, 0.7602339181286549, 0.8116234539150234, 0.7666666666666667, 0.6637952559300875, 0.6278606965174129, 0.6067261496225121, 0.7137537537537537, 0.6737047020065888, 0.574786952688804, 0.6170615600995348, 0.6128532713898568, 0.7162162162162162, 0.5026143790849673, 0.529441884280594, 0.7586206896551725, 0.7639359698681732, 0.6758169934640522, 0.62677304964539, 0.6792174234034699, 0.601063829787234, 0.7468354430379747, 0.7424485431702754, 0.7957175925925926, 0.526832955404384, 0.6747261638038337, 0.5697674418604651, 0.7074681238615664, 0.6231720186944067, 0.6441901856089499]\n",
    "\n",
    "reward:  0.6029774296019483\n",
    "min:  0.3690902884451271\n",
    "max:  0.7987987987987988\n",
    "\n",
    "[0.5839853938445488, 0.5730541212468923, 0.6228070175438596, 0.5662650602409638, 0.5779178338001868, 0.6895045819014891, 0.5753968253968255, 0.6440045897877223, 0.6344086021505376, 0.5525727069351231, 0.7017543859649124, 0.7058427780365367, 0.6566666666666667, 0.5891801914273824, 0.6007370554634236, 0.5817128040875468, 0.7987987987987988, 0.6516022761305781, 0.5504456851797433, 0.4893973818024451, 0.5807200929152149, 0.6351351351351352, 0.5222222222222223, 0.3690902884451271, 0.6245210727969349, 0.5499999999999999, 0.5019607843137255, 0.5629432624113475, 0.6005906238464379, 0.5523049645390071, 0.5738396624472574, 0.6153880424129021, 0.6276455026455027, 0.5366934652648938, 0.7038523773960668, 0.5930232558139535, 0.6682149362477232, 0.6581486506859641, 0.6937706585303839]\n",
    "\n",
    "\n",
    "### scores trained on gocue slice \n",
    "\n",
    "comp:  3\n",
    "go/no go:  0.760533580288684\n",
    "min:  0.6041133299197815\n",
    "max:  0.9113924050632911\n",
    "\n",
    "[0.7475221700573814, 0.7406291834002676, 0.6184210526315789, 0.7630522088353414, 0.7633053221288515, 0.7137027491408935, 0.7023809523809524, 0.8398833428953911, 0.8387096774193549, 0.7718120805369127, 0.8245614035087719, 0.820602390933085, 0.7366666666666667, 0.7722430295464003, 0.7148332412014003, 0.8286052009456265, 0.7852852852852853, 0.6390536088649296, 0.6112253893623274, 0.6337228172671211, 0.7340301974448317, 0.7995495495495496, 0.80718954248366, 0.6041133299197815, 0.89272030651341, 0.6458568738229755, 0.7745564892623715, 0.8518026004728133, 0.8905500184569952, 0.8322990543735225, 0.9113924050632911, 0.7153613115922659, 0.8263062169312169, 0.733044733044733, 0.790982076176251, 0.7674418604651162, 0.7296903460837888, 0.7789838685361072, 0.7087210780574624]\n",
    "\n",
    "reward:  0.6383206282694118\n",
    "min:  0.5402632597754549\n",
    "max:  0.7500922849760059\n",
    "\n",
    "[0.6870109546165883, 0.6012143813348633, 0.5833333333333334, 0.6184738955823293, 0.5744631185807657, 0.5686569301260024, 0.5873015873015873, 0.6723560910307899, 0.696236559139785, 0.610738255033557, 0.6198830409356725, 0.6414117890596698, 0.7033333333333333, 0.6790678318768206, 0.5811129537497697, 0.6784488675360328, 0.6736936936936937, 0.6261755016471998, 0.6476148496424723, 0.5447906523855891, 0.5402632597754549, 0.5698198198198198, 0.6483660130718955, 0.6089776412357057, 0.6819923371647509, 0.6402071563088513, 0.6324463118580765, 0.6764184397163121, 0.7500922849760059, 0.6855791962174941, 0.708860759493671, 0.6462175888799786, 0.6331018518518519, 0.6080533223390366, 0.6847771969131192, 0.5968992248062016, 0.7459016393442623, 0.643374038896427, 0.5978387998982965]\n",
    "\n",
    "comp:  15\n",
    "go/no go:  0.784952031387013\n",
    "min:  0.6039164773341988\n",
    "max:  0.8983019564414914\n",
    "\n",
    "[0.7428925404277518, 0.7764390896921016, 0.6929824561403509, 0.7309236947791163, 0.7711951447245564, 0.7789948453608248, 0.75, 0.8239625167336011, 0.836021505376344, 0.7919463087248322, 0.8333333333333334, 0.8088288568027738, 0.8000000000000002, 0.824635871826883, 0.7446287083103004, 0.792877297338519, 0.8077477477477478, 0.8670560047918539, 0.6638750122440983, 0.6039164773341988, 0.686217576461479, 0.7905405405405405, 0.7877124183006536, 0.6206690561529271, 0.8812260536398467, 0.8597928436911487, 0.7864145658263305, 0.8308215130023641, 0.8983019564414914, 0.8182624113475176, 0.869198312236287, 0.8343134634233271, 0.8420138888888888, 0.8208960351817495, 0.8392145880009957, 0.7596899224806202, 0.7518214936247724, 0.759007990351274, 0.7347571828121028]\n",
    "\n",
    "reward:  0.6463275922023092\n",
    "min:  0.518689196108551\n",
    "max:  0.7900300300300301\n",
    "\n",
    "[0.6355633802816901, 0.577261426659017, 0.6228070175438596, 0.6024096385542169, 0.6020074696545284, 0.6033433562428407, 0.638888888888889, 0.6921973608720596, 0.7043010752688171, 0.6196868008948546, 0.6228070175438597, 0.6824250892718521, 0.73, 0.6754889721181856, 0.6306430808918371, 0.617745748493861, 0.7900300300300301, 0.620125786163522, 0.6479087080027427, 0.5274802553283565, 0.54045683313976, 0.6306306306306307, 0.6813071895424837, 0.518689196108551, 0.6781609195402298, 0.7080037664783427, 0.6442577030812325, 0.6060874704491725, 0.7654115909929864, 0.6578014184397163, 0.6751054852320676, 0.6844872137574622, 0.6226025132275131, 0.6384937813509243, 0.6717699775952203, 0.5968992248062016, 0.7570127504553734, 0.668475802804161, 0.618001525553013]\n",
    "\n",
    "\n",
    "\n",
    "### On entire dataset without getting rid of inactive neurons\n",
    "\n",
    "comp:  3\n",
    "go/no go:  0.841477784923315\n",
    "min:  0.6881812966150315\n",
    "max:  0.9690363688430699\n",
    "\n",
    "[0.8594809598330725, 0.6881812966150315, 0.7850877192982456, 0.7108433734939759, 0.8427637721755369, 0.9690363688430699, 0.8015873015873015, 0.7884394721744119, 0.9327956989247311, 0.8970917225950782, 0.9239766081871346, 0.8763649536821405, 0.85, 0.806034124011652, 0.7222222222222222, 0.7678258217036529, 0.8882882882882882, 0.8891584306678646, 0.8743755509844254, 0.9319485015687548, 0.9037940379403794, 0.8693693693693695, 0.8411764705882353, 0.85031575354156, 0.8735632183908045, 0.8483050847457627, 0.7982726423902894, 0.7814716312056738, 0.9451827242524917, 0.797724586288416, 0.9240506329113923, 0.9231488906709435, 0.8371362433862434, 0.9222153507867793, 0.6969442369927806, 0.8372093023255814, 0.7517304189435338, 0.8145635459068293, 0.7959572845156369]\n",
    "\n",
    "reward:  0.6835907933142911\n",
    "min:  0.561613144137416\n",
    "max:  0.8125525525525527\n",
    "\n",
    "[0.6729916536254565, 0.5927041499330656, 0.6578947368421052, 0.5903614457831325, 0.6452380952380952, 0.5821878579610539, 0.6031746031746031, 0.6560527825588066, 0.6989247311827956, 0.6085011185682326, 0.7163742690058479, 0.7295451016922838, 0.7933333333333333, 0.7947981689554723, 0.6182605491063202, 0.5924273621596888, 0.8125525525525527, 0.7338724168912849, 0.6964932902341072, 0.7154062533809369, 0.686411149825784, 0.6734234234234234, 0.6486274509803921, 0.6524150878989589, 0.7624521072796936, 0.7589453860640302, 0.7274509803921569, 0.6897163120567376, 0.7500922849760059, 0.6012115839243498, 0.7763713080168776, 0.7000356410941816, 0.7540509259259259, 0.6246821961107676, 0.561613144137416, 0.686046511627907, 0.7346994535519125, 0.6786521935775668, 0.6820493262140858]\n",
    "\n",
    "comp:  15\n",
    "go/no go:  0.8346220100425589\n",
    "min:  0.6027450980392156\n",
    "max:  0.972401202749141\n",
    "\n",
    "[0.7571726656233698, 0.7126601644673934, 0.850877192982456, 0.8232931726907631, 0.8068627450980391, 0.972401202749141, 0.888888888888889, 0.7922164849875694, 0.9247311827956989, 0.8680089485458612, 0.935672514619883, 0.864513791854267, 0.85, 0.7648356221389928, 0.7943246729316381, 0.7463204453595669, 0.8748348348348348, 0.8353698712189278, 0.8096287589381918, 0.8765552309856108, 0.726867982965544, 0.8873873873873874, 0.6027450980392156, 0.7922853729305342, 0.8773946360153256, 0.8203389830508474, 0.853548085901027, 0.8034869976359338, 0.8981173864894795, 0.8882978723404255, 0.919831223628692, 0.9231488906709435, 0.8897156084656084, 0.9187109187109187, 0.8001306945481703, 0.813953488372093, 0.7183060109289617, 0.8244384139906528, 0.8423849478769387]\n",
    "\n",
    "reward:  0.6825107979545234\n",
    "min:  0.47555555555555556\n",
    "max:  0.8436036036036038\n",
    "\n",
    "[0.6542775169535733, 0.5728628800917958, 0.7631578947368421, 0.610441767068273, 0.5820728291316527, 0.7308132875143184, 0.7777777777777778, 0.6640371007840887, 0.706989247311828, 0.7024608501118569, 0.7339181286549707, 0.7884127723438389, 0.7233333333333333, 0.7235538909696212, 0.6828818868619863, 0.6817661862274079, 0.8436036036036038, 0.6895477687930519, 0.6843961210696444, 0.5874716001298279, 0.597367402245451, 0.7229729729729731, 0.47555555555555556, 0.6152073732718893, 0.7624521072796936, 0.7077212806026365, 0.715546218487395, 0.5916075650118203, 0.6404577334809893, 0.6224881796690307, 0.7383966244725738, 0.7538091419406575, 0.7696759259259259, 0.7060399917542775, 0.6165048543689321, 0.6395348837209301, 0.7071038251366121, 0.6583747927031509, 0.6733282481566235]\n",
    "\n",
    "\n",
    "\n",
    "### entire dataset gettting rid of inactive neurons\n",
    "\n",
    "comp:  3\n",
    "go/no go:  0.7941690860959338\n",
    "min:  0.6\n",
    "max:  0.946236559139785\n",
    "\n",
    "[0.8454616588419405, 0.7161503155479059, 0.8684210526315789, 0.7670682730923696, 0.6844537815126049, 0.8411010882016036, 0.6428571428571428, 0.7442149550583285, 0.946236559139785, 0.7919463087248322, 0.9298245614035089, 0.8380944987838328, 0.6733333333333333, 0.6, 0.6208033904551318, 0.7316784869976359, 0.807927927927928, 0.7341120095837077, 0.8824076794984818, 0.9106891701828411, 0.8952768099109562, 0.8693693693693693, 0.8413071895424836, 0.8031233998975935, 0.89272030651341, 0.7361581920903953, 0.8298786181139123, 0.8661347517730498, 0.9372462163159838, 0.8467789598108747, 0.8016877637130801, 0.8577920342154505, 0.7847222222222222, 0.8177351748780319, 0.8100572566591984, 0.6705426356589147, 0.713023679417122, 0.6786521935775668, 0.7436053902873124]\n",
    "\n",
    "reward:  0.6454776040193364\n",
    "min:  0.5441496222590749\n",
    "max:  0.7754237288135594\n",
    "\n",
    "[0.6542123109024517, 0.5490533562822719, 0.5614035087719299, 0.6305220883534136, 0.5661531279178338, 0.5610681557846505, 0.5912698412698413, 0.6439089692101739, 0.6989247311827956, 0.6331096196868008, 0.6754385964912281, 0.7235677689799721, 0.5933333333333334, 0.5667082813150229, 0.5441496222590749, 0.5494547395714177, 0.6610810810810811, 0.603863432165319, 0.6885591145068076, 0.6515200692415882, 0.6618273325590399, 0.6509009009009009, 0.6622222222222223, 0.6579621095750129, 0.7739463601532567, 0.7754237288135594, 0.6599439775910364, 0.6836583924349883, 0.7188999630860096, 0.6223404255319149, 0.7130801687763714, 0.6882740800142564, 0.6902281746031745, 0.6517900089328661, 0.6360468010953448, 0.5891472868217055, 0.7459016393442623, 0.5976933514246947, 0.6470378845664887]\n"
   ]
  }
 ],
 "metadata": {
  "colab": {
   "collapsed_sections": [],
   "name": "steinmetz group project.ipynb",
   "provenance": [],
   "toc_visible": true
  },
  "kernelspec": {
   "display_name": "Python 3",
   "language": "python",
   "name": "python3"
  },
  "language_info": {
   "codemirror_mode": {
    "name": "ipython",
    "version": 3
   },
   "file_extension": ".py",
   "mimetype": "text/x-python",
   "name": "python",
   "nbconvert_exporter": "python",
   "pygments_lexer": "ipython3",
   "version": "3.6.10"
  }
 },
 "nbformat": 4,
 "nbformat_minor": 1
}
